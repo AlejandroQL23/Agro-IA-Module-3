{
 "cells": [
  {
   "cell_type": "code",
   "id": "initial_id",
   "metadata": {
    "collapsed": true,
    "ExecuteTime": {
     "end_time": "2025-07-09T01:23:25.439583Z",
     "start_time": "2025-07-09T01:23:25.433999Z"
    }
   },
   "source": [
    "\"\"\"\n",
    "Clase: rnn\n",
    "\n",
    "Objetivo: modelo\n",
    "\n",
    "Cambios:\n",
    "\n",
    "    1. Creacion de modelo aquesada 07-07-2025\n",
    "\"\"\""
   ],
   "outputs": [
    {
     "data": {
      "text/plain": [
       "'\\nClase: rnn\\n\\nObjetivo: modelo\\n\\nCambios:\\n\\n    1. Creacion de modelo aquesada 07-07-2025\\n'"
      ]
     },
     "execution_count": 286,
     "metadata": {},
     "output_type": "execute_result"
    }
   ],
   "execution_count": 286
  },
  {
   "metadata": {
    "ExecuteTime": {
     "end_time": "2025-07-09T01:23:32.063938Z",
     "start_time": "2025-07-09T01:23:32.060114Z"
    }
   },
   "cell_type": "code",
   "source": [
    "import pandas as pd\n",
    "import matplotlib.pyplot as plt\n",
    "import seaborn as sns\n",
    "import tensorflow as tf\n",
    "from tensorflow.keras.models import Sequential\n",
    "from tensorflow.keras.layers import Dense, Activation,Dropout\n",
    "from sklearn.model_selection import train_test_split\n",
    "from tensorflow.keras.callbacks import EarlyStopping\n",
    "\n",
    "from sklearn.utils.class_weight import compute_class_weight\n",
    "import numpy as np\n",
    "from sklearn.metrics import classification_report,confusion_matrix\n",
    "from sklearn.preprocessing import MinMaxScaler\n",
    "\n",
    "\n"
   ],
   "id": "a990e8059252bf38",
   "outputs": [],
   "execution_count": 287
  },
  {
   "metadata": {
    "ExecuteTime": {
     "end_time": "2025-07-09T01:23:34.297106Z",
     "start_time": "2025-07-09T01:23:34.254645Z"
    }
   },
   "cell_type": "code",
   "source": "df = pd.read_csv('../../data/processed/recomendaciones.csv',encoding = \"ISO-8859-1\",delimiter=',')",
   "id": "406d74110ddb097a",
   "outputs": [],
   "execution_count": 288
  },
  {
   "metadata": {
    "ExecuteTime": {
     "end_time": "2025-07-09T01:23:35.105612Z",
     "start_time": "2025-07-09T01:23:35.100745Z"
    }
   },
   "cell_type": "code",
   "source": "df.drop(columns=[\"YEAR\", \"MONTH\"], inplace=True)",
   "id": "576f6bea9d316a88",
   "outputs": [],
   "execution_count": 289
  },
  {
   "metadata": {
    "ExecuteTime": {
     "end_time": "2025-07-09T01:23:35.899712Z",
     "start_time": "2025-07-09T01:23:35.896256Z"
    }
   },
   "cell_type": "code",
   "source": "X = df.drop('Recomendacion',axis=1).values",
   "id": "569d313257300ae5",
   "outputs": [],
   "execution_count": 290
  },
  {
   "metadata": {
    "ExecuteTime": {
     "end_time": "2025-07-09T01:23:36.909721Z",
     "start_time": "2025-07-09T01:23:36.906267Z"
    }
   },
   "cell_type": "code",
   "source": "y = df['Recomendacion']",
   "id": "115acf09dc20dd16",
   "outputs": [],
   "execution_count": 291
  },
  {
   "metadata": {
    "ExecuteTime": {
     "end_time": "2025-07-09T01:23:37.839219Z",
     "start_time": "2025-07-09T01:23:37.834523Z"
    }
   },
   "cell_type": "code",
   "source": "y = pd.get_dummies(y)",
   "id": "ae0b594a9a084c93",
   "outputs": [],
   "execution_count": 292
  },
  {
   "metadata": {
    "ExecuteTime": {
     "end_time": "2025-07-09T01:23:38.453740Z",
     "start_time": "2025-07-09T01:23:38.450988Z"
    }
   },
   "cell_type": "code",
   "source": "y = y.values",
   "id": "61bf8e0fa6807907",
   "outputs": [],
   "execution_count": 293
  },
  {
   "metadata": {
    "ExecuteTime": {
     "end_time": "2025-07-09T01:23:39.199422Z",
     "start_time": "2025-07-09T01:23:39.195525Z"
    }
   },
   "cell_type": "code",
   "source": "y",
   "id": "1b1bfe51781e70f1",
   "outputs": [
    {
     "data": {
      "text/plain": [
       "array([[ True, False, False],\n",
       "       [False, False,  True],\n",
       "       [False, False,  True],\n",
       "       ...,\n",
       "       [False,  True, False],\n",
       "       [False,  True, False],\n",
       "       [False, False,  True]])"
      ]
     },
     "execution_count": 294,
     "metadata": {},
     "output_type": "execute_result"
    }
   ],
   "execution_count": 294
  },
  {
   "metadata": {
    "ExecuteTime": {
     "end_time": "2025-07-09T01:23:41.346793Z",
     "start_time": "2025-07-09T01:23:41.340589Z"
    }
   },
   "cell_type": "code",
   "source": "X_train, X_test, y_train, y_test = train_test_split(X,y,test_size=0.25,random_state=101,stratify=y)",
   "id": "38a772c94f1a6b89",
   "outputs": [],
   "execution_count": 295
  },
  {
   "metadata": {
    "ExecuteTime": {
     "end_time": "2025-07-09T01:23:42.578525Z",
     "start_time": "2025-07-09T01:23:42.574350Z"
    }
   },
   "cell_type": "code",
   "source": "X_train.shape",
   "id": "3814c3432969b223",
   "outputs": [
    {
     "data": {
      "text/plain": [
       "(396, 5)"
      ]
     },
     "execution_count": 296,
     "metadata": {},
     "output_type": "execute_result"
    }
   ],
   "execution_count": 296
  },
  {
   "metadata": {
    "ExecuteTime": {
     "end_time": "2025-07-09T01:23:43.451167Z",
     "start_time": "2025-07-09T01:23:43.447065Z"
    }
   },
   "cell_type": "code",
   "source": "X_test.shape",
   "id": "5435ef2e12de9904",
   "outputs": [
    {
     "data": {
      "text/plain": [
       "(132, 5)"
      ]
     },
     "execution_count": 297,
     "metadata": {},
     "output_type": "execute_result"
    }
   ],
   "execution_count": 297
  },
  {
   "metadata": {
    "ExecuteTime": {
     "end_time": "2025-07-09T01:23:45.534420Z",
     "start_time": "2025-07-09T01:23:45.522514Z"
    }
   },
   "cell_type": "code",
   "source": [
    "model = Sequential()\n",
    "# Elegir número de capas (layers)\n",
    "#https://stats.stackexchange.com/questions/181/how-to-choose-the-number-of-hidden-layers-and-nodes-in-a-feedforward-neural-netw\n",
    "num_neuronas = X_train.shape[1]\n",
    "# Indicar tantas neuronas de salida como clases a predecir, en este caso 3 (variable \"Interest_Rate\")\n",
    "num_neuronas_salida = len(df[\"Recomendacion\"].unique())\n",
    "#Capa inicial usando Input\n",
    "model.add(Dense(units=num_neuronas, activation='relu'))\n",
    "model.add(Dense(units=num_neuronas, activation='relu'))\n",
    "model.add(Dense(num_neuronas_salida, activation='softmax'))  # softmax para multiclase - softmax activation distribuye la probabilidad sobre cada nodo de salida (clase)\n",
    "\n",
    "# Para clasificación multiclase \"categorical_crossentropy\"\n",
    "model.compile(loss='categorical_crossentropy', optimizer='adam',metrics=['categorical_accuracy'])"
   ],
   "id": "62cc93b01e589d3a",
   "outputs": [],
   "execution_count": 298
  },
  {
   "metadata": {
    "ExecuteTime": {
     "end_time": "2025-07-09T01:23:47.088073Z",
     "start_time": "2025-07-09T01:23:47.083088Z"
    }
   },
   "cell_type": "code",
   "source": [
    "# Convertir y_train de one-hot a etiquetas numéricas para calcular pesos de clase,ayudan a balancear el entrenamiento.\n",
    "y_raw = np.argmax(y_train, axis=1) + 1\n",
    "\n",
    "# Calcular pesos de clase\n",
    "clases = np.unique(y_raw)\n",
    "pesos = compute_class_weight(class_weight='balanced', classes=clases, y=y_raw)\n",
    "pesos_dict = dict(zip(clases, pesos))\n"
   ],
   "id": "cd9ea0f1843fe1e5",
   "outputs": [
    {
     "name": "stdout",
     "output_type": "stream",
     "text": [
      "Pesos de clase: {np.int64(1): np.float64(1.1379310344827587), np.int64(2): np.float64(0.8407643312101911), np.int64(3): np.float64(1.0731707317073171)}\n"
     ]
    }
   ],
   "execution_count": 299
  },
  {
   "metadata": {
    "ExecuteTime": {
     "end_time": "2025-07-09T01:23:48.901640Z",
     "start_time": "2025-07-09T01:23:48.892027Z"
    }
   },
   "cell_type": "code",
   "source": "early_stop = EarlyStopping(monitor='val_loss', mode='min', verbose=1, patience=15)",
   "id": "4aae0cbee45a6a3b",
   "outputs": [],
   "execution_count": 300
  },
  {
   "metadata": {
    "ExecuteTime": {
     "end_time": "2025-07-09T01:35:06.797882Z",
     "start_time": "2025-07-09T01:34:52.682352Z"
    }
   },
   "cell_type": "code",
   "source": [
    "# Entrenar el modelo\n",
    "model.fit(x=X_train,\n",
    "          y=y_train,\n",
    "          epochs=300,\n",
    "          batch_size=256,\n",
    "          validation_data=(X_test, y_test), verbose=1,\n",
    "          callbacks=[early_stop],\n",
    "           class_weight=pesos_dict\n",
    "          )"
   ],
   "id": "7c96a2b4994f1fe3",
   "outputs": [
    {
     "name": "stdout",
     "output_type": "stream",
     "text": [
      "Epoch 1/300\n",
      "\u001B[1m2/2\u001B[0m \u001B[32m━━━━━━━━━━━━━━━━━━━━\u001B[0m\u001B[37m\u001B[0m \u001B[1m0s\u001B[0m 60ms/step - categorical_accuracy: 0.9052 - loss: 0.2789 - val_categorical_accuracy: 0.9167 - val_loss: 0.2858\n",
      "Epoch 2/300\n",
      "\u001B[1m2/2\u001B[0m \u001B[32m━━━━━━━━━━━━━━━━━━━━\u001B[0m\u001B[37m\u001B[0m \u001B[1m0s\u001B[0m 47ms/step - categorical_accuracy: 0.9094 - loss: 0.2750 - val_categorical_accuracy: 0.9167 - val_loss: 0.2853\n",
      "Epoch 3/300\n",
      "\u001B[1m2/2\u001B[0m \u001B[32m━━━━━━━━━━━━━━━━━━━━\u001B[0m\u001B[37m\u001B[0m \u001B[1m0s\u001B[0m 50ms/step - categorical_accuracy: 0.9052 - loss: 0.2745 - val_categorical_accuracy: 0.9167 - val_loss: 0.2850\n",
      "Epoch 4/300\n",
      "\u001B[1m2/2\u001B[0m \u001B[32m━━━━━━━━━━━━━━━━━━━━\u001B[0m\u001B[37m\u001B[0m \u001B[1m0s\u001B[0m 60ms/step - categorical_accuracy: 0.9039 - loss: 0.2778 - val_categorical_accuracy: 0.9167 - val_loss: 0.2847\n",
      "Epoch 5/300\n",
      "\u001B[1m2/2\u001B[0m \u001B[32m━━━━━━━━━━━━━━━━━━━━\u001B[0m\u001B[37m\u001B[0m \u001B[1m0s\u001B[0m 60ms/step - categorical_accuracy: 0.9042 - loss: 0.2837 - val_categorical_accuracy: 0.9167 - val_loss: 0.2844\n",
      "Epoch 6/300\n",
      "\u001B[1m2/2\u001B[0m \u001B[32m━━━━━━━━━━━━━━━━━━━━\u001B[0m\u001B[37m\u001B[0m \u001B[1m0s\u001B[0m 47ms/step - categorical_accuracy: 0.9065 - loss: 0.2787 - val_categorical_accuracy: 0.9167 - val_loss: 0.2842\n",
      "Epoch 7/300\n",
      "\u001B[1m2/2\u001B[0m \u001B[32m━━━━━━━━━━━━━━━━━━━━\u001B[0m\u001B[37m\u001B[0m \u001B[1m0s\u001B[0m 47ms/step - categorical_accuracy: 0.9137 - loss: 0.2727 - val_categorical_accuracy: 0.9167 - val_loss: 0.2842\n",
      "Epoch 8/300\n",
      "\u001B[1m2/2\u001B[0m \u001B[32m━━━━━━━━━━━━━━━━━━━━\u001B[0m\u001B[37m\u001B[0m \u001B[1m0s\u001B[0m 50ms/step - categorical_accuracy: 0.9085 - loss: 0.2790 - val_categorical_accuracy: 0.9167 - val_loss: 0.2842\n",
      "Epoch 9/300\n",
      "\u001B[1m2/2\u001B[0m \u001B[32m━━━━━━━━━━━━━━━━━━━━\u001B[0m\u001B[37m\u001B[0m \u001B[1m0s\u001B[0m 49ms/step - categorical_accuracy: 0.9137 - loss: 0.2742 - val_categorical_accuracy: 0.9167 - val_loss: 0.2841\n",
      "Epoch 10/300\n",
      "\u001B[1m2/2\u001B[0m \u001B[32m━━━━━━━━━━━━━━━━━━━━\u001B[0m\u001B[37m\u001B[0m \u001B[1m0s\u001B[0m 48ms/step - categorical_accuracy: 0.9111 - loss: 0.2727 - val_categorical_accuracy: 0.9167 - val_loss: 0.2841\n",
      "Epoch 11/300\n",
      "\u001B[1m2/2\u001B[0m \u001B[32m━━━━━━━━━━━━━━━━━━━━\u001B[0m\u001B[37m\u001B[0m \u001B[1m0s\u001B[0m 50ms/step - categorical_accuracy: 0.9081 - loss: 0.2761 - val_categorical_accuracy: 0.9167 - val_loss: 0.2839\n",
      "Epoch 12/300\n",
      "\u001B[1m2/2\u001B[0m \u001B[32m━━━━━━━━━━━━━━━━━━━━\u001B[0m\u001B[37m\u001B[0m \u001B[1m0s\u001B[0m 50ms/step - categorical_accuracy: 0.9094 - loss: 0.2741 - val_categorical_accuracy: 0.9167 - val_loss: 0.2836\n",
      "Epoch 13/300\n",
      "\u001B[1m2/2\u001B[0m \u001B[32m━━━━━━━━━━━━━━━━━━━━\u001B[0m\u001B[37m\u001B[0m \u001B[1m0s\u001B[0m 48ms/step - categorical_accuracy: 0.9078 - loss: 0.2719 - val_categorical_accuracy: 0.9091 - val_loss: 0.2834\n",
      "Epoch 14/300\n",
      "\u001B[1m2/2\u001B[0m \u001B[32m━━━━━━━━━━━━━━━━━━━━\u001B[0m\u001B[37m\u001B[0m \u001B[1m0s\u001B[0m 50ms/step - categorical_accuracy: 0.9048 - loss: 0.2683 - val_categorical_accuracy: 0.9091 - val_loss: 0.2830\n",
      "Epoch 15/300\n",
      "\u001B[1m2/2\u001B[0m \u001B[32m━━━━━━━━━━━━━━━━━━━━\u001B[0m\u001B[37m\u001B[0m \u001B[1m0s\u001B[0m 51ms/step - categorical_accuracy: 0.9048 - loss: 0.2720 - val_categorical_accuracy: 0.9091 - val_loss: 0.2826\n",
      "Epoch 16/300\n",
      "\u001B[1m2/2\u001B[0m \u001B[32m━━━━━━━━━━━━━━━━━━━━\u001B[0m\u001B[37m\u001B[0m \u001B[1m0s\u001B[0m 50ms/step - categorical_accuracy: 0.8996 - loss: 0.2695 - val_categorical_accuracy: 0.9091 - val_loss: 0.2822\n",
      "Epoch 17/300\n",
      "\u001B[1m2/2\u001B[0m \u001B[32m━━━━━━━━━━━━━━━━━━━━\u001B[0m\u001B[37m\u001B[0m \u001B[1m0s\u001B[0m 49ms/step - categorical_accuracy: 0.9035 - loss: 0.2626 - val_categorical_accuracy: 0.9091 - val_loss: 0.2820\n",
      "Epoch 18/300\n",
      "\u001B[1m2/2\u001B[0m \u001B[32m━━━━━━━━━━━━━━━━━━━━\u001B[0m\u001B[37m\u001B[0m \u001B[1m0s\u001B[0m 49ms/step - categorical_accuracy: 0.8996 - loss: 0.2734 - val_categorical_accuracy: 0.9091 - val_loss: 0.2819\n",
      "Epoch 19/300\n",
      "\u001B[1m2/2\u001B[0m \u001B[32m━━━━━━━━━━━━━━━━━━━━\u001B[0m\u001B[37m\u001B[0m \u001B[1m0s\u001B[0m 50ms/step - categorical_accuracy: 0.9074 - loss: 0.2647 - val_categorical_accuracy: 0.9091 - val_loss: 0.2818\n",
      "Epoch 20/300\n",
      "\u001B[1m2/2\u001B[0m \u001B[32m━━━━━━━━━━━━━━━━━━━━\u001B[0m\u001B[37m\u001B[0m \u001B[1m0s\u001B[0m 48ms/step - categorical_accuracy: 0.8983 - loss: 0.2777 - val_categorical_accuracy: 0.9167 - val_loss: 0.2820\n",
      "Epoch 21/300\n",
      "\u001B[1m2/2\u001B[0m \u001B[32m━━━━━━━━━━━━━━━━━━━━\u001B[0m\u001B[37m\u001B[0m \u001B[1m0s\u001B[0m 50ms/step - categorical_accuracy: 0.9078 - loss: 0.2644 - val_categorical_accuracy: 0.9167 - val_loss: 0.2821\n",
      "Epoch 22/300\n",
      "\u001B[1m2/2\u001B[0m \u001B[32m━━━━━━━━━━━━━━━━━━━━\u001B[0m\u001B[37m\u001B[0m \u001B[1m0s\u001B[0m 48ms/step - categorical_accuracy: 0.9026 - loss: 0.2816 - val_categorical_accuracy: 0.9167 - val_loss: 0.2824\n",
      "Epoch 23/300\n",
      "\u001B[1m2/2\u001B[0m \u001B[32m━━━━━━━━━━━━━━━━━━━━\u001B[0m\u001B[37m\u001B[0m \u001B[1m0s\u001B[0m 40ms/step - categorical_accuracy: 0.9121 - loss: 0.2679 - val_categorical_accuracy: 0.9167 - val_loss: 0.2825\n",
      "Epoch 24/300\n",
      "\u001B[1m2/2\u001B[0m \u001B[32m━━━━━━━━━━━━━━━━━━━━\u001B[0m\u001B[37m\u001B[0m \u001B[1m0s\u001B[0m 50ms/step - categorical_accuracy: 0.9055 - loss: 0.2736 - val_categorical_accuracy: 0.9167 - val_loss: 0.2824\n",
      "Epoch 25/300\n",
      "\u001B[1m2/2\u001B[0m \u001B[32m━━━━━━━━━━━━━━━━━━━━\u001B[0m\u001B[37m\u001B[0m \u001B[1m0s\u001B[0m 40ms/step - categorical_accuracy: 0.9134 - loss: 0.2632 - val_categorical_accuracy: 0.9167 - val_loss: 0.2821\n",
      "Epoch 26/300\n",
      "\u001B[1m2/2\u001B[0m \u001B[32m━━━━━━━━━━━━━━━━━━━━\u001B[0m\u001B[37m\u001B[0m \u001B[1m0s\u001B[0m 52ms/step - categorical_accuracy: 0.9055 - loss: 0.2731 - val_categorical_accuracy: 0.9167 - val_loss: 0.2817\n",
      "Epoch 27/300\n",
      "\u001B[1m2/2\u001B[0m \u001B[32m━━━━━━━━━━━━━━━━━━━━\u001B[0m\u001B[37m\u001B[0m \u001B[1m0s\u001B[0m 55ms/step - categorical_accuracy: 0.9042 - loss: 0.2688 - val_categorical_accuracy: 0.9167 - val_loss: 0.2814\n",
      "Epoch 28/300\n",
      "\u001B[1m2/2\u001B[0m \u001B[32m━━━━━━━━━━━━━━━━━━━━\u001B[0m\u001B[37m\u001B[0m \u001B[1m0s\u001B[0m 48ms/step - categorical_accuracy: 0.9107 - loss: 0.2692 - val_categorical_accuracy: 0.9167 - val_loss: 0.2810\n",
      "Epoch 29/300\n",
      "\u001B[1m2/2\u001B[0m \u001B[32m━━━━━━━━━━━━━━━━━━━━\u001B[0m\u001B[37m\u001B[0m \u001B[1m0s\u001B[0m 40ms/step - categorical_accuracy: 0.9016 - loss: 0.2834 - val_categorical_accuracy: 0.9167 - val_loss: 0.2806\n",
      "Epoch 30/300\n",
      "\u001B[1m2/2\u001B[0m \u001B[32m━━━━━━━━━━━━━━━━━━━━\u001B[0m\u001B[37m\u001B[0m \u001B[1m0s\u001B[0m 46ms/step - categorical_accuracy: 0.9026 - loss: 0.2721 - val_categorical_accuracy: 0.9167 - val_loss: 0.2804\n",
      "Epoch 31/300\n",
      "\u001B[1m2/2\u001B[0m \u001B[32m━━━━━━━━━━━━━━━━━━━━\u001B[0m\u001B[37m\u001B[0m \u001B[1m0s\u001B[0m 52ms/step - categorical_accuracy: 0.9074 - loss: 0.2648 - val_categorical_accuracy: 0.9167 - val_loss: 0.2803\n",
      "Epoch 32/300\n",
      "\u001B[1m2/2\u001B[0m \u001B[32m━━━━━━━━━━━━━━━━━━━━\u001B[0m\u001B[37m\u001B[0m \u001B[1m0s\u001B[0m 50ms/step - categorical_accuracy: 0.8996 - loss: 0.2807 - val_categorical_accuracy: 0.9091 - val_loss: 0.2802\n",
      "Epoch 33/300\n",
      "\u001B[1m2/2\u001B[0m \u001B[32m━━━━━━━━━━━━━━━━━━━━\u001B[0m\u001B[37m\u001B[0m \u001B[1m0s\u001B[0m 50ms/step - categorical_accuracy: 0.9048 - loss: 0.2655 - val_categorical_accuracy: 0.9091 - val_loss: 0.2799\n",
      "Epoch 34/300\n",
      "\u001B[1m2/2\u001B[0m \u001B[32m━━━━━━━━━━━━━━━━━━━━\u001B[0m\u001B[37m\u001B[0m \u001B[1m0s\u001B[0m 52ms/step - categorical_accuracy: 0.9048 - loss: 0.2707 - val_categorical_accuracy: 0.9091 - val_loss: 0.2798\n",
      "Epoch 35/300\n",
      "\u001B[1m2/2\u001B[0m \u001B[32m━━━━━━━━━━━━━━━━━━━━\u001B[0m\u001B[37m\u001B[0m \u001B[1m0s\u001B[0m 49ms/step - categorical_accuracy: 0.8983 - loss: 0.2732 - val_categorical_accuracy: 0.9091 - val_loss: 0.2795\n",
      "Epoch 36/300\n",
      "\u001B[1m2/2\u001B[0m \u001B[32m━━━━━━━━━━━━━━━━━━━━\u001B[0m\u001B[37m\u001B[0m \u001B[1m0s\u001B[0m 48ms/step - categorical_accuracy: 0.9113 - loss: 0.2535 - val_categorical_accuracy: 0.9091 - val_loss: 0.2792\n",
      "Epoch 37/300\n",
      "\u001B[1m2/2\u001B[0m \u001B[32m━━━━━━━━━━━━━━━━━━━━\u001B[0m\u001B[37m\u001B[0m \u001B[1m0s\u001B[0m 51ms/step - categorical_accuracy: 0.9113 - loss: 0.2654 - val_categorical_accuracy: 0.9091 - val_loss: 0.2790\n",
      "Epoch 38/300\n",
      "\u001B[1m2/2\u001B[0m \u001B[32m━━━━━━━━━━━━━━━━━━━━\u001B[0m\u001B[37m\u001B[0m \u001B[1m0s\u001B[0m 60ms/step - categorical_accuracy: 0.9022 - loss: 0.2734 - val_categorical_accuracy: 0.9091 - val_loss: 0.2787\n",
      "Epoch 39/300\n",
      "\u001B[1m2/2\u001B[0m \u001B[32m━━━━━━━━━━━━━━━━━━━━\u001B[0m\u001B[37m\u001B[0m \u001B[1m0s\u001B[0m 63ms/step - categorical_accuracy: 0.9078 - loss: 0.2652 - val_categorical_accuracy: 0.9167 - val_loss: 0.2785\n",
      "Epoch 40/300\n",
      "\u001B[1m2/2\u001B[0m \u001B[32m━━━━━━━━━━━━━━━━━━━━\u001B[0m\u001B[37m\u001B[0m \u001B[1m0s\u001B[0m 62ms/step - categorical_accuracy: 0.9107 - loss: 0.2671 - val_categorical_accuracy: 0.9167 - val_loss: 0.2783\n",
      "Epoch 41/300\n",
      "\u001B[1m2/2\u001B[0m \u001B[32m━━━━━━━━━━━━━━━━━━━━\u001B[0m\u001B[37m\u001B[0m \u001B[1m0s\u001B[0m 58ms/step - categorical_accuracy: 0.9042 - loss: 0.2748 - val_categorical_accuracy: 0.9167 - val_loss: 0.2782\n",
      "Epoch 42/300\n",
      "\u001B[1m2/2\u001B[0m \u001B[32m━━━━━━━━━━━━━━━━━━━━\u001B[0m\u001B[37m\u001B[0m \u001B[1m0s\u001B[0m 60ms/step - categorical_accuracy: 0.9068 - loss: 0.2642 - val_categorical_accuracy: 0.9167 - val_loss: 0.2779\n",
      "Epoch 43/300\n",
      "\u001B[1m2/2\u001B[0m \u001B[32m━━━━━━━━━━━━━━━━━━━━\u001B[0m\u001B[37m\u001B[0m \u001B[1m0s\u001B[0m 47ms/step - categorical_accuracy: 0.9094 - loss: 0.2716 - val_categorical_accuracy: 0.9167 - val_loss: 0.2777\n",
      "Epoch 44/300\n",
      "\u001B[1m2/2\u001B[0m \u001B[32m━━━━━━━━━━━━━━━━━━━━\u001B[0m\u001B[37m\u001B[0m \u001B[1m0s\u001B[0m 50ms/step - categorical_accuracy: 0.9068 - loss: 0.2685 - val_categorical_accuracy: 0.9167 - val_loss: 0.2774\n",
      "Epoch 45/300\n",
      "\u001B[1m2/2\u001B[0m \u001B[32m━━━━━━━━━━━━━━━━━━━━\u001B[0m\u001B[37m\u001B[0m \u001B[1m0s\u001B[0m 61ms/step - categorical_accuracy: 0.9121 - loss: 0.2711 - val_categorical_accuracy: 0.9167 - val_loss: 0.2771\n",
      "Epoch 46/300\n",
      "\u001B[1m2/2\u001B[0m \u001B[32m━━━━━━━━━━━━━━━━━━━━\u001B[0m\u001B[37m\u001B[0m \u001B[1m0s\u001B[0m 50ms/step - categorical_accuracy: 0.9121 - loss: 0.2613 - val_categorical_accuracy: 0.9167 - val_loss: 0.2768\n",
      "Epoch 47/300\n",
      "\u001B[1m2/2\u001B[0m \u001B[32m━━━━━━━━━━━━━━━━━━━━\u001B[0m\u001B[37m\u001B[0m \u001B[1m0s\u001B[0m 45ms/step - categorical_accuracy: 0.9121 - loss: 0.2707 - val_categorical_accuracy: 0.9242 - val_loss: 0.2766\n",
      "Epoch 48/300\n",
      "\u001B[1m2/2\u001B[0m \u001B[32m━━━━━━━━━━━━━━━━━━━━\u001B[0m\u001B[37m\u001B[0m \u001B[1m0s\u001B[0m 50ms/step - categorical_accuracy: 0.9107 - loss: 0.2585 - val_categorical_accuracy: 0.9167 - val_loss: 0.2763\n",
      "Epoch 49/300\n",
      "\u001B[1m2/2\u001B[0m \u001B[32m━━━━━━━━━━━━━━━━━━━━\u001B[0m\u001B[37m\u001B[0m \u001B[1m0s\u001B[0m 50ms/step - categorical_accuracy: 0.9094 - loss: 0.2641 - val_categorical_accuracy: 0.9167 - val_loss: 0.2763\n",
      "Epoch 50/300\n",
      "\u001B[1m2/2\u001B[0m \u001B[32m━━━━━━━━━━━━━━━━━━━━\u001B[0m\u001B[37m\u001B[0m \u001B[1m0s\u001B[0m 52ms/step - categorical_accuracy: 0.9094 - loss: 0.2693 - val_categorical_accuracy: 0.9167 - val_loss: 0.2764\n",
      "Epoch 51/300\n",
      "\u001B[1m2/2\u001B[0m \u001B[32m━━━━━━━━━━━━━━━━━━━━\u001B[0m\u001B[37m\u001B[0m \u001B[1m0s\u001B[0m 65ms/step - categorical_accuracy: 0.9107 - loss: 0.2676 - val_categorical_accuracy: 0.9167 - val_loss: 0.2766\n",
      "Epoch 52/300\n",
      "\u001B[1m2/2\u001B[0m \u001B[32m━━━━━━━━━━━━━━━━━━━━\u001B[0m\u001B[37m\u001B[0m \u001B[1m0s\u001B[0m 54ms/step - categorical_accuracy: 0.9087 - loss: 0.2614 - val_categorical_accuracy: 0.9167 - val_loss: 0.2765\n",
      "Epoch 53/300\n",
      "\u001B[1m2/2\u001B[0m \u001B[32m━━━━━━━━━━━━━━━━━━━━\u001B[0m\u001B[37m\u001B[0m \u001B[1m0s\u001B[0m 60ms/step - categorical_accuracy: 0.9022 - loss: 0.2733 - val_categorical_accuracy: 0.9167 - val_loss: 0.2763\n",
      "Epoch 54/300\n",
      "\u001B[1m2/2\u001B[0m \u001B[32m━━━━━━━━━━━━━━━━━━━━\u001B[0m\u001B[37m\u001B[0m \u001B[1m0s\u001B[0m 60ms/step - categorical_accuracy: 0.9052 - loss: 0.2717 - val_categorical_accuracy: 0.9167 - val_loss: 0.2763\n",
      "Epoch 55/300\n",
      "\u001B[1m2/2\u001B[0m \u001B[32m━━━━━━━━━━━━━━━━━━━━\u001B[0m\u001B[37m\u001B[0m \u001B[1m0s\u001B[0m 52ms/step - categorical_accuracy: 0.9107 - loss: 0.2674 - val_categorical_accuracy: 0.9167 - val_loss: 0.2763\n",
      "Epoch 56/300\n",
      "\u001B[1m2/2\u001B[0m \u001B[32m━━━━━━━━━━━━━━━━━━━━\u001B[0m\u001B[37m\u001B[0m \u001B[1m0s\u001B[0m 51ms/step - categorical_accuracy: 0.9094 - loss: 0.2682 - val_categorical_accuracy: 0.9167 - val_loss: 0.2762\n",
      "Epoch 57/300\n",
      "\u001B[1m2/2\u001B[0m \u001B[32m━━━━━━━━━━━━━━━━━━━━\u001B[0m\u001B[37m\u001B[0m \u001B[1m0s\u001B[0m 50ms/step - categorical_accuracy: 0.9121 - loss: 0.2595 - val_categorical_accuracy: 0.9167 - val_loss: 0.2761\n",
      "Epoch 58/300\n",
      "\u001B[1m2/2\u001B[0m \u001B[32m━━━━━━━━━━━━━━━━━━━━\u001B[0m\u001B[37m\u001B[0m \u001B[1m0s\u001B[0m 52ms/step - categorical_accuracy: 0.9068 - loss: 0.2667 - val_categorical_accuracy: 0.9167 - val_loss: 0.2761\n",
      "Epoch 59/300\n",
      "\u001B[1m2/2\u001B[0m \u001B[32m━━━━━━━━━━━━━━━━━━━━\u001B[0m\u001B[37m\u001B[0m \u001B[1m0s\u001B[0m 56ms/step - categorical_accuracy: 0.9176 - loss: 0.2576 - val_categorical_accuracy: 0.9167 - val_loss: 0.2761\n",
      "Epoch 60/300\n",
      "\u001B[1m2/2\u001B[0m \u001B[32m━━━━━━━━━━━━━━━━━━━━\u001B[0m\u001B[37m\u001B[0m \u001B[1m0s\u001B[0m 52ms/step - categorical_accuracy: 0.9072 - loss: 0.2747 - val_categorical_accuracy: 0.9167 - val_loss: 0.2763\n",
      "Epoch 61/300\n",
      "\u001B[1m2/2\u001B[0m \u001B[32m━━━━━━━━━━━━━━━━━━━━\u001B[0m\u001B[37m\u001B[0m \u001B[1m0s\u001B[0m 52ms/step - categorical_accuracy: 0.9176 - loss: 0.2584 - val_categorical_accuracy: 0.9167 - val_loss: 0.2759\n",
      "Epoch 62/300\n",
      "\u001B[1m2/2\u001B[0m \u001B[32m━━━━━━━━━━━━━━━━━━━━\u001B[0m\u001B[37m\u001B[0m \u001B[1m0s\u001B[0m 47ms/step - categorical_accuracy: 0.9160 - loss: 0.2583 - val_categorical_accuracy: 0.9167 - val_loss: 0.2756\n",
      "Epoch 63/300\n",
      "\u001B[1m2/2\u001B[0m \u001B[32m━━━━━━━━━━━━━━━━━━━━\u001B[0m\u001B[37m\u001B[0m \u001B[1m0s\u001B[0m 48ms/step - categorical_accuracy: 0.9068 - loss: 0.2653 - val_categorical_accuracy: 0.9167 - val_loss: 0.2752\n",
      "Epoch 64/300\n",
      "\u001B[1m2/2\u001B[0m \u001B[32m━━━━━━━━━━━━━━━━━━━━\u001B[0m\u001B[37m\u001B[0m \u001B[1m0s\u001B[0m 50ms/step - categorical_accuracy: 0.9107 - loss: 0.2587 - val_categorical_accuracy: 0.9167 - val_loss: 0.2749\n",
      "Epoch 65/300\n",
      "\u001B[1m2/2\u001B[0m \u001B[32m━━━━━━━━━━━━━━━━━━━━\u001B[0m\u001B[37m\u001B[0m \u001B[1m0s\u001B[0m 43ms/step - categorical_accuracy: 0.9134 - loss: 0.2519 - val_categorical_accuracy: 0.9167 - val_loss: 0.2746\n",
      "Epoch 66/300\n",
      "\u001B[1m2/2\u001B[0m \u001B[32m━━━━━━━━━━━━━━━━━━━━\u001B[0m\u001B[37m\u001B[0m \u001B[1m0s\u001B[0m 40ms/step - categorical_accuracy: 0.9173 - loss: 0.2497 - val_categorical_accuracy: 0.9167 - val_loss: 0.2745\n",
      "Epoch 67/300\n",
      "\u001B[1m2/2\u001B[0m \u001B[32m━━━━━━━━━━━━━━━━━━━━\u001B[0m\u001B[37m\u001B[0m \u001B[1m0s\u001B[0m 49ms/step - categorical_accuracy: 0.9052 - loss: 0.2599 - val_categorical_accuracy: 0.9167 - val_loss: 0.2744\n",
      "Epoch 68/300\n",
      "\u001B[1m2/2\u001B[0m \u001B[32m━━━━━━━━━━━━━━━━━━━━\u001B[0m\u001B[37m\u001B[0m \u001B[1m0s\u001B[0m 45ms/step - categorical_accuracy: 0.9052 - loss: 0.2702 - val_categorical_accuracy: 0.9167 - val_loss: 0.2745\n",
      "Epoch 69/300\n",
      "\u001B[1m2/2\u001B[0m \u001B[32m━━━━━━━━━━━━━━━━━━━━\u001B[0m\u001B[37m\u001B[0m \u001B[1m0s\u001B[0m 47ms/step - categorical_accuracy: 0.9104 - loss: 0.2599 - val_categorical_accuracy: 0.9167 - val_loss: 0.2744\n",
      "Epoch 70/300\n",
      "\u001B[1m2/2\u001B[0m \u001B[32m━━━━━━━━━━━━━━━━━━━━\u001B[0m\u001B[37m\u001B[0m \u001B[1m0s\u001B[0m 43ms/step - categorical_accuracy: 0.9039 - loss: 0.2627 - val_categorical_accuracy: 0.9167 - val_loss: 0.2742\n",
      "Epoch 71/300\n",
      "\u001B[1m2/2\u001B[0m \u001B[32m━━━━━━━━━━━━━━━━━━━━\u001B[0m\u001B[37m\u001B[0m \u001B[1m0s\u001B[0m 49ms/step - categorical_accuracy: 0.9026 - loss: 0.2737 - val_categorical_accuracy: 0.9167 - val_loss: 0.2742\n",
      "Epoch 72/300\n",
      "\u001B[1m2/2\u001B[0m \u001B[32m━━━━━━━━━━━━━━━━━━━━\u001B[0m\u001B[37m\u001B[0m \u001B[1m0s\u001B[0m 47ms/step - categorical_accuracy: 0.9078 - loss: 0.2573 - val_categorical_accuracy: 0.9167 - val_loss: 0.2740\n",
      "Epoch 73/300\n",
      "\u001B[1m2/2\u001B[0m \u001B[32m━━━━━━━━━━━━━━━━━━━━\u001B[0m\u001B[37m\u001B[0m \u001B[1m0s\u001B[0m 43ms/step - categorical_accuracy: 0.9052 - loss: 0.2705 - val_categorical_accuracy: 0.9167 - val_loss: 0.2738\n",
      "Epoch 74/300\n",
      "\u001B[1m2/2\u001B[0m \u001B[32m━━━━━━━━━━━━━━━━━━━━\u001B[0m\u001B[37m\u001B[0m \u001B[1m0s\u001B[0m 46ms/step - categorical_accuracy: 0.9052 - loss: 0.2634 - val_categorical_accuracy: 0.9167 - val_loss: 0.2736\n",
      "Epoch 75/300\n",
      "\u001B[1m2/2\u001B[0m \u001B[32m━━━━━━━━━━━━━━━━━━━━\u001B[0m\u001B[37m\u001B[0m \u001B[1m0s\u001B[0m 46ms/step - categorical_accuracy: 0.9104 - loss: 0.2580 - val_categorical_accuracy: 0.9167 - val_loss: 0.2735\n",
      "Epoch 76/300\n",
      "\u001B[1m2/2\u001B[0m \u001B[32m━━━━━━━━━━━━━━━━━━━━\u001B[0m\u001B[37m\u001B[0m \u001B[1m0s\u001B[0m 46ms/step - categorical_accuracy: 0.9078 - loss: 0.2631 - val_categorical_accuracy: 0.9167 - val_loss: 0.2736\n",
      "Epoch 77/300\n",
      "\u001B[1m2/2\u001B[0m \u001B[32m━━━━━━━━━━━━━━━━━━━━\u001B[0m\u001B[37m\u001B[0m \u001B[1m0s\u001B[0m 47ms/step - categorical_accuracy: 0.9029 - loss: 0.2736 - val_categorical_accuracy: 0.9167 - val_loss: 0.2737\n",
      "Epoch 78/300\n",
      "\u001B[1m2/2\u001B[0m \u001B[32m━━━━━━━━━━━━━━━━━━━━\u001B[0m\u001B[37m\u001B[0m \u001B[1m0s\u001B[0m 50ms/step - categorical_accuracy: 0.9124 - loss: 0.2640 - val_categorical_accuracy: 0.9167 - val_loss: 0.2736\n",
      "Epoch 79/300\n",
      "\u001B[1m2/2\u001B[0m \u001B[32m━━━━━━━━━━━━━━━━━━━━\u001B[0m\u001B[37m\u001B[0m \u001B[1m0s\u001B[0m 50ms/step - categorical_accuracy: 0.9189 - loss: 0.2558 - val_categorical_accuracy: 0.9167 - val_loss: 0.2732\n",
      "Epoch 80/300\n",
      "\u001B[1m2/2\u001B[0m \u001B[32m━━━━━━━━━━━━━━━━━━━━\u001B[0m\u001B[37m\u001B[0m \u001B[1m0s\u001B[0m 47ms/step - categorical_accuracy: 0.9176 - loss: 0.2607 - val_categorical_accuracy: 0.9167 - val_loss: 0.2727\n",
      "Epoch 81/300\n",
      "\u001B[1m2/2\u001B[0m \u001B[32m━━━━━━━━━━━━━━━━━━━━\u001B[0m\u001B[37m\u001B[0m \u001B[1m0s\u001B[0m 50ms/step - categorical_accuracy: 0.9107 - loss: 0.2558 - val_categorical_accuracy: 0.9167 - val_loss: 0.2725\n",
      "Epoch 82/300\n",
      "\u001B[1m2/2\u001B[0m \u001B[32m━━━━━━━━━━━━━━━━━━━━\u001B[0m\u001B[37m\u001B[0m \u001B[1m0s\u001B[0m 50ms/step - categorical_accuracy: 0.9000 - loss: 0.2682 - val_categorical_accuracy: 0.9167 - val_loss: 0.2724\n",
      "Epoch 83/300\n",
      "\u001B[1m2/2\u001B[0m \u001B[32m━━━━━━━━━━━━━━━━━━━━\u001B[0m\u001B[37m\u001B[0m \u001B[1m0s\u001B[0m 47ms/step - categorical_accuracy: 0.9130 - loss: 0.2519 - val_categorical_accuracy: 0.9167 - val_loss: 0.2723\n",
      "Epoch 84/300\n",
      "\u001B[1m2/2\u001B[0m \u001B[32m━━━━━━━━━━━━━━━━━━━━\u001B[0m\u001B[37m\u001B[0m \u001B[1m0s\u001B[0m 46ms/step - categorical_accuracy: 0.9065 - loss: 0.2712 - val_categorical_accuracy: 0.9167 - val_loss: 0.2723\n",
      "Epoch 85/300\n",
      "\u001B[1m2/2\u001B[0m \u001B[32m━━━━━━━━━━━━━━━━━━━━\u001B[0m\u001B[37m\u001B[0m \u001B[1m0s\u001B[0m 50ms/step - categorical_accuracy: 0.9052 - loss: 0.2636 - val_categorical_accuracy: 0.9167 - val_loss: 0.2722\n",
      "Epoch 86/300\n",
      "\u001B[1m2/2\u001B[0m \u001B[32m━━━━━━━━━━━━━━━━━━━━\u001B[0m\u001B[37m\u001B[0m \u001B[1m0s\u001B[0m 50ms/step - categorical_accuracy: 0.9104 - loss: 0.2485 - val_categorical_accuracy: 0.9167 - val_loss: 0.2719\n",
      "Epoch 87/300\n",
      "\u001B[1m2/2\u001B[0m \u001B[32m━━━━━━━━━━━━━━━━━━━━\u001B[0m\u001B[37m\u001B[0m \u001B[1m0s\u001B[0m 44ms/step - categorical_accuracy: 0.9026 - loss: 0.2631 - val_categorical_accuracy: 0.9167 - val_loss: 0.2718\n",
      "Epoch 88/300\n",
      "\u001B[1m2/2\u001B[0m \u001B[32m━━━━━━━━━━━━━━━━━━━━\u001B[0m\u001B[37m\u001B[0m \u001B[1m0s\u001B[0m 41ms/step - categorical_accuracy: 0.9091 - loss: 0.2592 - val_categorical_accuracy: 0.9167 - val_loss: 0.2718\n",
      "Epoch 89/300\n",
      "\u001B[1m2/2\u001B[0m \u001B[32m━━━━━━━━━━━━━━━━━━━━\u001B[0m\u001B[37m\u001B[0m \u001B[1m0s\u001B[0m 48ms/step - categorical_accuracy: 0.9078 - loss: 0.2630 - val_categorical_accuracy: 0.9167 - val_loss: 0.2720\n",
      "Epoch 90/300\n",
      "\u001B[1m2/2\u001B[0m \u001B[32m━━━━━━━━━━━━━━━━━━━━\u001B[0m\u001B[37m\u001B[0m \u001B[1m0s\u001B[0m 45ms/step - categorical_accuracy: 0.9117 - loss: 0.2509 - val_categorical_accuracy: 0.9167 - val_loss: 0.2720\n",
      "Epoch 91/300\n",
      "\u001B[1m2/2\u001B[0m \u001B[32m━━━━━━━━━━━━━━━━━━━━\u001B[0m\u001B[37m\u001B[0m \u001B[1m0s\u001B[0m 42ms/step - categorical_accuracy: 0.8996 - loss: 0.2618 - val_categorical_accuracy: 0.9167 - val_loss: 0.2720\n",
      "Epoch 92/300\n",
      "\u001B[1m2/2\u001B[0m \u001B[32m━━━━━━━━━━━━━━━━━━━━\u001B[0m\u001B[37m\u001B[0m \u001B[1m0s\u001B[0m 41ms/step - categorical_accuracy: 0.9048 - loss: 0.2608 - val_categorical_accuracy: 0.9167 - val_loss: 0.2720\n",
      "Epoch 93/300\n",
      "\u001B[1m2/2\u001B[0m \u001B[32m━━━━━━━━━━━━━━━━━━━━\u001B[0m\u001B[37m\u001B[0m \u001B[1m0s\u001B[0m 40ms/step - categorical_accuracy: 0.9013 - loss: 0.2628 - val_categorical_accuracy: 0.9167 - val_loss: 0.2718\n",
      "Epoch 94/300\n",
      "\u001B[1m2/2\u001B[0m \u001B[32m━━━━━━━━━━━━━━━━━━━━\u001B[0m\u001B[37m\u001B[0m \u001B[1m0s\u001B[0m 42ms/step - categorical_accuracy: 0.9091 - loss: 0.2581 - val_categorical_accuracy: 0.9167 - val_loss: 0.2714\n",
      "Epoch 95/300\n",
      "\u001B[1m2/2\u001B[0m \u001B[32m━━━━━━━━━━━━━━━━━━━━\u001B[0m\u001B[37m\u001B[0m \u001B[1m0s\u001B[0m 45ms/step - categorical_accuracy: 0.9042 - loss: 0.2614 - val_categorical_accuracy: 0.9167 - val_loss: 0.2711\n",
      "Epoch 96/300\n",
      "\u001B[1m2/2\u001B[0m \u001B[32m━━━━━━━━━━━━━━━━━━━━\u001B[0m\u001B[37m\u001B[0m \u001B[1m0s\u001B[0m 44ms/step - categorical_accuracy: 0.9121 - loss: 0.2591 - val_categorical_accuracy: 0.9167 - val_loss: 0.2707\n",
      "Epoch 97/300\n",
      "\u001B[1m2/2\u001B[0m \u001B[32m━━━━━━━━━━━━━━━━━━━━\u001B[0m\u001B[37m\u001B[0m \u001B[1m0s\u001B[0m 40ms/step - categorical_accuracy: 0.9055 - loss: 0.2653 - val_categorical_accuracy: 0.9167 - val_loss: 0.2704\n",
      "Epoch 98/300\n",
      "\u001B[1m2/2\u001B[0m \u001B[32m━━━━━━━━━━━━━━━━━━━━\u001B[0m\u001B[37m\u001B[0m \u001B[1m0s\u001B[0m 38ms/step - categorical_accuracy: 0.9081 - loss: 0.2562 - val_categorical_accuracy: 0.9167 - val_loss: 0.2703\n",
      "Epoch 99/300\n",
      "\u001B[1m2/2\u001B[0m \u001B[32m━━━━━━━━━━━━━━━━━━━━\u001B[0m\u001B[37m\u001B[0m \u001B[1m0s\u001B[0m 50ms/step - categorical_accuracy: 0.9107 - loss: 0.2551 - val_categorical_accuracy: 0.9167 - val_loss: 0.2701\n",
      "Epoch 100/300\n",
      "\u001B[1m2/2\u001B[0m \u001B[32m━━━━━━━━━━━━━━━━━━━━\u001B[0m\u001B[37m\u001B[0m \u001B[1m0s\u001B[0m 42ms/step - categorical_accuracy: 0.9107 - loss: 0.2559 - val_categorical_accuracy: 0.9167 - val_loss: 0.2700\n",
      "Epoch 101/300\n",
      "\u001B[1m2/2\u001B[0m \u001B[32m━━━━━━━━━━━━━━━━━━━━\u001B[0m\u001B[37m\u001B[0m \u001B[1m0s\u001B[0m 42ms/step - categorical_accuracy: 0.9081 - loss: 0.2637 - val_categorical_accuracy: 0.9167 - val_loss: 0.2701\n",
      "Epoch 102/300\n",
      "\u001B[1m2/2\u001B[0m \u001B[32m━━━━━━━━━━━━━━━━━━━━\u001B[0m\u001B[37m\u001B[0m \u001B[1m0s\u001B[0m 45ms/step - categorical_accuracy: 0.9134 - loss: 0.2577 - val_categorical_accuracy: 0.9167 - val_loss: 0.2701\n",
      "Epoch 103/300\n",
      "\u001B[1m2/2\u001B[0m \u001B[32m━━━━━━━━━━━━━━━━━━━━\u001B[0m\u001B[37m\u001B[0m \u001B[1m0s\u001B[0m 55ms/step - categorical_accuracy: 0.9068 - loss: 0.2598 - val_categorical_accuracy: 0.9167 - val_loss: 0.2701\n",
      "Epoch 104/300\n",
      "\u001B[1m2/2\u001B[0m \u001B[32m━━━━━━━━━━━━━━━━━━━━\u001B[0m\u001B[37m\u001B[0m \u001B[1m0s\u001B[0m 61ms/step - categorical_accuracy: 0.9134 - loss: 0.2492 - val_categorical_accuracy: 0.9167 - val_loss: 0.2701\n",
      "Epoch 105/300\n",
      "\u001B[1m2/2\u001B[0m \u001B[32m━━━━━━━━━━━━━━━━━━━━\u001B[0m\u001B[37m\u001B[0m \u001B[1m0s\u001B[0m 48ms/step - categorical_accuracy: 0.9068 - loss: 0.2600 - val_categorical_accuracy: 0.9167 - val_loss: 0.2703\n",
      "Epoch 106/300\n",
      "\u001B[1m2/2\u001B[0m \u001B[32m━━━━━━━━━━━━━━━━━━━━\u001B[0m\u001B[37m\u001B[0m \u001B[1m0s\u001B[0m 45ms/step - categorical_accuracy: 0.9121 - loss: 0.2564 - val_categorical_accuracy: 0.9167 - val_loss: 0.2704\n",
      "Epoch 107/300\n",
      "\u001B[1m2/2\u001B[0m \u001B[32m━━━━━━━━━━━━━━━━━━━━\u001B[0m\u001B[37m\u001B[0m \u001B[1m0s\u001B[0m 43ms/step - categorical_accuracy: 0.9121 - loss: 0.2522 - val_categorical_accuracy: 0.9167 - val_loss: 0.2705\n",
      "Epoch 108/300\n",
      "\u001B[1m2/2\u001B[0m \u001B[32m━━━━━━━━━━━━━━━━━━━━\u001B[0m\u001B[37m\u001B[0m \u001B[1m0s\u001B[0m 42ms/step - categorical_accuracy: 0.9107 - loss: 0.2525 - val_categorical_accuracy: 0.9167 - val_loss: 0.2705\n",
      "Epoch 109/300\n",
      "\u001B[1m2/2\u001B[0m \u001B[32m━━━━━━━━━━━━━━━━━━━━\u001B[0m\u001B[37m\u001B[0m \u001B[1m0s\u001B[0m 44ms/step - categorical_accuracy: 0.9081 - loss: 0.2592 - val_categorical_accuracy: 0.9167 - val_loss: 0.2705\n",
      "Epoch 110/300\n",
      "\u001B[1m2/2\u001B[0m \u001B[32m━━━━━━━━━━━━━━━━━━━━\u001B[0m\u001B[37m\u001B[0m \u001B[1m0s\u001B[0m 47ms/step - categorical_accuracy: 0.9094 - loss: 0.2595 - val_categorical_accuracy: 0.9167 - val_loss: 0.2706\n",
      "Epoch 111/300\n",
      "\u001B[1m2/2\u001B[0m \u001B[32m━━━━━━━━━━━━━━━━━━━━\u001B[0m\u001B[37m\u001B[0m \u001B[1m0s\u001B[0m 49ms/step - categorical_accuracy: 0.9094 - loss: 0.2610 - val_categorical_accuracy: 0.9167 - val_loss: 0.2705\n",
      "Epoch 112/300\n",
      "\u001B[1m2/2\u001B[0m \u001B[32m━━━━━━━━━━━━━━━━━━━━\u001B[0m\u001B[37m\u001B[0m \u001B[1m0s\u001B[0m 50ms/step - categorical_accuracy: 0.9055 - loss: 0.2691 - val_categorical_accuracy: 0.9167 - val_loss: 0.2703\n",
      "Epoch 113/300\n",
      "\u001B[1m2/2\u001B[0m \u001B[32m━━━━━━━━━━━━━━━━━━━━\u001B[0m\u001B[37m\u001B[0m \u001B[1m0s\u001B[0m 47ms/step - categorical_accuracy: 0.9052 - loss: 0.2523 - val_categorical_accuracy: 0.9167 - val_loss: 0.2699\n",
      "Epoch 114/300\n",
      "\u001B[1m2/2\u001B[0m \u001B[32m━━━━━━━━━━━━━━━━━━━━\u001B[0m\u001B[37m\u001B[0m \u001B[1m0s\u001B[0m 48ms/step - categorical_accuracy: 0.9068 - loss: 0.2641 - val_categorical_accuracy: 0.9167 - val_loss: 0.2695\n",
      "Epoch 115/300\n",
      "\u001B[1m2/2\u001B[0m \u001B[32m━━━━━━━━━━━━━━━━━━━━\u001B[0m\u001B[37m\u001B[0m \u001B[1m0s\u001B[0m 43ms/step - categorical_accuracy: 0.9160 - loss: 0.2467 - val_categorical_accuracy: 0.9167 - val_loss: 0.2692\n",
      "Epoch 116/300\n",
      "\u001B[1m2/2\u001B[0m \u001B[32m━━━━━━━━━━━━━━━━━━━━\u001B[0m\u001B[37m\u001B[0m \u001B[1m0s\u001B[0m 42ms/step - categorical_accuracy: 0.9029 - loss: 0.2685 - val_categorical_accuracy: 0.9167 - val_loss: 0.2689\n",
      "Epoch 117/300\n",
      "\u001B[1m2/2\u001B[0m \u001B[32m━━━━━━━━━━━━━━━━━━━━\u001B[0m\u001B[37m\u001B[0m \u001B[1m0s\u001B[0m 43ms/step - categorical_accuracy: 0.9042 - loss: 0.2606 - val_categorical_accuracy: 0.9167 - val_loss: 0.2686\n",
      "Epoch 118/300\n",
      "\u001B[1m2/2\u001B[0m \u001B[32m━━━━━━━━━━━━━━━━━━━━\u001B[0m\u001B[37m\u001B[0m \u001B[1m0s\u001B[0m 46ms/step - categorical_accuracy: 0.9081 - loss: 0.2527 - val_categorical_accuracy: 0.9167 - val_loss: 0.2683\n",
      "Epoch 119/300\n",
      "\u001B[1m2/2\u001B[0m \u001B[32m━━━━━━━━━━━━━━━━━━━━\u001B[0m\u001B[37m\u001B[0m \u001B[1m0s\u001B[0m 47ms/step - categorical_accuracy: 0.9068 - loss: 0.2555 - val_categorical_accuracy: 0.9167 - val_loss: 0.2681\n",
      "Epoch 120/300\n",
      "\u001B[1m2/2\u001B[0m \u001B[32m━━━━━━━━━━━━━━━━━━━━\u001B[0m\u001B[37m\u001B[0m \u001B[1m0s\u001B[0m 41ms/step - categorical_accuracy: 0.9121 - loss: 0.2528 - val_categorical_accuracy: 0.9167 - val_loss: 0.2677\n",
      "Epoch 121/300\n",
      "\u001B[1m2/2\u001B[0m \u001B[32m━━━━━━━━━━━━━━━━━━━━\u001B[0m\u001B[37m\u001B[0m \u001B[1m0s\u001B[0m 42ms/step - categorical_accuracy: 0.9029 - loss: 0.2623 - val_categorical_accuracy: 0.9167 - val_loss: 0.2675\n",
      "Epoch 122/300\n",
      "\u001B[1m2/2\u001B[0m \u001B[32m━━━━━━━━━━━━━━━━━━━━\u001B[0m\u001B[37m\u001B[0m \u001B[1m0s\u001B[0m 43ms/step - categorical_accuracy: 0.9107 - loss: 0.2570 - val_categorical_accuracy: 0.9167 - val_loss: 0.2675\n",
      "Epoch 123/300\n",
      "\u001B[1m2/2\u001B[0m \u001B[32m━━━━━━━━━━━━━━━━━━━━\u001B[0m\u001B[37m\u001B[0m \u001B[1m0s\u001B[0m 44ms/step - categorical_accuracy: 0.9107 - loss: 0.2553 - val_categorical_accuracy: 0.9167 - val_loss: 0.2674\n",
      "Epoch 124/300\n",
      "\u001B[1m2/2\u001B[0m \u001B[32m━━━━━━━━━━━━━━━━━━━━\u001B[0m\u001B[37m\u001B[0m \u001B[1m0s\u001B[0m 38ms/step - categorical_accuracy: 0.9094 - loss: 0.2568 - val_categorical_accuracy: 0.9167 - val_loss: 0.2673\n",
      "Epoch 125/300\n",
      "\u001B[1m2/2\u001B[0m \u001B[32m━━━━━━━━━━━━━━━━━━━━\u001B[0m\u001B[37m\u001B[0m \u001B[1m0s\u001B[0m 46ms/step - categorical_accuracy: 0.9055 - loss: 0.2621 - val_categorical_accuracy: 0.9167 - val_loss: 0.2672\n",
      "Epoch 126/300\n",
      "\u001B[1m2/2\u001B[0m \u001B[32m━━━━━━━━━━━━━━━━━━━━\u001B[0m\u001B[37m\u001B[0m \u001B[1m0s\u001B[0m 43ms/step - categorical_accuracy: 0.9107 - loss: 0.2566 - val_categorical_accuracy: 0.9167 - val_loss: 0.2670\n",
      "Epoch 127/300\n",
      "\u001B[1m2/2\u001B[0m \u001B[32m━━━━━━━━━━━━━━━━━━━━\u001B[0m\u001B[37m\u001B[0m \u001B[1m0s\u001B[0m 47ms/step - categorical_accuracy: 0.9016 - loss: 0.2675 - val_categorical_accuracy: 0.9167 - val_loss: 0.2669\n",
      "Epoch 128/300\n",
      "\u001B[1m2/2\u001B[0m \u001B[32m━━━━━━━━━━━━━━━━━━━━\u001B[0m\u001B[37m\u001B[0m \u001B[1m0s\u001B[0m 46ms/step - categorical_accuracy: 0.9199 - loss: 0.2359 - val_categorical_accuracy: 0.9167 - val_loss: 0.2668\n",
      "Epoch 129/300\n",
      "\u001B[1m2/2\u001B[0m \u001B[32m━━━━━━━━━━━━━━━━━━━━\u001B[0m\u001B[37m\u001B[0m \u001B[1m0s\u001B[0m 82ms/step - categorical_accuracy: 0.9094 - loss: 0.2496 - val_categorical_accuracy: 0.9167 - val_loss: 0.2670\n",
      "Epoch 130/300\n",
      "\u001B[1m2/2\u001B[0m \u001B[32m━━━━━━━━━━━━━━━━━━━━\u001B[0m\u001B[37m\u001B[0m \u001B[1m0s\u001B[0m 53ms/step - categorical_accuracy: 0.9094 - loss: 0.2546 - val_categorical_accuracy: 0.9167 - val_loss: 0.2669\n",
      "Epoch 131/300\n",
      "\u001B[1m2/2\u001B[0m \u001B[32m━━━━━━━━━━━━━━━━━━━━\u001B[0m\u001B[37m\u001B[0m \u001B[1m0s\u001B[0m 42ms/step - categorical_accuracy: 0.9042 - loss: 0.2607 - val_categorical_accuracy: 0.9167 - val_loss: 0.2666\n",
      "Epoch 132/300\n",
      "\u001B[1m2/2\u001B[0m \u001B[32m━━━━━━━━━━━━━━━━━━━━\u001B[0m\u001B[37m\u001B[0m \u001B[1m0s\u001B[0m 76ms/step - categorical_accuracy: 0.9107 - loss: 0.2536 - val_categorical_accuracy: 0.9167 - val_loss: 0.2665\n",
      "Epoch 133/300\n",
      "\u001B[1m2/2\u001B[0m \u001B[32m━━━━━━━━━━━━━━━━━━━━\u001B[0m\u001B[37m\u001B[0m \u001B[1m0s\u001B[0m 48ms/step - categorical_accuracy: 0.9068 - loss: 0.2573 - val_categorical_accuracy: 0.9167 - val_loss: 0.2664\n",
      "Epoch 134/300\n",
      "\u001B[1m2/2\u001B[0m \u001B[32m━━━━━━━━━━━━━━━━━━━━\u001B[0m\u001B[37m\u001B[0m \u001B[1m0s\u001B[0m 47ms/step - categorical_accuracy: 0.9107 - loss: 0.2529 - val_categorical_accuracy: 0.9167 - val_loss: 0.2664\n",
      "Epoch 135/300\n",
      "\u001B[1m2/2\u001B[0m \u001B[32m━━━━━━━━━━━━━━━━━━━━\u001B[0m\u001B[37m\u001B[0m \u001B[1m0s\u001B[0m 40ms/step - categorical_accuracy: 0.9081 - loss: 0.2497 - val_categorical_accuracy: 0.9167 - val_loss: 0.2663\n",
      "Epoch 136/300\n",
      "\u001B[1m2/2\u001B[0m \u001B[32m━━━━━━━━━━━━━━━━━━━━\u001B[0m\u001B[37m\u001B[0m \u001B[1m0s\u001B[0m 42ms/step - categorical_accuracy: 0.9111 - loss: 0.2499 - val_categorical_accuracy: 0.9167 - val_loss: 0.2664\n",
      "Epoch 137/300\n",
      "\u001B[1m2/2\u001B[0m \u001B[32m━━━━━━━━━━━━━━━━━━━━\u001B[0m\u001B[37m\u001B[0m \u001B[1m0s\u001B[0m 46ms/step - categorical_accuracy: 0.9124 - loss: 0.2545 - val_categorical_accuracy: 0.9167 - val_loss: 0.2666\n",
      "Epoch 138/300\n",
      "\u001B[1m2/2\u001B[0m \u001B[32m━━━━━━━━━━━━━━━━━━━━\u001B[0m\u001B[37m\u001B[0m \u001B[1m0s\u001B[0m 50ms/step - categorical_accuracy: 0.9055 - loss: 0.2620 - val_categorical_accuracy: 0.9167 - val_loss: 0.2669\n",
      "Epoch 139/300\n",
      "\u001B[1m2/2\u001B[0m \u001B[32m━━━━━━━━━━━━━━━━━━━━\u001B[0m\u001B[37m\u001B[0m \u001B[1m0s\u001B[0m 41ms/step - categorical_accuracy: 0.9078 - loss: 0.2497 - val_categorical_accuracy: 0.9167 - val_loss: 0.2670\n",
      "Epoch 140/300\n",
      "\u001B[1m2/2\u001B[0m \u001B[32m━━━━━━━━━━━━━━━━━━━━\u001B[0m\u001B[37m\u001B[0m \u001B[1m0s\u001B[0m 41ms/step - categorical_accuracy: 0.9065 - loss: 0.2588 - val_categorical_accuracy: 0.9167 - val_loss: 0.2669\n",
      "Epoch 141/300\n",
      "\u001B[1m2/2\u001B[0m \u001B[32m━━━━━━━━━━━━━━━━━━━━\u001B[0m\u001B[37m\u001B[0m \u001B[1m0s\u001B[0m 50ms/step - categorical_accuracy: 0.9121 - loss: 0.2510 - val_categorical_accuracy: 0.9167 - val_loss: 0.2666\n",
      "Epoch 142/300\n",
      "\u001B[1m2/2\u001B[0m \u001B[32m━━━━━━━━━━━━━━━━━━━━\u001B[0m\u001B[37m\u001B[0m \u001B[1m0s\u001B[0m 48ms/step - categorical_accuracy: 0.9094 - loss: 0.2451 - val_categorical_accuracy: 0.9167 - val_loss: 0.2664\n",
      "Epoch 143/300\n",
      "\u001B[1m2/2\u001B[0m \u001B[32m━━━━━━━━━━━━━━━━━━━━\u001B[0m\u001B[37m\u001B[0m \u001B[1m0s\u001B[0m 46ms/step - categorical_accuracy: 0.9081 - loss: 0.2546 - val_categorical_accuracy: 0.9167 - val_loss: 0.2661\n",
      "Epoch 144/300\n",
      "\u001B[1m2/2\u001B[0m \u001B[32m━━━━━━━━━━━━━━━━━━━━\u001B[0m\u001B[37m\u001B[0m \u001B[1m0s\u001B[0m 41ms/step - categorical_accuracy: 0.9042 - loss: 0.2614 - val_categorical_accuracy: 0.9167 - val_loss: 0.2658\n",
      "Epoch 145/300\n",
      "\u001B[1m2/2\u001B[0m \u001B[32m━━━━━━━━━━━━━━━━━━━━\u001B[0m\u001B[37m\u001B[0m \u001B[1m0s\u001B[0m 46ms/step - categorical_accuracy: 0.9134 - loss: 0.2364 - val_categorical_accuracy: 0.9167 - val_loss: 0.2654\n",
      "Epoch 146/300\n",
      "\u001B[1m2/2\u001B[0m \u001B[32m━━━━━━━━━━━━━━━━━━━━\u001B[0m\u001B[37m\u001B[0m \u001B[1m0s\u001B[0m 44ms/step - categorical_accuracy: 0.9124 - loss: 0.2496 - val_categorical_accuracy: 0.9167 - val_loss: 0.2651\n",
      "Epoch 147/300\n",
      "\u001B[1m2/2\u001B[0m \u001B[32m━━━━━━━━━━━━━━━━━━━━\u001B[0m\u001B[37m\u001B[0m \u001B[1m0s\u001B[0m 38ms/step - categorical_accuracy: 0.9124 - loss: 0.2536 - val_categorical_accuracy: 0.9167 - val_loss: 0.2650\n",
      "Epoch 148/300\n",
      "\u001B[1m2/2\u001B[0m \u001B[32m━━━━━━━━━━━━━━━━━━━━\u001B[0m\u001B[37m\u001B[0m \u001B[1m0s\u001B[0m 42ms/step - categorical_accuracy: 0.9137 - loss: 0.2472 - val_categorical_accuracy: 0.9167 - val_loss: 0.2649\n",
      "Epoch 149/300\n",
      "\u001B[1m2/2\u001B[0m \u001B[32m━━━━━━━━━━━━━━━━━━━━\u001B[0m\u001B[37m\u001B[0m \u001B[1m0s\u001B[0m 49ms/step - categorical_accuracy: 0.9072 - loss: 0.2573 - val_categorical_accuracy: 0.9167 - val_loss: 0.2645\n",
      "Epoch 150/300\n",
      "\u001B[1m2/2\u001B[0m \u001B[32m━━━━━━━━━━━━━━━━━━━━\u001B[0m\u001B[37m\u001B[0m \u001B[1m0s\u001B[0m 46ms/step - categorical_accuracy: 0.9124 - loss: 0.2474 - val_categorical_accuracy: 0.9167 - val_loss: 0.2641\n",
      "Epoch 151/300\n",
      "\u001B[1m2/2\u001B[0m \u001B[32m━━━━━━━━━━━━━━━━━━━━\u001B[0m\u001B[37m\u001B[0m \u001B[1m0s\u001B[0m 43ms/step - categorical_accuracy: 0.9180 - loss: 0.2507 - val_categorical_accuracy: 0.9091 - val_loss: 0.2637\n",
      "Epoch 152/300\n",
      "\u001B[1m2/2\u001B[0m \u001B[32m━━━━━━━━━━━━━━━━━━━━\u001B[0m\u001B[37m\u001B[0m \u001B[1m0s\u001B[0m 45ms/step - categorical_accuracy: 0.9093 - loss: 0.2585 - val_categorical_accuracy: 0.9091 - val_loss: 0.2635\n",
      "Epoch 153/300\n",
      "\u001B[1m2/2\u001B[0m \u001B[32m━━━━━━━━━━━━━━━━━━━━\u001B[0m\u001B[37m\u001B[0m \u001B[1m0s\u001B[0m 47ms/step - categorical_accuracy: 0.9128 - loss: 0.2564 - val_categorical_accuracy: 0.9091 - val_loss: 0.2633\n",
      "Epoch 154/300\n",
      "\u001B[1m2/2\u001B[0m \u001B[32m━━━━━━━━━━━━━━━━━━━━\u001B[0m\u001B[37m\u001B[0m \u001B[1m0s\u001B[0m 43ms/step - categorical_accuracy: 0.9154 - loss: 0.2458 - val_categorical_accuracy: 0.9167 - val_loss: 0.2633\n",
      "Epoch 155/300\n",
      "\u001B[1m2/2\u001B[0m \u001B[32m━━━━━━━━━━━━━━━━━━━━\u001B[0m\u001B[37m\u001B[0m \u001B[1m0s\u001B[0m 44ms/step - categorical_accuracy: 0.9150 - loss: 0.2407 - val_categorical_accuracy: 0.9167 - val_loss: 0.2634\n",
      "Epoch 156/300\n",
      "\u001B[1m2/2\u001B[0m \u001B[32m━━━━━━━━━━━━━━━━━━━━\u001B[0m\u001B[37m\u001B[0m \u001B[1m0s\u001B[0m 44ms/step - categorical_accuracy: 0.9085 - loss: 0.2569 - val_categorical_accuracy: 0.9167 - val_loss: 0.2639\n",
      "Epoch 157/300\n",
      "\u001B[1m2/2\u001B[0m \u001B[32m━━━━━━━━━━━━━━━━━━━━\u001B[0m\u001B[37m\u001B[0m \u001B[1m0s\u001B[0m 45ms/step - categorical_accuracy: 0.9102 - loss: 0.2506 - val_categorical_accuracy: 0.9167 - val_loss: 0.2642\n",
      "Epoch 158/300\n",
      "\u001B[1m2/2\u001B[0m \u001B[32m━━━━━━━━━━━━━━━━━━━━\u001B[0m\u001B[37m\u001B[0m \u001B[1m0s\u001B[0m 50ms/step - categorical_accuracy: 0.9141 - loss: 0.2468 - val_categorical_accuracy: 0.9167 - val_loss: 0.2645\n",
      "Epoch 159/300\n",
      "\u001B[1m2/2\u001B[0m \u001B[32m━━━━━━━━━━━━━━━━━━━━\u001B[0m\u001B[37m\u001B[0m \u001B[1m0s\u001B[0m 46ms/step - categorical_accuracy: 0.9059 - loss: 0.2607 - val_categorical_accuracy: 0.9167 - val_loss: 0.2645\n",
      "Epoch 160/300\n",
      "\u001B[1m2/2\u001B[0m \u001B[32m━━━━━━━━━━━━━━━━━━━━\u001B[0m\u001B[37m\u001B[0m \u001B[1m0s\u001B[0m 45ms/step - categorical_accuracy: 0.9128 - loss: 0.2454 - val_categorical_accuracy: 0.9167 - val_loss: 0.2643\n",
      "Epoch 161/300\n",
      "\u001B[1m2/2\u001B[0m \u001B[32m━━━━━━━━━━━━━━━━━━━━\u001B[0m\u001B[37m\u001B[0m \u001B[1m0s\u001B[0m 43ms/step - categorical_accuracy: 0.9154 - loss: 0.2502 - val_categorical_accuracy: 0.9167 - val_loss: 0.2638\n",
      "Epoch 162/300\n",
      "\u001B[1m2/2\u001B[0m \u001B[32m━━━━━━━━━━━━━━━━━━━━\u001B[0m\u001B[37m\u001B[0m \u001B[1m0s\u001B[0m 42ms/step - categorical_accuracy: 0.9089 - loss: 0.2593 - val_categorical_accuracy: 0.9167 - val_loss: 0.2634\n",
      "Epoch 163/300\n",
      "\u001B[1m2/2\u001B[0m \u001B[32m━━━━━━━━━━━━━━━━━━━━\u001B[0m\u001B[37m\u001B[0m \u001B[1m0s\u001B[0m 47ms/step - categorical_accuracy: 0.9154 - loss: 0.2491 - val_categorical_accuracy: 0.9091 - val_loss: 0.2627\n",
      "Epoch 164/300\n",
      "\u001B[1m2/2\u001B[0m \u001B[32m━━━━━━━━━━━━━━━━━━━━\u001B[0m\u001B[37m\u001B[0m \u001B[1m0s\u001B[0m 52ms/step - categorical_accuracy: 0.9128 - loss: 0.2482 - val_categorical_accuracy: 0.9091 - val_loss: 0.2621\n",
      "Epoch 165/300\n",
      "\u001B[1m2/2\u001B[0m \u001B[32m━━━━━━━━━━━━━━━━━━━━\u001B[0m\u001B[37m\u001B[0m \u001B[1m0s\u001B[0m 40ms/step - categorical_accuracy: 0.9154 - loss: 0.2451 - val_categorical_accuracy: 0.9091 - val_loss: 0.2617\n",
      "Epoch 166/300\n",
      "\u001B[1m2/2\u001B[0m \u001B[32m━━━━━━━━━━━━━━━━━━━━\u001B[0m\u001B[37m\u001B[0m \u001B[1m0s\u001B[0m 43ms/step - categorical_accuracy: 0.9115 - loss: 0.2470 - val_categorical_accuracy: 0.9167 - val_loss: 0.2614\n",
      "Epoch 167/300\n",
      "\u001B[1m2/2\u001B[0m \u001B[32m━━━━━━━━━━━━━━━━━━━━\u001B[0m\u001B[37m\u001B[0m \u001B[1m0s\u001B[0m 49ms/step - categorical_accuracy: 0.9128 - loss: 0.2416 - val_categorical_accuracy: 0.9167 - val_loss: 0.2613\n",
      "Epoch 168/300\n",
      "\u001B[1m2/2\u001B[0m \u001B[32m━━━━━━━━━━━━━━━━━━━━\u001B[0m\u001B[37m\u001B[0m \u001B[1m0s\u001B[0m 45ms/step - categorical_accuracy: 0.9102 - loss: 0.2542 - val_categorical_accuracy: 0.9167 - val_loss: 0.2614\n",
      "Epoch 169/300\n",
      "\u001B[1m2/2\u001B[0m \u001B[32m━━━━━━━━━━━━━━━━━━━━\u001B[0m\u001B[37m\u001B[0m \u001B[1m0s\u001B[0m 42ms/step - categorical_accuracy: 0.9098 - loss: 0.2475 - val_categorical_accuracy: 0.9091 - val_loss: 0.2617\n",
      "Epoch 170/300\n",
      "\u001B[1m2/2\u001B[0m \u001B[32m━━━━━━━━━━━━━━━━━━━━\u001B[0m\u001B[37m\u001B[0m \u001B[1m0s\u001B[0m 69ms/step - categorical_accuracy: 0.9180 - loss: 0.2425 - val_categorical_accuracy: 0.9091 - val_loss: 0.2619\n",
      "Epoch 171/300\n",
      "\u001B[1m2/2\u001B[0m \u001B[32m━━━━━━━━━━━━━━━━━━━━\u001B[0m\u001B[37m\u001B[0m \u001B[1m0s\u001B[0m 59ms/step - categorical_accuracy: 0.9180 - loss: 0.2409 - val_categorical_accuracy: 0.9091 - val_loss: 0.2622\n",
      "Epoch 172/300\n",
      "\u001B[1m2/2\u001B[0m \u001B[32m━━━━━━━━━━━━━━━━━━━━\u001B[0m\u001B[37m\u001B[0m \u001B[1m0s\u001B[0m 56ms/step - categorical_accuracy: 0.9141 - loss: 0.2501 - val_categorical_accuracy: 0.9091 - val_loss: 0.2625\n",
      "Epoch 173/300\n",
      "\u001B[1m2/2\u001B[0m \u001B[32m━━━━━━━━━━━━━━━━━━━━\u001B[0m\u001B[37m\u001B[0m \u001B[1m0s\u001B[0m 56ms/step - categorical_accuracy: 0.9115 - loss: 0.2545 - val_categorical_accuracy: 0.9091 - val_loss: 0.2626\n",
      "Epoch 174/300\n",
      "\u001B[1m2/2\u001B[0m \u001B[32m━━━━━━━━━━━━━━━━━━━━\u001B[0m\u001B[37m\u001B[0m \u001B[1m0s\u001B[0m 49ms/step - categorical_accuracy: 0.9171 - loss: 0.2503 - val_categorical_accuracy: 0.9091 - val_loss: 0.2625\n",
      "Epoch 175/300\n",
      "\u001B[1m2/2\u001B[0m \u001B[32m━━━━━━━━━━━━━━━━━━━━\u001B[0m\u001B[37m\u001B[0m \u001B[1m0s\u001B[0m 46ms/step - categorical_accuracy: 0.9132 - loss: 0.2527 - val_categorical_accuracy: 0.9091 - val_loss: 0.2622\n",
      "Epoch 176/300\n",
      "\u001B[1m2/2\u001B[0m \u001B[32m━━━━━━━━━━━━━━━━━━━━\u001B[0m\u001B[37m\u001B[0m \u001B[1m0s\u001B[0m 42ms/step - categorical_accuracy: 0.9171 - loss: 0.2500 - val_categorical_accuracy: 0.9091 - val_loss: 0.2618\n",
      "Epoch 177/300\n",
      "\u001B[1m2/2\u001B[0m \u001B[32m━━━━━━━━━━━━━━━━━━━━\u001B[0m\u001B[37m\u001B[0m \u001B[1m0s\u001B[0m 39ms/step - categorical_accuracy: 0.9145 - loss: 0.2443 - val_categorical_accuracy: 0.9091 - val_loss: 0.2616\n",
      "Epoch 178/300\n",
      "\u001B[1m2/2\u001B[0m \u001B[32m━━━━━━━━━━━━━━━━━━━━\u001B[0m\u001B[37m\u001B[0m \u001B[1m0s\u001B[0m 45ms/step - categorical_accuracy: 0.9158 - loss: 0.2476 - val_categorical_accuracy: 0.9091 - val_loss: 0.2614\n",
      "Epoch 179/300\n",
      "\u001B[1m2/2\u001B[0m \u001B[32m━━━━━━━━━━━━━━━━━━━━\u001B[0m\u001B[37m\u001B[0m \u001B[1m0s\u001B[0m 47ms/step - categorical_accuracy: 0.9119 - loss: 0.2540 - val_categorical_accuracy: 0.9091 - val_loss: 0.2613\n",
      "Epoch 180/300\n",
      "\u001B[1m2/2\u001B[0m \u001B[32m━━━━━━━━━━━━━━━━━━━━\u001B[0m\u001B[37m\u001B[0m \u001B[1m0s\u001B[0m 46ms/step - categorical_accuracy: 0.9184 - loss: 0.2480 - val_categorical_accuracy: 0.9091 - val_loss: 0.2611\n",
      "Epoch 181/300\n",
      "\u001B[1m2/2\u001B[0m \u001B[32m━━━━━━━━━━━━━━━━━━━━\u001B[0m\u001B[37m\u001B[0m \u001B[1m0s\u001B[0m 45ms/step - categorical_accuracy: 0.9184 - loss: 0.2395 - val_categorical_accuracy: 0.9091 - val_loss: 0.2608\n",
      "Epoch 182/300\n",
      "\u001B[1m2/2\u001B[0m \u001B[32m━━━━━━━━━━━━━━━━━━━━\u001B[0m\u001B[37m\u001B[0m \u001B[1m0s\u001B[0m 43ms/step - categorical_accuracy: 0.9102 - loss: 0.2472 - val_categorical_accuracy: 0.9091 - val_loss: 0.2606\n",
      "Epoch 183/300\n",
      "\u001B[1m2/2\u001B[0m \u001B[32m━━━━━━━━━━━━━━━━━━━━\u001B[0m\u001B[37m\u001B[0m \u001B[1m0s\u001B[0m 41ms/step - categorical_accuracy: 0.9210 - loss: 0.2396 - val_categorical_accuracy: 0.9091 - val_loss: 0.2605\n",
      "Epoch 184/300\n",
      "\u001B[1m2/2\u001B[0m \u001B[32m━━━━━━━━━━━━━━━━━━━━\u001B[0m\u001B[37m\u001B[0m \u001B[1m0s\u001B[0m 50ms/step - categorical_accuracy: 0.9145 - loss: 0.2492 - val_categorical_accuracy: 0.9091 - val_loss: 0.2603\n",
      "Epoch 185/300\n",
      "\u001B[1m2/2\u001B[0m \u001B[32m━━━━━━━━━━━━━━━━━━━━\u001B[0m\u001B[37m\u001B[0m \u001B[1m0s\u001B[0m 50ms/step - categorical_accuracy: 0.9145 - loss: 0.2484 - val_categorical_accuracy: 0.9091 - val_loss: 0.2602\n",
      "Epoch 186/300\n",
      "\u001B[1m2/2\u001B[0m \u001B[32m━━━━━━━━━━━━━━━━━━━━\u001B[0m\u001B[37m\u001B[0m \u001B[1m0s\u001B[0m 41ms/step - categorical_accuracy: 0.9145 - loss: 0.2510 - val_categorical_accuracy: 0.9091 - val_loss: 0.2604\n",
      "Epoch 187/300\n",
      "\u001B[1m2/2\u001B[0m \u001B[32m━━━━━━━━━━━━━━━━━━━━\u001B[0m\u001B[37m\u001B[0m \u001B[1m0s\u001B[0m 42ms/step - categorical_accuracy: 0.9106 - loss: 0.2544 - val_categorical_accuracy: 0.9091 - val_loss: 0.2604\n",
      "Epoch 188/300\n",
      "\u001B[1m2/2\u001B[0m \u001B[32m━━━━━━━━━━━━━━━━━━━━\u001B[0m\u001B[37m\u001B[0m \u001B[1m0s\u001B[0m 40ms/step - categorical_accuracy: 0.9050 - loss: 0.2668 - val_categorical_accuracy: 0.9091 - val_loss: 0.2607\n",
      "Epoch 189/300\n",
      "\u001B[1m2/2\u001B[0m \u001B[32m━━━━━━━━━━━━━━━━━━━━\u001B[0m\u001B[37m\u001B[0m \u001B[1m0s\u001B[0m 44ms/step - categorical_accuracy: 0.9128 - loss: 0.2485 - val_categorical_accuracy: 0.9091 - val_loss: 0.2608\n",
      "Epoch 190/300\n",
      "\u001B[1m2/2\u001B[0m \u001B[32m━━━━━━━━━━━━━━━━━━━━\u001B[0m\u001B[37m\u001B[0m \u001B[1m0s\u001B[0m 51ms/step - categorical_accuracy: 0.9132 - loss: 0.2543 - val_categorical_accuracy: 0.9091 - val_loss: 0.2606\n",
      "Epoch 191/300\n",
      "\u001B[1m2/2\u001B[0m \u001B[32m━━━━━━━━━━━━━━━━━━━━\u001B[0m\u001B[37m\u001B[0m \u001B[1m0s\u001B[0m 75ms/step - categorical_accuracy: 0.9184 - loss: 0.2461 - val_categorical_accuracy: 0.9091 - val_loss: 0.2605\n",
      "Epoch 192/300\n",
      "\u001B[1m2/2\u001B[0m \u001B[32m━━━━━━━━━━━━━━━━━━━━\u001B[0m\u001B[37m\u001B[0m \u001B[1m0s\u001B[0m 50ms/step - categorical_accuracy: 0.9145 - loss: 0.2456 - val_categorical_accuracy: 0.9091 - val_loss: 0.2604\n",
      "Epoch 193/300\n",
      "\u001B[1m2/2\u001B[0m \u001B[32m━━━━━━━━━━━━━━━━━━━━\u001B[0m\u001B[37m\u001B[0m \u001B[1m0s\u001B[0m 39ms/step - categorical_accuracy: 0.9210 - loss: 0.2433 - val_categorical_accuracy: 0.9091 - val_loss: 0.2604\n",
      "Epoch 194/300\n",
      "\u001B[1m2/2\u001B[0m \u001B[32m━━━━━━━━━━━━━━━━━━━━\u001B[0m\u001B[37m\u001B[0m \u001B[1m0s\u001B[0m 44ms/step - categorical_accuracy: 0.9188 - loss: 0.2447 - val_categorical_accuracy: 0.9091 - val_loss: 0.2604\n",
      "Epoch 195/300\n",
      "\u001B[1m2/2\u001B[0m \u001B[32m━━━━━━━━━━━━━━━━━━━━\u001B[0m\u001B[37m\u001B[0m \u001B[1m0s\u001B[0m 48ms/step - categorical_accuracy: 0.9201 - loss: 0.2392 - val_categorical_accuracy: 0.9091 - val_loss: 0.2605\n",
      "Epoch 196/300\n",
      "\u001B[1m2/2\u001B[0m \u001B[32m━━━━━━━━━━━━━━━━━━━━\u001B[0m\u001B[37m\u001B[0m \u001B[1m0s\u001B[0m 45ms/step - categorical_accuracy: 0.9136 - loss: 0.2482 - val_categorical_accuracy: 0.9091 - val_loss: 0.2609\n",
      "Epoch 197/300\n",
      "\u001B[1m2/2\u001B[0m \u001B[32m━━━━━━━━━━━━━━━━━━━━\u001B[0m\u001B[37m\u001B[0m \u001B[1m0s\u001B[0m 43ms/step - categorical_accuracy: 0.9175 - loss: 0.2481 - val_categorical_accuracy: 0.9015 - val_loss: 0.2610\n",
      "Epoch 198/300\n",
      "\u001B[1m2/2\u001B[0m \u001B[32m━━━━━━━━━━━━━━━━━━━━\u001B[0m\u001B[37m\u001B[0m \u001B[1m0s\u001B[0m 42ms/step - categorical_accuracy: 0.9175 - loss: 0.2474 - val_categorical_accuracy: 0.9091 - val_loss: 0.2608\n",
      "Epoch 199/300\n",
      "\u001B[1m2/2\u001B[0m \u001B[32m━━━━━━━━━━━━━━━━━━━━\u001B[0m\u001B[37m\u001B[0m \u001B[1m0s\u001B[0m 44ms/step - categorical_accuracy: 0.9227 - loss: 0.2384 - val_categorical_accuracy: 0.9091 - val_loss: 0.2607\n",
      "Epoch 200/300\n",
      "\u001B[1m2/2\u001B[0m \u001B[32m━━━━━━━━━━━━━━━━━━━━\u001B[0m\u001B[37m\u001B[0m \u001B[1m0s\u001B[0m 47ms/step - categorical_accuracy: 0.9223 - loss: 0.2366 - val_categorical_accuracy: 0.9091 - val_loss: 0.2605\n",
      "Epoch 200: early stopping\n"
     ]
    },
    {
     "data": {
      "text/plain": [
       "<keras.src.callbacks.history.History at 0x22fe94bb290>"
      ]
     },
     "execution_count": 334,
     "metadata": {},
     "output_type": "execute_result"
    }
   ],
   "execution_count": 334
  },
  {
   "metadata": {
    "ExecuteTime": {
     "end_time": "2025-07-09T01:35:43.514807Z",
     "start_time": "2025-07-09T01:35:43.365707Z"
    }
   },
   "cell_type": "code",
   "source": [
    "model_loss = pd.DataFrame(model.history.history)\n",
    "model_loss.plot()"
   ],
   "id": "704f4f58a8ea25e1",
   "outputs": [
    {
     "data": {
      "text/plain": [
       "<Axes: >"
      ]
     },
     "execution_count": 335,
     "metadata": {},
     "output_type": "execute_result"
    },
    {
     "data": {
      "text/plain": [
       "<Figure size 640x480 with 1 Axes>"
      ],
      "image/png": "[encoded data removed]"
     },
     "metadata": {},
     "output_type": "display_data"
    }
   ],
   "execution_count": 335
  },
  {
   "metadata": {
    "ExecuteTime": {
     "end_time": "2025-07-09T01:35:45.681732Z",
     "start_time": "2025-07-09T01:35:45.677319Z"
    }
   },
   "cell_type": "code",
   "source": "#Evaluacion del Modelo\n",
   "id": "4cd4677c40f25259",
   "outputs": [],
   "execution_count": 336
  },
  {
   "metadata": {
    "ExecuteTime": {
     "end_time": "2025-07-09T01:35:46.832277Z",
     "start_time": "2025-07-09T01:35:46.767258Z"
    }
   },
   "cell_type": "code",
   "source": [
    "#Predicción\n",
    "\n",
    "predictions = model.predict(X_test)"
   ],
   "id": "f0b0af90377d7745",
   "outputs": [
    {
     "name": "stdout",
     "output_type": "stream",
     "text": [
      "\u001B[1m5/5\u001B[0m \u001B[32m━━━━━━━━━━━━━━━━━━━━\u001B[0m\u001B[37m\u001B[0m \u001B[1m0s\u001B[0m 4ms/step \n"
     ]
    }
   ],
   "execution_count": 337
  },
  {
   "metadata": {
    "ExecuteTime": {
     "end_time": "2025-07-09T01:35:48.575479Z",
     "start_time": "2025-07-09T01:35:48.567053Z"
    }
   },
   "cell_type": "code",
   "source": "y_test",
   "id": "f69c349975e61b03",
   "outputs": [
    {
     "data": {
      "text/plain": [
       "array([[False,  True, False],\n",
       "       [ True, False, False],\n",
       "       [ True, False, False],\n",
       "       [False,  True, False],\n",
       "       [False,  True, False],\n",
       "       [False, False,  True],\n",
       "       [False,  True, False],\n",
       "       [ True, False, False],\n",
       "       [ True, False, False],\n",
       "       [False, False,  True],\n",
       "       [False, False,  True],\n",
       "       [False, False,  True],\n",
       "       [False,  True, False],\n",
       "       [False, False,  True],\n",
       "       [False,  True, False],\n",
       "       [False, False,  True],\n",
       "       [False,  True, False],\n",
       "       [False, False,  True],\n",
       "       [ True, False, False],\n",
       "       [ True, False, False],\n",
       "       [False, False,  True],\n",
       "       [False, False,  True],\n",
       "       [False,  True, False],\n",
       "       [False, False,  True],\n",
       "       [False,  True, False],\n",
       "       [False, False,  True],\n",
       "       [ True, False, False],\n",
       "       [ True, False, False],\n",
       "       [False,  True, False],\n",
       "       [False,  True, False],\n",
       "       [ True, False, False],\n",
       "       [False,  True, False],\n",
       "       [ True, False, False],\n",
       "       [False, False,  True],\n",
       "       [False,  True, False],\n",
       "       [False,  True, False],\n",
       "       [False,  True, False],\n",
       "       [False, False,  True],\n",
       "       [False,  True, False],\n",
       "       [False, False,  True],\n",
       "       [False,  True, False],\n",
       "       [ True, False, False],\n",
       "       [ True, False, False],\n",
       "       [False, False,  True],\n",
       "       [False, False,  True],\n",
       "       [ True, False, False],\n",
       "       [False, False,  True],\n",
       "       [ True, False, False],\n",
       "       [False,  True, False],\n",
       "       [ True, False, False],\n",
       "       [False,  True, False],\n",
       "       [False, False,  True],\n",
       "       [False, False,  True],\n",
       "       [False,  True, False],\n",
       "       [ True, False, False],\n",
       "       [False,  True, False],\n",
       "       [False,  True, False],\n",
       "       [False,  True, False],\n",
       "       [ True, False, False],\n",
       "       [False,  True, False],\n",
       "       [False,  True, False],\n",
       "       [False,  True, False],\n",
       "       [ True, False, False],\n",
       "       [False, False,  True],\n",
       "       [False,  True, False],\n",
       "       [False, False,  True],\n",
       "       [ True, False, False],\n",
       "       [False, False,  True],\n",
       "       [False,  True, False],\n",
       "       [False, False,  True],\n",
       "       [False, False,  True],\n",
       "       [False,  True, False],\n",
       "       [False,  True, False],\n",
       "       [ True, False, False],\n",
       "       [False,  True, False],\n",
       "       [False, False,  True],\n",
       "       [ True, False, False],\n",
       "       [ True, False, False],\n",
       "       [False, False,  True],\n",
       "       [False,  True, False],\n",
       "       [False, False,  True],\n",
       "       [False, False,  True],\n",
       "       [ True, False, False],\n",
       "       [False,  True, False],\n",
       "       [False,  True, False],\n",
       "       [ True, False, False],\n",
       "       [False,  True, False],\n",
       "       [False,  True, False],\n",
       "       [False, False,  True],\n",
       "       [False, False,  True],\n",
       "       [False, False,  True],\n",
       "       [ True, False, False],\n",
       "       [ True, False, False],\n",
       "       [ True, False, False],\n",
       "       [ True, False, False],\n",
       "       [False, False,  True],\n",
       "       [False, False,  True],\n",
       "       [ True, False, False],\n",
       "       [False,  True, False],\n",
       "       [ True, False, False],\n",
       "       [False,  True, False],\n",
       "       [False, False,  True],\n",
       "       [False, False,  True],\n",
       "       [False,  True, False],\n",
       "       [False,  True, False],\n",
       "       [False, False,  True],\n",
       "       [ True, False, False],\n",
       "       [ True, False, False],\n",
       "       [ True, False, False],\n",
       "       [False,  True, False],\n",
       "       [ True, False, False],\n",
       "       [ True, False, False],\n",
       "       [False, False,  True],\n",
       "       [False,  True, False],\n",
       "       [ True, False, False],\n",
       "       [False,  True, False],\n",
       "       [False,  True, False],\n",
       "       [False,  True, False],\n",
       "       [False,  True, False],\n",
       "       [False,  True, False],\n",
       "       [False, False,  True],\n",
       "       [ True, False, False],\n",
       "       [False,  True, False],\n",
       "       [ True, False, False],\n",
       "       [False,  True, False],\n",
       "       [False, False,  True],\n",
       "       [False, False,  True],\n",
       "       [False, False,  True],\n",
       "       [False,  True, False],\n",
       "       [False,  True, False],\n",
       "       [False,  True, False],\n",
       "       [False,  True, False]])"
      ]
     },
     "execution_count": 338,
     "metadata": {},
     "output_type": "execute_result"
    }
   ],
   "execution_count": 338
  },
  {
   "metadata": {
    "ExecuteTime": {
     "end_time": "2025-07-09T01:35:50.161876Z",
     "start_time": "2025-07-09T01:35:50.154323Z"
    }
   },
   "cell_type": "code",
   "source": "predictions",
   "id": "d8c5928bc1ba2ee9",
   "outputs": [
    {
     "data": {
      "text/plain": [
       "array([[5.08e-04, 9.61e-01, 3.82e-02],\n",
       "       [9.76e-01, 2.31e-02, 4.34e-04],\n",
       "       [9.96e-01, 6.98e-08, 3.55e-03],\n",
       "       [2.38e-01, 7.62e-01, 6.66e-04],\n",
       "       [1.30e-04, 1.00e+00, 2.22e-04],\n",
       "       [8.84e-02, 1.47e-03, 9.10e-01],\n",
       "       [1.02e-03, 9.94e-01, 4.67e-03],\n",
       "       [8.22e-01, 2.89e-06, 1.78e-01],\n",
       "       [9.97e-01, 6.87e-04, 1.98e-03],\n",
       "       [4.06e-02, 5.20e-01, 4.39e-01],\n",
       "       [9.08e-02, 8.67e-04, 9.08e-01],\n",
       "       [3.45e-02, 1.66e-01, 8.00e-01],\n",
       "       [5.16e-04, 9.96e-01, 3.75e-03],\n",
       "       [1.32e-01, 8.55e-04, 8.67e-01],\n",
       "       [9.77e-04, 9.98e-01, 5.31e-04],\n",
       "       [4.30e-02, 6.86e-03, 9.50e-01],\n",
       "       [1.31e-04, 9.99e-01, 1.15e-03],\n",
       "       [7.17e-02, 3.93e-05, 9.28e-01],\n",
       "       [9.95e-01, 3.39e-04, 4.82e-03],\n",
       "       [9.97e-01, 3.43e-03, 2.23e-05],\n",
       "       [3.20e-02, 5.47e-06, 9.68e-01],\n",
       "       [7.97e-02, 1.76e-02, 9.03e-01],\n",
       "       [2.73e-03, 9.87e-01, 1.06e-02],\n",
       "       [1.18e-01, 3.69e-05, 8.82e-01],\n",
       "       [6.69e-04, 9.98e-01, 9.21e-04],\n",
       "       [4.93e-02, 1.70e-02, 9.34e-01],\n",
       "       [9.99e-01, 1.31e-08, 6.49e-04],\n",
       "       [9.99e-01, 8.09e-06, 1.20e-03],\n",
       "       [6.78e-01, 1.62e-01, 1.60e-01],\n",
       "       [2.50e-03, 9.92e-01, 5.33e-03],\n",
       "       [9.78e-01, 2.21e-02, 3.70e-05],\n",
       "       [5.50e-04, 9.97e-01, 2.76e-03],\n",
       "       [9.56e-01, 4.37e-02, 2.01e-04],\n",
       "       [1.80e-02, 4.31e-03, 9.78e-01],\n",
       "       [2.46e-04, 9.99e-01, 1.10e-03],\n",
       "       [9.45e-04, 9.99e-01, 2.31e-04],\n",
       "       [1.70e-03, 9.55e-01, 4.38e-02],\n",
       "       [8.73e-02, 5.81e-05, 9.13e-01],\n",
       "       [1.55e-02, 9.71e-01, 1.37e-02],\n",
       "       [2.19e-01, 3.37e-05, 7.81e-01],\n",
       "       [1.83e-03, 9.93e-01, 5.32e-03],\n",
       "       [1.00e+00, 6.20e-05, 2.13e-04],\n",
       "       [9.99e-01, 3.73e-04, 5.29e-04],\n",
       "       [7.73e-02, 1.15e-04, 9.23e-01],\n",
       "       [6.26e-02, 1.39e-01, 7.98e-01],\n",
       "       [6.16e-01, 5.73e-05, 3.84e-01],\n",
       "       [6.38e-02, 9.07e-05, 9.36e-01],\n",
       "       [8.02e-01, 1.97e-01, 1.07e-04],\n",
       "       [1.23e-03, 9.80e-01, 1.84e-02],\n",
       "       [2.87e-02, 9.69e-01, 2.00e-03],\n",
       "       [6.42e-01, 2.15e-01, 1.42e-01],\n",
       "       [6.75e-02, 6.21e-02, 8.70e-01],\n",
       "       [4.89e-02, 5.79e-06, 9.51e-01],\n",
       "       [1.42e-04, 9.99e-01, 7.70e-04],\n",
       "       [6.54e-01, 2.34e-01, 1.11e-01],\n",
       "       [2.02e-03, 9.46e-01, 5.25e-02],\n",
       "       [6.56e-03, 9.25e-01, 6.85e-02],\n",
       "       [4.21e-02, 7.90e-01, 1.68e-01],\n",
       "       [6.60e-01, 3.40e-01, 5.02e-04],\n",
       "       [1.91e-03, 9.97e-01, 1.36e-03],\n",
       "       [1.74e-02, 9.62e-01, 2.08e-02],\n",
       "       [6.11e-01, 3.89e-01, 5.98e-04],\n",
       "       [8.22e-02, 2.11e-03, 9.16e-01],\n",
       "       [1.47e-01, 4.09e-02, 8.12e-01],\n",
       "       [9.83e-03, 9.54e-01, 3.61e-02],\n",
       "       [1.22e-01, 3.63e-01, 5.15e-01],\n",
       "       [9.94e-01, 1.67e-03, 3.99e-03],\n",
       "       [8.26e-02, 7.09e-02, 8.46e-01],\n",
       "       [1.05e-03, 9.98e-01, 6.56e-04],\n",
       "       [3.94e-02, 2.13e-01, 7.48e-01],\n",
       "       [1.27e-01, 2.00e-05, 8.73e-01],\n",
       "       [4.62e-03, 4.73e-01, 5.22e-01],\n",
       "       [3.00e-02, 9.44e-01, 2.64e-02],\n",
       "       [9.99e-01, 9.36e-04, 1.55e-04],\n",
       "       [6.67e-01, 1.77e-01, 1.56e-01],\n",
       "       [5.66e-02, 1.91e-01, 7.52e-01],\n",
       "       [9.88e-01, 1.19e-02, 4.96e-04],\n",
       "       [8.37e-01, 4.72e-04, 1.63e-01],\n",
       "       [4.26e-01, 1.79e-02, 5.56e-01],\n",
       "       [2.70e-04, 9.99e-01, 1.11e-03],\n",
       "       [5.22e-02, 5.08e-05, 9.48e-01],\n",
       "       [1.46e-01, 2.09e-04, 8.53e-01],\n",
       "       [9.87e-01, 1.18e-02, 7.77e-04],\n",
       "       [5.65e-02, 7.33e-01, 2.11e-01],\n",
       "       [1.65e-02, 9.11e-01, 7.24e-02],\n",
       "       [9.97e-01, 2.92e-03, 2.75e-04],\n",
       "       [2.56e-01, 7.40e-01, 4.41e-03],\n",
       "       [3.10e-04, 9.96e-01, 3.33e-03],\n",
       "       [1.66e-01, 6.53e-04, 8.33e-01],\n",
       "       [5.16e-01, 3.40e-03, 4.81e-01],\n",
       "       [2.31e-01, 2.96e-01, 4.74e-01],\n",
       "       [8.54e-01, 7.22e-04, 1.45e-01],\n",
       "       [9.33e-01, 4.35e-04, 6.63e-02],\n",
       "       [9.99e-01, 1.05e-03, 1.68e-04],\n",
       "       [6.13e-01, 3.86e-01, 7.66e-04],\n",
       "       [3.02e-01, 2.39e-05, 6.98e-01],\n",
       "       [4.74e-01, 3.72e-02, 4.88e-01],\n",
       "       [9.99e-01, 8.88e-04, 3.97e-04],\n",
       "       [4.51e-01, 5.26e-01, 2.33e-02],\n",
       "       [9.89e-01, 1.06e-02, 7.02e-04],\n",
       "       [3.95e-04, 9.99e-01, 3.43e-04],\n",
       "       [1.57e-01, 8.59e-02, 7.58e-01],\n",
       "       [3.35e-01, 4.87e-02, 6.16e-01],\n",
       "       [1.95e-03, 9.97e-01, 8.07e-04],\n",
       "       [2.39e-04, 9.89e-01, 1.06e-02],\n",
       "       [9.72e-02, 1.09e-03, 9.02e-01],\n",
       "       [1.95e-01, 3.03e-05, 8.05e-01],\n",
       "       [9.97e-01, 3.14e-06, 3.07e-03],\n",
       "       [7.13e-02, 9.28e-01, 5.87e-04],\n",
       "       [8.30e-04, 9.87e-01, 1.18e-02],\n",
       "       [9.70e-01, 1.36e-04, 2.95e-02],\n",
       "       [7.67e-01, 2.32e-01, 1.30e-03],\n",
       "       [9.20e-02, 2.58e-03, 9.05e-01],\n",
       "       [6.59e-04, 9.94e-01, 5.52e-03],\n",
       "       [9.99e-01, 5.19e-04, 1.03e-04],\n",
       "       [1.06e-02, 9.84e-01, 5.91e-03],\n",
       "       [1.76e-03, 9.97e-01, 1.10e-03],\n",
       "       [2.90e-02, 9.59e-01, 1.20e-02],\n",
       "       [1.58e-02, 7.73e-01, 2.11e-01],\n",
       "       [2.51e-03, 9.96e-01, 1.68e-03],\n",
       "       [2.01e-01, 1.69e-05, 7.99e-01],\n",
       "       [1.00e+00, 2.99e-06, 3.07e-04],\n",
       "       [7.80e-04, 9.98e-01, 1.14e-03],\n",
       "       [9.82e-01, 2.27e-07, 1.82e-02],\n",
       "       [3.10e-03, 9.78e-01, 1.89e-02],\n",
       "       [5.13e-02, 2.72e-01, 6.76e-01],\n",
       "       [8.37e-02, 6.28e-01, 2.89e-01],\n",
       "       [6.26e-02, 2.08e-01, 7.30e-01],\n",
       "       [9.25e-03, 9.90e-01, 9.52e-04],\n",
       "       [1.22e-04, 9.99e-01, 6.18e-04],\n",
       "       [5.63e-03, 9.34e-01, 5.99e-02],\n",
       "       [2.98e-02, 8.22e-01, 1.48e-01]], dtype=float32)"
      ]
     },
     "execution_count": 339,
     "metadata": {},
     "output_type": "execute_result"
    }
   ],
   "execution_count": 339
  },
  {
   "metadata": {
    "ExecuteTime": {
     "end_time": "2025-07-09T01:35:51.767153Z",
     "start_time": "2025-07-09T01:35:51.696880Z"
    }
   },
   "cell_type": "code",
   "source": "predictions_lab = np.argmax(model.predict(X_test), axis=-1)#Utilizando la nueva versión de scikit-learn",
   "id": "eca3c3e009ca121c",
   "outputs": [
    {
     "name": "stdout",
     "output_type": "stream",
     "text": [
      "\u001B[1m5/5\u001B[0m \u001B[32m━━━━━━━━━━━━━━━━━━━━\u001B[0m\u001B[37m\u001B[0m \u001B[1m0s\u001B[0m 5ms/step \n"
     ]
    }
   ],
   "execution_count": 340
  },
  {
   "metadata": {
    "ExecuteTime": {
     "end_time": "2025-07-09T01:35:52.867361Z",
     "start_time": "2025-07-09T01:35:52.857162Z"
    }
   },
   "cell_type": "code",
   "source": [
    "## Predice las clases para X_test y obtiene el índice de la clase con mayor probabilidad\n",
    "predictions_lab"
   ],
   "id": "712eb67127beb17f",
   "outputs": [
    {
     "data": {
      "text/plain": [
       "array([1, 0, 0, 1, 1, 2, 1, 0, 0, 1, 2, 2, 1, 2, 1, 2, 1, 2, 0, 0, 2, 2,\n",
       "       1, 2, 1, 2, 0, 0, 0, 1, 0, 1, 0, 2, 1, 1, 1, 2, 1, 2, 1, 0, 0, 2,\n",
       "       2, 0, 2, 0, 1, 1, 0, 2, 2, 1, 0, 1, 1, 1, 0, 1, 1, 0, 2, 2, 1, 2,\n",
       "       0, 2, 1, 2, 2, 2, 1, 0, 0, 2, 0, 0, 2, 1, 2, 2, 0, 1, 1, 0, 1, 1,\n",
       "       2, 0, 2, 0, 0, 0, 0, 2, 2, 0, 1, 0, 1, 2, 2, 1, 1, 2, 2, 0, 1, 1,\n",
       "       0, 0, 2, 1, 0, 1, 1, 1, 1, 1, 2, 0, 1, 0, 1, 2, 1, 2, 1, 1, 1, 1])"
      ]
     },
     "execution_count": 341,
     "metadata": {},
     "output_type": "execute_result"
    }
   ],
   "execution_count": 341
  },
  {
   "metadata": {
    "ExecuteTime": {
     "end_time": "2025-07-09T01:35:55.111803Z",
     "start_time": "2025-07-09T01:35:55.107386Z"
    }
   },
   "cell_type": "code",
   "source": [
    "# Ajustar las predicciones\n",
    "predictions_lab_real = predictions_lab+1"
   ],
   "id": "6b6ba93b98baf708",
   "outputs": [],
   "execution_count": 342
  },
  {
   "metadata": {
    "ExecuteTime": {
     "end_time": "2025-07-09T01:35:56.348412Z",
     "start_time": "2025-07-09T01:35:56.341386Z"
    }
   },
   "cell_type": "code",
   "source": "predictions_lab_real",
   "id": "2c87c7f99eb0ea25",
   "outputs": [
    {
     "data": {
      "text/plain": [
       "array([2, 1, 1, 2, 2, 3, 2, 1, 1, 2, 3, 3, 2, 3, 2, 3, 2, 3, 1, 1, 3, 3,\n",
       "       2, 3, 2, 3, 1, 1, 1, 2, 1, 2, 1, 3, 2, 2, 2, 3, 2, 3, 2, 1, 1, 3,\n",
       "       3, 1, 3, 1, 2, 2, 1, 3, 3, 2, 1, 2, 2, 2, 1, 2, 2, 1, 3, 3, 2, 3,\n",
       "       1, 3, 2, 3, 3, 3, 2, 1, 1, 3, 1, 1, 3, 2, 3, 3, 1, 2, 2, 1, 2, 2,\n",
       "       3, 1, 3, 1, 1, 1, 1, 3, 3, 1, 2, 1, 2, 3, 3, 2, 2, 3, 3, 1, 2, 2,\n",
       "       1, 1, 3, 2, 1, 2, 2, 2, 2, 2, 3, 1, 2, 1, 2, 3, 2, 3, 2, 2, 2, 2])"
      ]
     },
     "execution_count": 343,
     "metadata": {},
     "output_type": "execute_result"
    }
   ],
   "execution_count": 343
  },
  {
   "metadata": {
    "ExecuteTime": {
     "end_time": "2025-07-09T01:35:57.629338Z",
     "start_time": "2025-07-09T01:35:57.624490Z"
    }
   },
   "cell_type": "code",
   "source": "df_test_lab = pd.DataFrame(y_test, columns = ['Riego','Fertilización','Poda Preventiva'])",
   "id": "c68f42eedddc022d",
   "outputs": [],
   "execution_count": 344
  },
  {
   "metadata": {
    "ExecuteTime": {
     "end_time": "2025-07-09T01:35:58.426331Z",
     "start_time": "2025-07-09T01:35:58.417358Z"
    }
   },
   "cell_type": "code",
   "source": "df_test_lab",
   "id": "f1f9a022f26e0a3e",
   "outputs": [
    {
     "data": {
      "text/plain": [
       "     Riego  Fertilización  Poda Preventiva\n",
       "0    False           True            False\n",
       "1     True          False            False\n",
       "2     True          False            False\n",
       "3    False           True            False\n",
       "4    False           True            False\n",
       "..     ...            ...              ...\n",
       "127  False          False             True\n",
       "128  False           True            False\n",
       "129  False           True            False\n",
       "130  False           True            False\n",
       "131  False           True            False\n",
       "\n",
       "[132 rows x 3 columns]"
      ],
      "text/html": [
       "<div>\n",
       "<style scoped>\n",
       "    .dataframe tbody tr th:only-of-type {\n",
       "        vertical-align: middle;\n",
       "    }\n",
       "\n",
       "    .dataframe tbody tr th {\n",
       "        vertical-align: top;\n",
       "    }\n",
       "\n",
       "    .dataframe thead th {\n",
       "        text-align: right;\n",
       "    }\n",
       "</style>\n",
       "<table border=\"1\" class=\"dataframe\">\n",
       "  <thead>\n",
       "    <tr style=\"text-align: right;\">\n",
       "      <th></th>\n",
       "      <th>Riego</th>\n",
       "      <th>Fertilización</th>\n",
       "      <th>Poda Preventiva</th>\n",
       "    </tr>\n",
       "  </thead>\n",
       "  <tbody>\n",
       "    <tr>\n",
       "      <th>0</th>\n",
       "      <td>False</td>\n",
       "      <td>True</td>\n",
       "      <td>False</td>\n",
       "    </tr>\n",
       "    <tr>\n",
       "      <th>1</th>\n",
       "      <td>True</td>\n",
       "      <td>False</td>\n",
       "      <td>False</td>\n",
       "    </tr>\n",
       "    <tr>\n",
       "      <th>2</th>\n",
       "      <td>True</td>\n",
       "      <td>False</td>\n",
       "      <td>False</td>\n",
       "    </tr>\n",
       "    <tr>\n",
       "      <th>3</th>\n",
       "      <td>False</td>\n",
       "      <td>True</td>\n",
       "      <td>False</td>\n",
       "    </tr>\n",
       "    <tr>\n",
       "      <th>4</th>\n",
       "      <td>False</td>\n",
       "      <td>True</td>\n",
       "      <td>False</td>\n",
       "    </tr>\n",
       "    <tr>\n",
       "      <th>...</th>\n",
       "      <td>...</td>\n",
       "      <td>...</td>\n",
       "      <td>...</td>\n",
       "    </tr>\n",
       "    <tr>\n",
       "      <th>127</th>\n",
       "      <td>False</td>\n",
       "      <td>False</td>\n",
       "      <td>True</td>\n",
       "    </tr>\n",
       "    <tr>\n",
       "      <th>128</th>\n",
       "      <td>False</td>\n",
       "      <td>True</td>\n",
       "      <td>False</td>\n",
       "    </tr>\n",
       "    <tr>\n",
       "      <th>129</th>\n",
       "      <td>False</td>\n",
       "      <td>True</td>\n",
       "      <td>False</td>\n",
       "    </tr>\n",
       "    <tr>\n",
       "      <th>130</th>\n",
       "      <td>False</td>\n",
       "      <td>True</td>\n",
       "      <td>False</td>\n",
       "    </tr>\n",
       "    <tr>\n",
       "      <th>131</th>\n",
       "      <td>False</td>\n",
       "      <td>True</td>\n",
       "      <td>False</td>\n",
       "    </tr>\n",
       "  </tbody>\n",
       "</table>\n",
       "<p>132 rows × 3 columns</p>\n",
       "</div>"
      ]
     },
     "execution_count": 345,
     "metadata": {},
     "output_type": "execute_result"
    }
   ],
   "execution_count": 345
  },
  {
   "metadata": {
    "ExecuteTime": {
     "end_time": "2025-07-09T01:36:00.546384Z",
     "start_time": "2025-07-09T01:36:00.537308Z"
    }
   },
   "cell_type": "code",
   "source": "df_test_lab[\"Clase Real\"] = df_test_lab[[\"Riego\", \"Fertilización\", \"Poda Preventiva\"]].values.argmax(axis=1) + 1",
   "id": "b896b2c64593e8e4",
   "outputs": [],
   "execution_count": 346
  },
  {
   "metadata": {
    "ExecuteTime": {
     "end_time": "2025-07-09T01:36:01.688170Z",
     "start_time": "2025-07-09T01:36:01.676992Z"
    }
   },
   "cell_type": "code",
   "source": "df_test_lab[\"Clase Real\"]",
   "id": "5625396a65e7b973",
   "outputs": [
    {
     "data": {
      "text/plain": [
       "0      2\n",
       "1      1\n",
       "2      1\n",
       "3      2\n",
       "4      2\n",
       "      ..\n",
       "127    3\n",
       "128    2\n",
       "129    2\n",
       "130    2\n",
       "131    2\n",
       "Name: Clase Real, Length: 132, dtype: int64"
      ]
     },
     "execution_count": 347,
     "metadata": {},
     "output_type": "execute_result"
    }
   ],
   "execution_count": 347
  },
  {
   "metadata": {
    "ExecuteTime": {
     "end_time": "2025-07-09T01:36:04.130472Z",
     "start_time": "2025-07-09T01:36:04.127267Z"
    }
   },
   "cell_type": "code",
   "source": "clases=[1, 2, 3]",
   "id": "db372d0ca90f223c",
   "outputs": [],
   "execution_count": 348
  },
  {
   "metadata": {
    "ExecuteTime": {
     "end_time": "2025-07-09T01:36:05.337898Z",
     "start_time": "2025-07-09T01:36:05.327010Z"
    }
   },
   "cell_type": "code",
   "source": [
    "#Convertir Clase Real en un array\n",
    "array_clase_real = df_test_lab[\"Clase Real\"].to_numpy()"
   ],
   "id": "e297fbb3476fd504",
   "outputs": [],
   "execution_count": 349
  },
  {
   "metadata": {
    "ExecuteTime": {
     "end_time": "2025-07-09T01:36:06.318977Z",
     "start_time": "2025-07-09T01:36:06.310969Z"
    }
   },
   "cell_type": "code",
   "source": [
    "#Generar la Matriz de confusion\n",
    "confusion_matrix(array_clase_real, predictions_lab_real, labels=clases)"
   ],
   "id": "c7205c4a71f7a55c",
   "outputs": [
    {
     "data": {
      "text/plain": [
       "array([[34,  2,  2],\n",
       "       [ 4, 48,  1],\n",
       "       [ 1,  2, 38]])"
      ]
     },
     "execution_count": 350,
     "metadata": {},
     "output_type": "execute_result"
    }
   ],
   "execution_count": 350
  },
  {
   "metadata": {
    "ExecuteTime": {
     "end_time": "2025-07-09T01:36:08.585726Z",
     "start_time": "2025-07-09T01:36:08.577166Z"
    }
   },
   "cell_type": "code",
   "source": [
    "#Funcion para mostrar Matrix de confusion\n",
    "def plot_confusion_matrix(cm, classes,\n",
    "                          normalize=False,\n",
    "                          title='Confusion matrix',\n",
    "                          cmap=plt.cm.Blues):\n",
    "    \"\"\"\n",
    "    This function prints and plots the confusion matrix.\n",
    "    Normalization can be applied by setting `normalize=True`.\n",
    "    Source: https://datascience.stackexchange.com/questions/40067/confusion-matrix-three-classes-python/40068\n",
    "    \"\"\"\n",
    "    import itertools\n",
    "    if normalize:\n",
    "        cm = cm.astype('float') / cm.sum(axis=1)[:, np.newaxis]\n",
    "        print(\"Normalized confusion matrix\")\n",
    "    else:\n",
    "        print('Confusion matrix sin normalizar')\n",
    "\n",
    "    print(cm)\n",
    "\n",
    "    plt.imshow(cm, interpolation='nearest', cmap=cmap)\n",
    "    plt.title(title)\n",
    "    plt.colorbar()\n",
    "    tick_marks = np.arange(len(classes))\n",
    "    plt.xticks(tick_marks, classes, rotation=45)\n",
    "    plt.yticks(tick_marks, classes)\n",
    "\n",
    "    fmt = '.2f' if normalize else 'd'\n",
    "    thresh = cm.max() / 2.\n",
    "    for i, j in itertools.product(range(cm.shape[0]), range(cm.shape[1])):\n",
    "        plt.text(j, i, format(cm[i, j], fmt),\n",
    "                 horizontalalignment=\"center\",\n",
    "                 color=\"white\" if cm[i, j] > thresh else \"black\")\n",
    "\n",
    "    plt.ylabel('True label')\n",
    "    plt.xlabel('Predicted label')\n",
    "    plt.tight_layout()"
   ],
   "id": "2a9e8182754f5caa",
   "outputs": [],
   "execution_count": 351
  },
  {
   "metadata": {
    "ExecuteTime": {
     "end_time": "2025-07-09T01:36:10.635326Z",
     "start_time": "2025-07-09T01:36:10.547918Z"
    }
   },
   "cell_type": "code",
   "source": [
    "#Mostrar grafico de Matrix de confusion\n",
    "cnf_matrix = confusion_matrix(array_clase_real, predictions_lab_real, labels=clases)\n",
    "np.set_printoptions(precision=2)\n",
    "\n",
    "plt.figure()\n",
    "plot_confusion_matrix(cnf_matrix, classes=clases,\n",
    "                      title='Confusion matrix sin normalización')"
   ],
   "id": "c617966455320bc",
   "outputs": [
    {
     "name": "stdout",
     "output_type": "stream",
     "text": [
      "Confusion matrix sin normalizar\n",
      "[[34  2  2]\n",
      " [ 4 48  1]\n",
      " [ 1  2 38]]\n"
     ]
    },
    {
     "data": {
      "text/plain": [
       "<Figure size 640x480 with 2 Axes>"
      ],
      "image/png": "[encoded data removed]"
     },
     "metadata": {},
     "output_type": "display_data"
    }
   ],
   "execution_count": 352
  },
  {
   "metadata": {
    "ExecuteTime": {
     "end_time": "2025-07-09T01:36:13.284711Z",
     "start_time": "2025-07-09T01:36:13.277177Z"
    }
   },
   "cell_type": "code",
   "source": [
    "#Verificar el % de aciertos\n",
    "print(classification_report(array_clase_real, predictions_lab_real))"
   ],
   "id": "48b2b2c0b9a71aaf",
   "outputs": [
    {
     "name": "stdout",
     "output_type": "stream",
     "text": [
      "              precision    recall  f1-score   support\n",
      "\n",
      "           1       0.87      0.89      0.88        38\n",
      "           2       0.92      0.91      0.91        53\n",
      "           3       0.93      0.93      0.93        41\n",
      "\n",
      "    accuracy                           0.91       132\n",
      "   macro avg       0.91      0.91      0.91       132\n",
      "weighted avg       0.91      0.91      0.91       132\n",
      "\n"
     ]
    }
   ],
   "execution_count": 353
  },
  {
   "metadata": {
    "ExecuteTime": {
     "end_time": "2025-07-09T01:36:17.256884Z",
     "start_time": "2025-07-09T01:36:17.247376Z"
    }
   },
   "cell_type": "code",
   "source": [
    "# Predicción sobre nuevos datos\n",
    "\n",
    "#Guardar Dataset preprocesado\n",
    "df.to_csv('rnn_papa_preprocessed.csv', index=False)\n"
   ],
   "id": "7cc10c7371a2c84c",
   "outputs": [],
   "execution_count": 354
  },
  {
   "metadata": {
    "ExecuteTime": {
     "end_time": "2025-07-09T01:36:34.823033Z",
     "start_time": "2025-07-09T01:36:34.807201Z"
    }
   },
   "cell_type": "code",
   "source": [
    "#Cargar Dataset Preprocesado\n",
    "df_pred = pd.read_csv('rnn_papa_preprocessed.csv')\n",
    "df_pred.head()"
   ],
   "id": "bd4606c4c9f2f730",
   "outputs": [
    {
     "data": {
      "text/plain": [
       "   lluvia_mm  temp_max  temp_min   humedad  ph_suelo  Recomendacion\n",
       "0   0.100886  0.066351  0.364952  0.731096  0.632721              1\n",
       "1   0.126300  0.142180  0.337621  0.761342  0.687813              3\n",
       "2   0.052368  0.330569  0.615756  0.722590  0.520868              3\n",
       "3   0.025799  0.040284  0.196141  0.665879  0.631052              1\n",
       "4   0.073931  0.013033  0.393891  0.644612  0.836394              1"
      ],
      "text/html": [
       "<div>\n",
       "<style scoped>\n",
       "    .dataframe tbody tr th:only-of-type {\n",
       "        vertical-align: middle;\n",
       "    }\n",
       "\n",
       "    .dataframe tbody tr th {\n",
       "        vertical-align: top;\n",
       "    }\n",
       "\n",
       "    .dataframe thead th {\n",
       "        text-align: right;\n",
       "    }\n",
       "</style>\n",
       "<table border=\"1\" class=\"dataframe\">\n",
       "  <thead>\n",
       "    <tr style=\"text-align: right;\">\n",
       "      <th></th>\n",
       "      <th>lluvia_mm</th>\n",
       "      <th>temp_max</th>\n",
       "      <th>temp_min</th>\n",
       "      <th>humedad</th>\n",
       "      <th>ph_suelo</th>\n",
       "      <th>Recomendacion</th>\n",
       "    </tr>\n",
       "  </thead>\n",
       "  <tbody>\n",
       "    <tr>\n",
       "      <th>0</th>\n",
       "      <td>0.100886</td>\n",
       "      <td>0.066351</td>\n",
       "      <td>0.364952</td>\n",
       "      <td>0.731096</td>\n",
       "      <td>0.632721</td>\n",
       "      <td>1</td>\n",
       "    </tr>\n",
       "    <tr>\n",
       "      <th>1</th>\n",
       "      <td>0.126300</td>\n",
       "      <td>0.142180</td>\n",
       "      <td>0.337621</td>\n",
       "      <td>0.761342</td>\n",
       "      <td>0.687813</td>\n",
       "      <td>3</td>\n",
       "    </tr>\n",
       "    <tr>\n",
       "      <th>2</th>\n",
       "      <td>0.052368</td>\n",
       "      <td>0.330569</td>\n",
       "      <td>0.615756</td>\n",
       "      <td>0.722590</td>\n",
       "      <td>0.520868</td>\n",
       "      <td>3</td>\n",
       "    </tr>\n",
       "    <tr>\n",
       "      <th>3</th>\n",
       "      <td>0.025799</td>\n",
       "      <td>0.040284</td>\n",
       "      <td>0.196141</td>\n",
       "      <td>0.665879</td>\n",
       "      <td>0.631052</td>\n",
       "      <td>1</td>\n",
       "    </tr>\n",
       "    <tr>\n",
       "      <th>4</th>\n",
       "      <td>0.073931</td>\n",
       "      <td>0.013033</td>\n",
       "      <td>0.393891</td>\n",
       "      <td>0.644612</td>\n",
       "      <td>0.836394</td>\n",
       "      <td>1</td>\n",
       "    </tr>\n",
       "  </tbody>\n",
       "</table>\n",
       "</div>"
      ]
     },
     "execution_count": 355,
     "metadata": {},
     "output_type": "execute_result"
    }
   ],
   "execution_count": 355
  },
  {
   "metadata": {
    "ExecuteTime": {
     "end_time": "2025-07-09T01:36:40.477079Z",
     "start_time": "2025-07-09T01:36:40.469074Z"
    }
   },
   "cell_type": "code",
   "source": [
    "#Eliminar columnas y scalar con resultados anteriores\n",
    "X_pred = df_pred.drop(['Recomendacion'], axis=1).values\n"
   ],
   "id": "6a11b4530d53a84d",
   "outputs": [],
   "execution_count": 356
  },
  {
   "metadata": {
    "ExecuteTime": {
     "end_time": "2025-07-09T01:36:41.914330Z",
     "start_time": "2025-07-09T01:36:41.907307Z"
    }
   },
   "cell_type": "code",
   "source": "df['Recomendacion'].value_counts()",
   "id": "dabaec27db0a4768",
   "outputs": [
    {
     "data": {
      "text/plain": [
       "Recomendacion\n",
       "2    210\n",
       "3    164\n",
       "1    154\n",
       "Name: count, dtype: int64"
      ]
     },
     "execution_count": 357,
     "metadata": {},
     "output_type": "execute_result"
    }
   ],
   "execution_count": 357
  },
  {
   "metadata": {
    "ExecuteTime": {
     "end_time": "2025-07-09T01:37:03.101207Z",
     "start_time": "2025-07-09T01:37:03.092025Z"
    }
   },
   "cell_type": "code",
   "source": [
    "#Escalar df\n",
    "escalador = MinMaxScaler()\n",
    "\n",
    "# columnas numéricas:\n",
    "normalizar = ['lluvia_mm', 'temp_max', 'temp_min', 'humedad', 'ph_suelo']\n",
    "\n",
    "# Aplica la normalización\n",
    "df[normalizar] = escalador.fit_transform(df[normalizar])\n"
   ],
   "id": "9f239cb50f408902",
   "outputs": [],
   "execution_count": 358
  },
  {
   "metadata": {
    "ExecuteTime": {
     "end_time": "2025-07-09T01:37:05.997261Z",
     "start_time": "2025-07-09T01:37:05.920929Z"
    }
   },
   "cell_type": "code",
   "source": [
    "X_pred = escalador.transform(X_pred)\n",
    "#Realizar predicción\n",
    "resultado = np.argmax(model.predict(X_pred), axis=-1) + 1\n",
    "\n",
    "#Unir en un dataframe los datos a predecir con su predicción\n",
    "df_pred['PREDICCIÓN']=pd.DataFrame(resultado)\n",
    "df_pred"
   ],
   "id": "10f7e82ee7f997fa",
   "outputs": [
    {
     "name": "stdout",
     "output_type": "stream",
     "text": [
      "\u001B[1m17/17\u001B[0m \u001B[32m━━━━━━━━━━━━━━━━━━━━\u001B[0m\u001B[37m\u001B[0m \u001B[1m0s\u001B[0m 1ms/step \n"
     ]
    },
    {
     "name": "stderr",
     "output_type": "stream",
     "text": [
      "D:\\cuc\\Fundamentos de IA\\AGRO IAPythonProject\\Proyecto AGROAI GIT\\streamlit\\Agro-IA-Module-3\\.venv\\Lib\\site-packages\\sklearn\\utils\\validation.py:2749: UserWarning: X does not have valid feature names, but MinMaxScaler was fitted with feature names\n",
      "  warnings.warn(\n"
     ]
    },
    {
     "data": {
      "text/plain": [
       "     lluvia_mm  temp_max  temp_min   humedad  ph_suelo  Recomendacion  \\\n",
       "0     0.100886  0.066351  0.364952  0.731096  0.632721              1   \n",
       "1     0.126300  0.142180  0.337621  0.761342  0.687813              3   \n",
       "2     0.052368  0.330569  0.615756  0.722590  0.520868              3   \n",
       "3     0.025799  0.040284  0.196141  0.665879  0.631052              1   \n",
       "4     0.073931  0.013033  0.393891  0.644612  0.836394              1   \n",
       "..         ...       ...       ...       ...       ...            ...   \n",
       "523   0.413939  0.109005  0.265273  0.876654  0.879800              3   \n",
       "524   0.160185  0.151659  0.731511  0.864367  0.661102              3   \n",
       "525   0.129765  0.092417  0.570740  0.829868  0.181970              2   \n",
       "526   0.185599  0.279621  0.765273  0.864839  0.485810              2   \n",
       "527   0.303042  0.159953  0.691318  0.937146  0.702838              3   \n",
       "\n",
       "     PREDICCIÓN  \n",
       "0             3  \n",
       "1             3  \n",
       "2             1  \n",
       "3             3  \n",
       "4             3  \n",
       "..          ...  \n",
       "523           3  \n",
       "524           3  \n",
       "525           2  \n",
       "526           2  \n",
       "527           3  \n",
       "\n",
       "[528 rows x 7 columns]"
      ],
      "text/html": [
       "<div>\n",
       "<style scoped>\n",
       "    .dataframe tbody tr th:only-of-type {\n",
       "        vertical-align: middle;\n",
       "    }\n",
       "\n",
       "    .dataframe tbody tr th {\n",
       "        vertical-align: top;\n",
       "    }\n",
       "\n",
       "    .dataframe thead th {\n",
       "        text-align: right;\n",
       "    }\n",
       "</style>\n",
       "<table border=\"1\" class=\"dataframe\">\n",
       "  <thead>\n",
       "    <tr style=\"text-align: right;\">\n",
       "      <th></th>\n",
       "      <th>lluvia_mm</th>\n",
       "      <th>temp_max</th>\n",
       "      <th>temp_min</th>\n",
       "      <th>humedad</th>\n",
       "      <th>ph_suelo</th>\n",
       "      <th>Recomendacion</th>\n",
       "      <th>PREDICCIÓN</th>\n",
       "    </tr>\n",
       "  </thead>\n",
       "  <tbody>\n",
       "    <tr>\n",
       "      <th>0</th>\n",
       "      <td>0.100886</td>\n",
       "      <td>0.066351</td>\n",
       "      <td>0.364952</td>\n",
       "      <td>0.731096</td>\n",
       "      <td>0.632721</td>\n",
       "      <td>1</td>\n",
       "      <td>3</td>\n",
       "    </tr>\n",
       "    <tr>\n",
       "      <th>1</th>\n",
       "      <td>0.126300</td>\n",
       "      <td>0.142180</td>\n",
       "      <td>0.337621</td>\n",
       "      <td>0.761342</td>\n",
       "      <td>0.687813</td>\n",
       "      <td>3</td>\n",
       "      <td>3</td>\n",
       "    </tr>\n",
       "    <tr>\n",
       "      <th>2</th>\n",
       "      <td>0.052368</td>\n",
       "      <td>0.330569</td>\n",
       "      <td>0.615756</td>\n",
       "      <td>0.722590</td>\n",
       "      <td>0.520868</td>\n",
       "      <td>3</td>\n",
       "      <td>1</td>\n",
       "    </tr>\n",
       "    <tr>\n",
       "      <th>3</th>\n",
       "      <td>0.025799</td>\n",
       "      <td>0.040284</td>\n",
       "      <td>0.196141</td>\n",
       "      <td>0.665879</td>\n",
       "      <td>0.631052</td>\n",
       "      <td>1</td>\n",
       "      <td>3</td>\n",
       "    </tr>\n",
       "    <tr>\n",
       "      <th>4</th>\n",
       "      <td>0.073931</td>\n",
       "      <td>0.013033</td>\n",
       "      <td>0.393891</td>\n",
       "      <td>0.644612</td>\n",
       "      <td>0.836394</td>\n",
       "      <td>1</td>\n",
       "      <td>3</td>\n",
       "    </tr>\n",
       "    <tr>\n",
       "      <th>...</th>\n",
       "      <td>...</td>\n",
       "      <td>...</td>\n",
       "      <td>...</td>\n",
       "      <td>...</td>\n",
       "      <td>...</td>\n",
       "      <td>...</td>\n",
       "      <td>...</td>\n",
       "    </tr>\n",
       "    <tr>\n",
       "      <th>523</th>\n",
       "      <td>0.413939</td>\n",
       "      <td>0.109005</td>\n",
       "      <td>0.265273</td>\n",
       "      <td>0.876654</td>\n",
       "      <td>0.879800</td>\n",
       "      <td>3</td>\n",
       "      <td>3</td>\n",
       "    </tr>\n",
       "    <tr>\n",
       "      <th>524</th>\n",
       "      <td>0.160185</td>\n",
       "      <td>0.151659</td>\n",
       "      <td>0.731511</td>\n",
       "      <td>0.864367</td>\n",
       "      <td>0.661102</td>\n",
       "      <td>3</td>\n",
       "      <td>3</td>\n",
       "    </tr>\n",
       "    <tr>\n",
       "      <th>525</th>\n",
       "      <td>0.129765</td>\n",
       "      <td>0.092417</td>\n",
       "      <td>0.570740</td>\n",
       "      <td>0.829868</td>\n",
       "      <td>0.181970</td>\n",
       "      <td>2</td>\n",
       "      <td>2</td>\n",
       "    </tr>\n",
       "    <tr>\n",
       "      <th>526</th>\n",
       "      <td>0.185599</td>\n",
       "      <td>0.279621</td>\n",
       "      <td>0.765273</td>\n",
       "      <td>0.864839</td>\n",
       "      <td>0.485810</td>\n",
       "      <td>2</td>\n",
       "      <td>2</td>\n",
       "    </tr>\n",
       "    <tr>\n",
       "      <th>527</th>\n",
       "      <td>0.303042</td>\n",
       "      <td>0.159953</td>\n",
       "      <td>0.691318</td>\n",
       "      <td>0.937146</td>\n",
       "      <td>0.702838</td>\n",
       "      <td>3</td>\n",
       "      <td>3</td>\n",
       "    </tr>\n",
       "  </tbody>\n",
       "</table>\n",
       "<p>528 rows × 7 columns</p>\n",
       "</div>"
      ]
     },
     "execution_count": 359,
     "metadata": {},
     "output_type": "execute_result"
    }
   ],
   "execution_count": 359
  },
  {
   "metadata": {
    "ExecuteTime": {
     "end_time": "2025-07-09T01:51:41.359739Z",
     "start_time": "2025-07-09T01:51:41.351936Z"
    }
   },
   "cell_type": "code",
   "source": [
    "# Guardar df con predicciones\n",
    "df_pred.to_csv('predicciones.csv', index=False)"
   ],
   "id": "78ee783106f633ca",
   "outputs": [],
   "execution_count": 363
  },
  {
   "metadata": {
    "ExecuteTime": {
     "end_time": "2025-07-09T01:37:08.917299Z",
     "start_time": "2025-07-09T01:37:08.836961Z"
    }
   },
   "cell_type": "code",
   "source": [
    "#Guardar el modelo\n",
    "from tensorflow.keras.models import load_model\n",
    "model.save('modelo_pred_cultivopapa.h5')"
   ],
   "id": "977600c38965cec1",
   "outputs": [
    {
     "name": "stderr",
     "output_type": "stream",
     "text": [
      "WARNING:absl:You are saving your model as an HDF5 file via `model.save()` or `keras.saving.save_model(model)`. This file format is considered legacy. We recommend using instead the native Keras format, e.g. `model.save('my_model.keras')` or `keras.saving.save_model(model, 'my_model.keras')`. \n"
     ]
    }
   ],
   "execution_count": 360
  }
 ],
 "metadata": {
  "kernelspec": {
   "display_name": "Python 3",
   "language": "python",
   "name": "python3"
  },
  "language_info": {
   "codemirror_mode": {
    "name": "ipython",
    "version": 2
   },
   "file_extension": ".py",
   "mimetype": "text/x-python",
   "name": "python",
   "nbconvert_exporter": "python",
   "pygments_lexer": "ipython2",
   "version": "2.7.6"
  }
 },
 "nbformat": 4,
 "nbformat_minor": 5
}
