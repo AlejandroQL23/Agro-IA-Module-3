{
 "cells": [
  {
   "cell_type": "code",
   "execution_count": null,
   "id": "initial_id",
   "metadata": {
    "collapsed": true
   },
   "outputs": [],
   "source": [
    "\"\"\"\n",
    "Clase: rnn\n",
    "\n",
    "Objetivo: modelo\n",
    "\n",
    "Cambios:\n",
    "\n",
    "    1. Creacion de modelo aquesada 07-07-2025\n",
    "\"\"\""
   ]
  },
  {
   "metadata": {
    "ExecuteTime": {
     "end_time": "2025-07-07T23:01:43.101767Z",
     "start_time": "2025-07-07T23:01:43.097795Z"
    }
   },
   "cell_type": "code",
   "source": [
    "import pandas as pd\n",
    "import numpy as np\n",
    "import matplotlib.pyplot as plt\n",
    "import seaborn as sns\n",
    "import tensorflow as tf\n",
    "from tensorflow.keras.models import Sequential\n",
    "from tensorflow.keras.layers import Dense, Activation,Dropout\n",
    "from sklearn.model_selection import train_test_split\n"
   ],
   "id": "a990e8059252bf38",
   "outputs": [],
   "execution_count": 18
  },
  {
   "metadata": {
    "ExecuteTime": {
     "end_time": "2025-07-07T23:01:45.642932Z",
     "start_time": "2025-07-07T23:01:45.635947Z"
    }
   },
   "cell_type": "code",
   "source": "df = pd.read_csv('../../data/processed/recomendaciones.csv',encoding = \"ISO-8859-1\",delimiter=',')",
   "id": "406d74110ddb097a",
   "outputs": [],
   "execution_count": 19
  },
  {
   "metadata": {
    "ExecuteTime": {
     "end_time": "2025-07-07T23:01:48.004681Z",
     "start_time": "2025-07-07T23:01:47.999278Z"
    }
   },
   "cell_type": "code",
   "source": "df.drop(columns=[\"YEAR\", \"MONTH\"], inplace=True)",
   "id": "576f6bea9d316a88",
   "outputs": [],
   "execution_count": 20
  },
  {
   "metadata": {
    "ExecuteTime": {
     "end_time": "2025-07-07T23:01:49.682711Z",
     "start_time": "2025-07-07T23:01:49.678747Z"
    }
   },
   "cell_type": "code",
   "source": "X = df.drop('Recomendacion',axis=1).values",
   "id": "569d313257300ae5",
   "outputs": [],
   "execution_count": 21
  },
  {
   "metadata": {
    "ExecuteTime": {
     "end_time": "2025-07-07T23:01:59.487403Z",
     "start_time": "2025-07-07T23:01:59.483981Z"
    }
   },
   "cell_type": "code",
   "source": "y = df['Recomendacion']",
   "id": "115acf09dc20dd16",
   "outputs": [],
   "execution_count": 26
  },
  {
   "metadata": {
    "ExecuteTime": {
     "end_time": "2025-07-07T23:02:02.316121Z",
     "start_time": "2025-07-07T23:02:02.311547Z"
    }
   },
   "cell_type": "code",
   "source": "y = pd.get_dummies(y)",
   "id": "ae0b594a9a084c93",
   "outputs": [],
   "execution_count": 27
  },
  {
   "metadata": {
    "ExecuteTime": {
     "end_time": "2025-07-07T23:02:04.890330Z",
     "start_time": "2025-07-07T23:02:04.885399Z"
    }
   },
   "cell_type": "code",
   "source": "y = y.values",
   "id": "61bf8e0fa6807907",
   "outputs": [],
   "execution_count": 28
  },
  {
   "metadata": {
    "ExecuteTime": {
     "end_time": "2025-07-07T23:02:07.426636Z",
     "start_time": "2025-07-07T23:02:07.418148Z"
    }
   },
   "cell_type": "code",
   "source": "y",
   "id": "1b1bfe51781e70f1",
   "outputs": [
    {
     "data": {
      "text/plain": [
       "array([[ True, False, False],\n",
       "       [False, False,  True],\n",
       "       [False, False,  True],\n",
       "       ...,\n",
       "       [False,  True, False],\n",
       "       [False,  True, False],\n",
       "       [False, False,  True]], shape=(528, 3))"
      ]
     },
     "execution_count": 29,
     "metadata": {},
     "output_type": "execute_result"
    }
   ],
   "execution_count": 29
  },
  {
   "metadata": {
    "ExecuteTime": {
     "end_time": "2025-07-07T23:02:10.088312Z",
     "start_time": "2025-07-07T23:02:10.083129Z"
    }
   },
   "cell_type": "code",
   "source": "X_train, X_test, y_train, y_test = train_test_split(X,y,test_size=0.25,random_state=101)",
   "id": "38a772c94f1a6b89",
   "outputs": [],
   "execution_count": 30
  },
  {
   "metadata": {
    "ExecuteTime": {
     "end_time": "2025-07-07T23:02:12.740744Z",
     "start_time": "2025-07-07T23:02:12.734750Z"
    }
   },
   "cell_type": "code",
   "source": "X_train.shape",
   "id": "3814c3432969b223",
   "outputs": [
    {
     "data": {
      "text/plain": [
       "(396, 5)"
      ]
     },
     "execution_count": 31,
     "metadata": {},
     "output_type": "execute_result"
    }
   ],
   "execution_count": 31
  },
  {
   "metadata": {
    "ExecuteTime": {
     "end_time": "2025-07-07T23:02:14.227532Z",
     "start_time": "2025-07-07T23:02:14.221846Z"
    }
   },
   "cell_type": "code",
   "source": "X_test.shape",
   "id": "5435ef2e12de9904",
   "outputs": [
    {
     "data": {
      "text/plain": [
       "(132, 5)"
      ]
     },
     "execution_count": 32,
     "metadata": {},
     "output_type": "execute_result"
    }
   ],
   "execution_count": 32
  },
  {
   "metadata": {
    "ExecuteTime": {
     "end_time": "2025-07-07T23:02:16.145415Z",
     "start_time": "2025-07-07T23:02:16.133882Z"
    }
   },
   "cell_type": "code",
   "source": [
    "model = Sequential()\n",
    "# Elegir número de capas (layers)\n",
    "#https://stats.stackexchange.com/questions/181/how-to-choose-the-number-of-hidden-layers-and-nodes-in-a-feedforward-neural-netw\n",
    "num_neuronas = X_train.shape[1]\n",
    "# Indicar tantas neuronas de salida como clases a predecir, en este caso 3 (variable \"Interest_Rate\")\n",
    "num_neuronas_salida = len(df[\"Recomendacion\"].unique())\n",
    "#Capa inicial usando Input\n",
    "model.add(Dense(units=num_neuronas, activation='relu'))\n",
    "model.add(Dense(units=num_neuronas, activation='relu'))\n",
    "model.add(Dense(num_neuronas_salida, activation='softmax'))  # softmax para multiclase - softmax activation distribuye la probabilidad sobre cada nodo de salida (clase)\n",
    "\n",
    "# Para clasificación multiclase \"categorical_crossentropy\"\n",
    "model.compile(loss='categorical_crossentropy', optimizer='adam',metrics=['categorical_accuracy'])"
   ],
   "id": "62cc93b01e589d3a",
   "outputs": [],
   "execution_count": 33
  },
  {
   "metadata": {
    "ExecuteTime": {
     "end_time": "2025-07-07T23:02:19.439191Z",
     "start_time": "2025-07-07T23:02:19.432609Z"
    }
   },
   "cell_type": "code",
   "source": [
    "from tensorflow.keras.callbacks import EarlyStopping\n",
    "early_stop = EarlyStopping(monitor='val_loss', mode='min', verbose=1, patience=15)"
   ],
   "id": "4aae0cbee45a6a3b",
   "outputs": [],
   "execution_count": 34
  },
  {
   "metadata": {
    "ExecuteTime": {
     "end_time": "2025-07-07T23:02:24.403212Z",
     "start_time": "2025-07-07T23:02:21.687230Z"
    }
   },
   "cell_type": "code",
   "source": [
    "# Entrenar el modelo\n",
    "model.fit(x=X_train,\n",
    "          y=y_train,\n",
    "          epochs=20,\n",
    "          batch_size=256,\n",
    "          validation_data=(X_test, y_test), verbose=1,\n",
    "          callbacks=[early_stop]\n",
    "          )"
   ],
   "id": "7c96a2b4994f1fe3",
   "outputs": [
    {
     "name": "stdout",
     "output_type": "stream",
     "text": [
      "Epoch 1/20\n",
      "\u001B[1m2/2\u001B[0m \u001B[32m━━━━━━━━━━━━━━━━━━━━\u001B[0m\u001B[37m\u001B[0m \u001B[1m1s\u001B[0m 171ms/step - categorical_accuracy: 0.2862 - loss: 1.3609 - val_categorical_accuracy: 0.3182 - val_loss: 1.3708\n",
      "Epoch 2/20\n",
      "\u001B[1m2/2\u001B[0m \u001B[32m━━━━━━━━━━━━━━━━━━━━\u001B[0m\u001B[37m\u001B[0m \u001B[1m0s\u001B[0m 71ms/step - categorical_accuracy: 0.2784 - loss: 1.3474 - val_categorical_accuracy: 0.3182 - val_loss: 1.3604\n",
      "Epoch 3/20\n",
      "\u001B[1m2/2\u001B[0m \u001B[32m━━━━━━━━━━━━━━━━━━━━\u001B[0m\u001B[37m\u001B[0m \u001B[1m0s\u001B[0m 71ms/step - categorical_accuracy: 0.2810 - loss: 1.3342 - val_categorical_accuracy: 0.3182 - val_loss: 1.3501\n",
      "Epoch 4/20\n",
      "\u001B[1m2/2\u001B[0m \u001B[32m━━━━━━━━━━━━━━━━━━━━\u001B[0m\u001B[37m\u001B[0m \u001B[1m0s\u001B[0m 58ms/step - categorical_accuracy: 0.2836 - loss: 1.3248 - val_categorical_accuracy: 0.3182 - val_loss: 1.3399\n",
      "Epoch 5/20\n",
      "\u001B[1m2/2\u001B[0m \u001B[32m━━━━━━━━━━━━━━━━━━━━\u001B[0m\u001B[37m\u001B[0m \u001B[1m0s\u001B[0m 72ms/step - categorical_accuracy: 0.2719 - loss: 1.3347 - val_categorical_accuracy: 0.3182 - val_loss: 1.3301\n",
      "Epoch 6/20\n",
      "\u001B[1m2/2\u001B[0m \u001B[32m━━━━━━━━━━━━━━━━━━━━\u001B[0m\u001B[37m\u001B[0m \u001B[1m0s\u001B[0m 65ms/step - categorical_accuracy: 0.2745 - loss: 1.3119 - val_categorical_accuracy: 0.3182 - val_loss: 1.3205\n",
      "Epoch 7/20\n",
      "\u001B[1m2/2\u001B[0m \u001B[32m━━━━━━━━━━━━━━━━━━━━\u001B[0m\u001B[37m\u001B[0m \u001B[1m0s\u001B[0m 62ms/step - categorical_accuracy: 0.2849 - loss: 1.2995 - val_categorical_accuracy: 0.3182 - val_loss: 1.3112\n",
      "Epoch 8/20\n",
      "\u001B[1m2/2\u001B[0m \u001B[32m━━━━━━━━━━━━━━━━━━━━\u001B[0m\u001B[37m\u001B[0m \u001B[1m0s\u001B[0m 57ms/step - categorical_accuracy: 0.2797 - loss: 1.2849 - val_categorical_accuracy: 0.3182 - val_loss: 1.3021\n",
      "Epoch 9/20\n",
      "\u001B[1m2/2\u001B[0m \u001B[32m━━━━━━━━━━━━━━━━━━━━\u001B[0m\u001B[37m\u001B[0m \u001B[1m0s\u001B[0m 61ms/step - categorical_accuracy: 0.2771 - loss: 1.2635 - val_categorical_accuracy: 0.3182 - val_loss: 1.2931\n",
      "Epoch 10/20\n",
      "\u001B[1m2/2\u001B[0m \u001B[32m━━━━━━━━━━━━━━━━━━━━\u001B[0m\u001B[37m\u001B[0m \u001B[1m0s\u001B[0m 62ms/step - categorical_accuracy: 0.2888 - loss: 1.2730 - val_categorical_accuracy: 0.3182 - val_loss: 1.2844\n",
      "Epoch 11/20\n",
      "\u001B[1m2/2\u001B[0m \u001B[32m━━━━━━━━━━━━━━━━━━━━\u001B[0m\u001B[37m\u001B[0m \u001B[1m0s\u001B[0m 60ms/step - categorical_accuracy: 0.2758 - loss: 1.2714 - val_categorical_accuracy: 0.3182 - val_loss: 1.2758\n",
      "Epoch 12/20\n",
      "\u001B[1m2/2\u001B[0m \u001B[32m━━━━━━━━━━━━━━━━━━━━\u001B[0m\u001B[37m\u001B[0m \u001B[1m0s\u001B[0m 56ms/step - categorical_accuracy: 0.2745 - loss: 1.2620 - val_categorical_accuracy: 0.3182 - val_loss: 1.2676\n",
      "Epoch 13/20\n",
      "\u001B[1m2/2\u001B[0m \u001B[32m━━━━━━━━━━━━━━━━━━━━\u001B[0m\u001B[37m\u001B[0m \u001B[1m0s\u001B[0m 59ms/step - categorical_accuracy: 0.2888 - loss: 1.2545 - val_categorical_accuracy: 0.3182 - val_loss: 1.2596\n",
      "Epoch 14/20\n",
      "\u001B[1m2/2\u001B[0m \u001B[32m━━━━━━━━━━━━━━━━━━━━\u001B[0m\u001B[37m\u001B[0m \u001B[1m0s\u001B[0m 57ms/step - categorical_accuracy: 0.2836 - loss: 1.2346 - val_categorical_accuracy: 0.3182 - val_loss: 1.2518\n",
      "Epoch 15/20\n",
      "\u001B[1m2/2\u001B[0m \u001B[32m━━━━━━━━━━━━━━━━━━━━\u001B[0m\u001B[37m\u001B[0m \u001B[1m0s\u001B[0m 56ms/step - categorical_accuracy: 0.2797 - loss: 1.2334 - val_categorical_accuracy: 0.3182 - val_loss: 1.2442\n",
      "Epoch 16/20\n",
      "\u001B[1m2/2\u001B[0m \u001B[32m━━━━━━━━━━━━━━━━━━━━\u001B[0m\u001B[37m\u001B[0m \u001B[1m0s\u001B[0m 74ms/step - categorical_accuracy: 0.2862 - loss: 1.2245 - val_categorical_accuracy: 0.3182 - val_loss: 1.2368\n",
      "Epoch 17/20\n",
      "\u001B[1m2/2\u001B[0m \u001B[32m━━━━━━━━━━━━━━━━━━━━\u001B[0m\u001B[37m\u001B[0m \u001B[1m0s\u001B[0m 57ms/step - categorical_accuracy: 0.2823 - loss: 1.2142 - val_categorical_accuracy: 0.3182 - val_loss: 1.2296\n",
      "Epoch 18/20\n",
      "\u001B[1m2/2\u001B[0m \u001B[32m━━━━━━━━━━━━━━━━━━━━\u001B[0m\u001B[37m\u001B[0m \u001B[1m0s\u001B[0m 57ms/step - categorical_accuracy: 0.2888 - loss: 1.2062 - val_categorical_accuracy: 0.3182 - val_loss: 1.2226\n",
      "Epoch 19/20\n",
      "\u001B[1m2/2\u001B[0m \u001B[32m━━━━━━━━━━━━━━━━━━━━\u001B[0m\u001B[37m\u001B[0m \u001B[1m0s\u001B[0m 60ms/step - categorical_accuracy: 0.2862 - loss: 1.2038 - val_categorical_accuracy: 0.3182 - val_loss: 1.2158\n",
      "Epoch 20/20\n",
      "\u001B[1m2/2\u001B[0m \u001B[32m━━━━━━━━━━━━━━━━━━━━\u001B[0m\u001B[37m\u001B[0m \u001B[1m0s\u001B[0m 65ms/step - categorical_accuracy: 0.2810 - loss: 1.1962 - val_categorical_accuracy: 0.3182 - val_loss: 1.2092\n"
     ]
    },
    {
     "data": {
      "text/plain": [
       "<keras.src.callbacks.history.History at 0x1f3b30c37d0>"
      ]
     },
     "execution_count": 35,
     "metadata": {},
     "output_type": "execute_result"
    }
   ],
   "execution_count": 35
  },
  {
   "metadata": {
    "ExecuteTime": {
     "end_time": "2025-07-07T23:02:53.407232Z",
     "start_time": "2025-07-07T23:02:53.044538Z"
    }
   },
   "cell_type": "code",
   "source": [
    "model_loss = pd.DataFrame(model.history.history)\n",
    "model_loss.plot()"
   ],
   "id": "704f4f58a8ea25e1",
   "outputs": [
    {
     "data": {
      "text/plain": [
       "<Axes: >"
      ]
     },
     "execution_count": 36,
     "metadata": {},
     "output_type": "execute_result"
    },
    {
     "data": {
      "text/plain": [
       "<Figure size 640x480 with 1 Axes>"
      ],
      "image/png": "[encoded data removed]"
     },
     "metadata": {},
     "output_type": "display_data"
    }
   ],
   "execution_count": 36
  }
 ],
 "metadata": {
  "kernelspec": {
   "display_name": "Python 3",
   "language": "python",
   "name": "python3"
  },
  "language_info": {
   "codemirror_mode": {
    "name": "ipython",
    "version": 2
   },
   "file_extension": ".py",
   "mimetype": "text/x-python",
   "name": "python",
   "nbconvert_exporter": "python",
   "pygments_lexer": "ipython2",
   "version": "2.7.6"
  }
 },
 "nbformat": 4,
 "nbformat_minor": 5
}
