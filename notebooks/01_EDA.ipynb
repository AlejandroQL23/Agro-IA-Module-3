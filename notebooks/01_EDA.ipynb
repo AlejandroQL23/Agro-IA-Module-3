{
 "cells": [
  {
   "metadata": {
    "ExecuteTime": {
     "end_time": "2025-07-05T16:40:53.365201Z",
     "start_time": "2025-07-05T16:40:53.357820Z"
    }
   },
   "cell_type": "code",
   "source": [
    "import pandas as pd\n",
    "import numpy as np\n",
    "import matplotlib.pyplot as plt\n",
    "import seaborn as sns\n",
    "from src.data_prep import RecomendadorClimatico, Transformaciones, CargaData, AgregarPH"
   ],
   "id": "6d5b80111da1a6a0",
   "outputs": [],
   "execution_count": 1
  },
  {
   "metadata": {
    "ExecuteTime": {
     "end_time": "2025-07-05T16:40:55.177020Z",
     "start_time": "2025-07-05T16:40:55.172165Z"
    }
   },
   "cell_type": "code",
   "source": "path = '../data/raw/'",
   "id": "14781ad74eefecd9",
   "outputs": [],
   "execution_count": 2
  },
  {
   "metadata": {
    "ExecuteTime": {
     "end_time": "2025-07-05T16:40:56.170052Z",
     "start_time": "2025-07-05T16:40:56.166062Z"
    }
   },
   "cell_type": "code",
   "source": "# 2.Importación fuente de datos",
   "id": "ebe5484a35814c0d",
   "outputs": [],
   "execution_count": 3
  },
  {
   "metadata": {
    "ExecuteTime": {
     "end_time": "2025-07-05T16:40:56.993997Z",
     "start_time": "2025-07-05T16:40:56.971591Z"
    }
   },
   "cell_type": "code",
   "source": [
    "carga = CargaData(path+'data.csv')\n",
    "df = carga.obtener_data()\n",
    "agregar_ph = AgregarPH(df)\n",
    "df_con_ph = agregar_ph.generar_ph_mensual()\n",
    "df_con_ph.to_csv(path+\"/df_con_ph.csv\", index=False)"
   ],
   "id": "2d66efb80dd9ae8c",
   "outputs": [],
   "execution_count": 4
  },
  {
   "metadata": {
    "ExecuteTime": {
     "end_time": "2025-07-05T16:40:58.819882Z",
     "start_time": "2025-07-05T16:40:58.802431Z"
    }
   },
   "cell_type": "code",
   "source": [
    "#Lectura datos históricos\n",
    "df = pd.read_csv(path+'df_con_ph.csv',encoding = \"ISO-8859-1\",delimiter=',')"
   ],
   "id": "23e55da88c30527b",
   "outputs": [],
   "execution_count": 5
  },
  {
   "metadata": {},
   "cell_type": "code",
   "source": [
    "\"\"\"\n",
    "Fuente: NASA/POWER – Resolución nativa mensual y anual\n",
    "Fechas (mes/día/año): del 01/01/1981 al 31/12/2025 en hora solar local (LST)\n",
    "Ubicación: Latitud 9.8062  Longitud -83.8448\n",
    "Elevación según MERRA-2: Promedio para una región de 0.5 x 0.625 grados de latitud/longitud = 1064.94 metros\n",
    "Valor para datos faltantes que no pueden ser calculados o que están fuera del rango de disponibilidad de las fuentes: -999\n",
    "Parámetro(s):\n",
    "- PRECTOTCORR: Precipitación corregida de MERRA-2 (mm/día)\n",
    "- PRECTOTCORR_SUM: Suma de la precipitación corregida de MERRA-2 (mm/día)\n",
    "- QV2M: Humedad específica a 2 metros según MERRA-2 (g/kg)\n",
    "- RH2M: Humedad relativa a 2 metros según MERRA-2 (%)\n",
    "- T2M: Temperatura a 2 metros según MERRA-2 (°C)\n",
    "- T2M_MAX: Temperatura máxima a 2 metros según MERRA-2 (°C)\n",
    "- T2M_MIN: Temperatura mínima a 2 metros según MERRA-2 (°C)\n",
    "\"\"\""
   ],
   "id": "ad8a7134d09b3b5b",
   "outputs": [],
   "execution_count": null
  },
  {
   "metadata": {
    "ExecuteTime": {
     "end_time": "2025-07-05T16:41:00.476673Z",
     "start_time": "2025-07-05T16:41:00.458553Z"
    }
   },
   "cell_type": "code",
   "source": "df.head()",
   "id": "f5b1f15b2c972381",
   "outputs": [
    {
     "data": {
      "text/plain": [
       "     PARAMETER  YEAR   JAN   FEB   MAR   APR   MAY    JUN   JUL   AUG  ...  \\\n",
       "0  PRECTOTCORR  1981  2.64  3.32  1.72  6.02  6.66  11.86  3.34  9.65  ...   \n",
       "1  PRECTOTCORR  1982  3.30  2.99  1.35  3.71  8.90   2.92  8.43  4.88  ...   \n",
       "2  PRECTOTCORR  1983  1.38  0.09  0.93  3.76  3.01   4.61  5.27  5.66  ...   \n",
       "3  PRECTOTCORR  1984  0.69  1.01  0.60  2.72  4.78   5.78  4.80  6.55  ...   \n",
       "4  PRECTOTCORR  1985  1.94  0.41  0.50  0.84  2.21   8.02  5.41  4.31  ...   \n",
       "\n",
       "   MAR_PH_SUELO  APR_PH_SUELO  MAY_PH_SUELO  JUN_PH_SUELO  JUL_PH_SUELO  \\\n",
       "0          8.63          4.70          3.78          5.34          5.79   \n",
       "1          6.40          5.81          4.64          7.64          3.54   \n",
       "2          6.21          4.88          3.86          5.01          3.45   \n",
       "3          3.90          4.72          5.14          4.60          8.80   \n",
       "4          8.09          4.77          6.30          8.77          4.65   \n",
       "\n",
       "   AUG_PH_SUELO  SEP_PH_SUELO  OCT_PH_SUELO  NOV_PH_SUELO  DEC_PH_SUELO  \n",
       "0          8.05          7.58          3.03          7.93          8.92  \n",
       "1          4.16          4.75          8.68          7.94          6.48  \n",
       "2          6.24          8.78          5.59          3.75          4.04  \n",
       "3          8.83          8.75          8.16          6.27          7.43  \n",
       "4          3.85          4.67          8.43          4.05          4.16  \n",
       "\n",
       "[5 rows x 27 columns]"
      ],
      "text/html": [
       "<div>\n",
       "<style scoped>\n",
       "    .dataframe tbody tr th:only-of-type {\n",
       "        vertical-align: middle;\n",
       "    }\n",
       "\n",
       "    .dataframe tbody tr th {\n",
       "        vertical-align: top;\n",
       "    }\n",
       "\n",
       "    .dataframe thead th {\n",
       "        text-align: right;\n",
       "    }\n",
       "</style>\n",
       "<table border=\"1\" class=\"dataframe\">\n",
       "  <thead>\n",
       "    <tr style=\"text-align: right;\">\n",
       "      <th></th>\n",
       "      <th>PARAMETER</th>\n",
       "      <th>YEAR</th>\n",
       "      <th>JAN</th>\n",
       "      <th>FEB</th>\n",
       "      <th>MAR</th>\n",
       "      <th>APR</th>\n",
       "      <th>MAY</th>\n",
       "      <th>JUN</th>\n",
       "      <th>JUL</th>\n",
       "      <th>AUG</th>\n",
       "      <th>...</th>\n",
       "      <th>MAR_PH_SUELO</th>\n",
       "      <th>APR_PH_SUELO</th>\n",
       "      <th>MAY_PH_SUELO</th>\n",
       "      <th>JUN_PH_SUELO</th>\n",
       "      <th>JUL_PH_SUELO</th>\n",
       "      <th>AUG_PH_SUELO</th>\n",
       "      <th>SEP_PH_SUELO</th>\n",
       "      <th>OCT_PH_SUELO</th>\n",
       "      <th>NOV_PH_SUELO</th>\n",
       "      <th>DEC_PH_SUELO</th>\n",
       "    </tr>\n",
       "  </thead>\n",
       "  <tbody>\n",
       "    <tr>\n",
       "      <th>0</th>\n",
       "      <td>PRECTOTCORR</td>\n",
       "      <td>1981</td>\n",
       "      <td>2.64</td>\n",
       "      <td>3.32</td>\n",
       "      <td>1.72</td>\n",
       "      <td>6.02</td>\n",
       "      <td>6.66</td>\n",
       "      <td>11.86</td>\n",
       "      <td>3.34</td>\n",
       "      <td>9.65</td>\n",
       "      <td>...</td>\n",
       "      <td>8.63</td>\n",
       "      <td>4.70</td>\n",
       "      <td>3.78</td>\n",
       "      <td>5.34</td>\n",
       "      <td>5.79</td>\n",
       "      <td>8.05</td>\n",
       "      <td>7.58</td>\n",
       "      <td>3.03</td>\n",
       "      <td>7.93</td>\n",
       "      <td>8.92</td>\n",
       "    </tr>\n",
       "    <tr>\n",
       "      <th>1</th>\n",
       "      <td>PRECTOTCORR</td>\n",
       "      <td>1982</td>\n",
       "      <td>3.30</td>\n",
       "      <td>2.99</td>\n",
       "      <td>1.35</td>\n",
       "      <td>3.71</td>\n",
       "      <td>8.90</td>\n",
       "      <td>2.92</td>\n",
       "      <td>8.43</td>\n",
       "      <td>4.88</td>\n",
       "      <td>...</td>\n",
       "      <td>6.40</td>\n",
       "      <td>5.81</td>\n",
       "      <td>4.64</td>\n",
       "      <td>7.64</td>\n",
       "      <td>3.54</td>\n",
       "      <td>4.16</td>\n",
       "      <td>4.75</td>\n",
       "      <td>8.68</td>\n",
       "      <td>7.94</td>\n",
       "      <td>6.48</td>\n",
       "    </tr>\n",
       "    <tr>\n",
       "      <th>2</th>\n",
       "      <td>PRECTOTCORR</td>\n",
       "      <td>1983</td>\n",
       "      <td>1.38</td>\n",
       "      <td>0.09</td>\n",
       "      <td>0.93</td>\n",
       "      <td>3.76</td>\n",
       "      <td>3.01</td>\n",
       "      <td>4.61</td>\n",
       "      <td>5.27</td>\n",
       "      <td>5.66</td>\n",
       "      <td>...</td>\n",
       "      <td>6.21</td>\n",
       "      <td>4.88</td>\n",
       "      <td>3.86</td>\n",
       "      <td>5.01</td>\n",
       "      <td>3.45</td>\n",
       "      <td>6.24</td>\n",
       "      <td>8.78</td>\n",
       "      <td>5.59</td>\n",
       "      <td>3.75</td>\n",
       "      <td>4.04</td>\n",
       "    </tr>\n",
       "    <tr>\n",
       "      <th>3</th>\n",
       "      <td>PRECTOTCORR</td>\n",
       "      <td>1984</td>\n",
       "      <td>0.69</td>\n",
       "      <td>1.01</td>\n",
       "      <td>0.60</td>\n",
       "      <td>2.72</td>\n",
       "      <td>4.78</td>\n",
       "      <td>5.78</td>\n",
       "      <td>4.80</td>\n",
       "      <td>6.55</td>\n",
       "      <td>...</td>\n",
       "      <td>3.90</td>\n",
       "      <td>4.72</td>\n",
       "      <td>5.14</td>\n",
       "      <td>4.60</td>\n",
       "      <td>8.80</td>\n",
       "      <td>8.83</td>\n",
       "      <td>8.75</td>\n",
       "      <td>8.16</td>\n",
       "      <td>6.27</td>\n",
       "      <td>7.43</td>\n",
       "    </tr>\n",
       "    <tr>\n",
       "      <th>4</th>\n",
       "      <td>PRECTOTCORR</td>\n",
       "      <td>1985</td>\n",
       "      <td>1.94</td>\n",
       "      <td>0.41</td>\n",
       "      <td>0.50</td>\n",
       "      <td>0.84</td>\n",
       "      <td>2.21</td>\n",
       "      <td>8.02</td>\n",
       "      <td>5.41</td>\n",
       "      <td>4.31</td>\n",
       "      <td>...</td>\n",
       "      <td>8.09</td>\n",
       "      <td>4.77</td>\n",
       "      <td>6.30</td>\n",
       "      <td>8.77</td>\n",
       "      <td>4.65</td>\n",
       "      <td>3.85</td>\n",
       "      <td>4.67</td>\n",
       "      <td>8.43</td>\n",
       "      <td>4.05</td>\n",
       "      <td>4.16</td>\n",
       "    </tr>\n",
       "  </tbody>\n",
       "</table>\n",
       "<p>5 rows × 27 columns</p>\n",
       "</div>"
      ]
     },
     "execution_count": 6,
     "metadata": {},
     "output_type": "execute_result"
    }
   ],
   "execution_count": 6
  },
  {
   "metadata": {
    "ExecuteTime": {
     "end_time": "2025-07-05T16:41:02.110460Z",
     "start_time": "2025-07-05T16:41:02.095600Z"
    }
   },
   "cell_type": "code",
   "source": "df.tail()",
   "id": "9f0801703cfbf4fc",
   "outputs": [
    {
     "data": {
      "text/plain": [
       "    PARAMETER  YEAR    JAN    FEB    MAR    APR     MAY     JUN     JUL  \\\n",
       "310   T2M_MIN  2021  13.59  15.41  13.38  15.34   15.95   15.07   16.23   \n",
       "311   T2M_MIN  2022  15.20  12.54  14.26  15.80   16.22   15.30   16.29   \n",
       "312   T2M_MIN  2023  14.71  13.53  15.29  14.76   16.99   15.81   16.89   \n",
       "313   T2M_MIN  2024  15.93  13.93  14.21  14.95   16.76   17.71   16.85   \n",
       "314   T2M_MIN  2025  14.90  15.61  15.96  16.50 -999.00 -999.00 -999.00   \n",
       "\n",
       "        AUG  ...  MAR_PH_SUELO  APR_PH_SUELO  MAY_PH_SUELO  JUN_PH_SUELO  \\\n",
       "310   15.62  ...          4.31          3.53          8.94          6.30   \n",
       "311   15.27  ...          5.77          7.11          8.94          8.24   \n",
       "312   17.24  ...          8.65          7.25          8.92          8.48   \n",
       "313   17.28  ...          4.84          3.46          8.67          7.39   \n",
       "314 -999.00  ...          3.11          3.59          3.88          4.41   \n",
       "\n",
       "     JUL_PH_SUELO  AUG_PH_SUELO  SEP_PH_SUELO  OCT_PH_SUELO  NOV_PH_SUELO  \\\n",
       "310          6.15          5.93          6.07          3.13          5.25   \n",
       "311          5.82          5.39          7.43          4.41          3.09   \n",
       "312          6.22          5.58          5.55          3.69          6.47   \n",
       "313          4.51          4.83          3.05          5.33          7.14   \n",
       "314          7.01          7.00          4.37          6.18          5.78   \n",
       "\n",
       "     DEC_PH_SUELO  \n",
       "310          5.04  \n",
       "311          7.46  \n",
       "312          6.69  \n",
       "313          6.49  \n",
       "314          3.11  \n",
       "\n",
       "[5 rows x 27 columns]"
      ],
      "text/html": [
       "<div>\n",
       "<style scoped>\n",
       "    .dataframe tbody tr th:only-of-type {\n",
       "        vertical-align: middle;\n",
       "    }\n",
       "\n",
       "    .dataframe tbody tr th {\n",
       "        vertical-align: top;\n",
       "    }\n",
       "\n",
       "    .dataframe thead th {\n",
       "        text-align: right;\n",
       "    }\n",
       "</style>\n",
       "<table border=\"1\" class=\"dataframe\">\n",
       "  <thead>\n",
       "    <tr style=\"text-align: right;\">\n",
       "      <th></th>\n",
       "      <th>PARAMETER</th>\n",
       "      <th>YEAR</th>\n",
       "      <th>JAN</th>\n",
       "      <th>FEB</th>\n",
       "      <th>MAR</th>\n",
       "      <th>APR</th>\n",
       "      <th>MAY</th>\n",
       "      <th>JUN</th>\n",
       "      <th>JUL</th>\n",
       "      <th>AUG</th>\n",
       "      <th>...</th>\n",
       "      <th>MAR_PH_SUELO</th>\n",
       "      <th>APR_PH_SUELO</th>\n",
       "      <th>MAY_PH_SUELO</th>\n",
       "      <th>JUN_PH_SUELO</th>\n",
       "      <th>JUL_PH_SUELO</th>\n",
       "      <th>AUG_PH_SUELO</th>\n",
       "      <th>SEP_PH_SUELO</th>\n",
       "      <th>OCT_PH_SUELO</th>\n",
       "      <th>NOV_PH_SUELO</th>\n",
       "      <th>DEC_PH_SUELO</th>\n",
       "    </tr>\n",
       "  </thead>\n",
       "  <tbody>\n",
       "    <tr>\n",
       "      <th>310</th>\n",
       "      <td>T2M_MIN</td>\n",
       "      <td>2021</td>\n",
       "      <td>13.59</td>\n",
       "      <td>15.41</td>\n",
       "      <td>13.38</td>\n",
       "      <td>15.34</td>\n",
       "      <td>15.95</td>\n",
       "      <td>15.07</td>\n",
       "      <td>16.23</td>\n",
       "      <td>15.62</td>\n",
       "      <td>...</td>\n",
       "      <td>4.31</td>\n",
       "      <td>3.53</td>\n",
       "      <td>8.94</td>\n",
       "      <td>6.30</td>\n",
       "      <td>6.15</td>\n",
       "      <td>5.93</td>\n",
       "      <td>6.07</td>\n",
       "      <td>3.13</td>\n",
       "      <td>5.25</td>\n",
       "      <td>5.04</td>\n",
       "    </tr>\n",
       "    <tr>\n",
       "      <th>311</th>\n",
       "      <td>T2M_MIN</td>\n",
       "      <td>2022</td>\n",
       "      <td>15.20</td>\n",
       "      <td>12.54</td>\n",
       "      <td>14.26</td>\n",
       "      <td>15.80</td>\n",
       "      <td>16.22</td>\n",
       "      <td>15.30</td>\n",
       "      <td>16.29</td>\n",
       "      <td>15.27</td>\n",
       "      <td>...</td>\n",
       "      <td>5.77</td>\n",
       "      <td>7.11</td>\n",
       "      <td>8.94</td>\n",
       "      <td>8.24</td>\n",
       "      <td>5.82</td>\n",
       "      <td>5.39</td>\n",
       "      <td>7.43</td>\n",
       "      <td>4.41</td>\n",
       "      <td>3.09</td>\n",
       "      <td>7.46</td>\n",
       "    </tr>\n",
       "    <tr>\n",
       "      <th>312</th>\n",
       "      <td>T2M_MIN</td>\n",
       "      <td>2023</td>\n",
       "      <td>14.71</td>\n",
       "      <td>13.53</td>\n",
       "      <td>15.29</td>\n",
       "      <td>14.76</td>\n",
       "      <td>16.99</td>\n",
       "      <td>15.81</td>\n",
       "      <td>16.89</td>\n",
       "      <td>17.24</td>\n",
       "      <td>...</td>\n",
       "      <td>8.65</td>\n",
       "      <td>7.25</td>\n",
       "      <td>8.92</td>\n",
       "      <td>8.48</td>\n",
       "      <td>6.22</td>\n",
       "      <td>5.58</td>\n",
       "      <td>5.55</td>\n",
       "      <td>3.69</td>\n",
       "      <td>6.47</td>\n",
       "      <td>6.69</td>\n",
       "    </tr>\n",
       "    <tr>\n",
       "      <th>313</th>\n",
       "      <td>T2M_MIN</td>\n",
       "      <td>2024</td>\n",
       "      <td>15.93</td>\n",
       "      <td>13.93</td>\n",
       "      <td>14.21</td>\n",
       "      <td>14.95</td>\n",
       "      <td>16.76</td>\n",
       "      <td>17.71</td>\n",
       "      <td>16.85</td>\n",
       "      <td>17.28</td>\n",
       "      <td>...</td>\n",
       "      <td>4.84</td>\n",
       "      <td>3.46</td>\n",
       "      <td>8.67</td>\n",
       "      <td>7.39</td>\n",
       "      <td>4.51</td>\n",
       "      <td>4.83</td>\n",
       "      <td>3.05</td>\n",
       "      <td>5.33</td>\n",
       "      <td>7.14</td>\n",
       "      <td>6.49</td>\n",
       "    </tr>\n",
       "    <tr>\n",
       "      <th>314</th>\n",
       "      <td>T2M_MIN</td>\n",
       "      <td>2025</td>\n",
       "      <td>14.90</td>\n",
       "      <td>15.61</td>\n",
       "      <td>15.96</td>\n",
       "      <td>16.50</td>\n",
       "      <td>-999.00</td>\n",
       "      <td>-999.00</td>\n",
       "      <td>-999.00</td>\n",
       "      <td>-999.00</td>\n",
       "      <td>...</td>\n",
       "      <td>3.11</td>\n",
       "      <td>3.59</td>\n",
       "      <td>3.88</td>\n",
       "      <td>4.41</td>\n",
       "      <td>7.01</td>\n",
       "      <td>7.00</td>\n",
       "      <td>4.37</td>\n",
       "      <td>6.18</td>\n",
       "      <td>5.78</td>\n",
       "      <td>3.11</td>\n",
       "    </tr>\n",
       "  </tbody>\n",
       "</table>\n",
       "<p>5 rows × 27 columns</p>\n",
       "</div>"
      ]
     },
     "execution_count": 7,
     "metadata": {},
     "output_type": "execute_result"
    }
   ],
   "execution_count": 7
  },
  {
   "metadata": {
    "ExecuteTime": {
     "end_time": "2025-07-05T16:41:03.678224Z",
     "start_time": "2025-07-05T16:41:03.674217Z"
    }
   },
   "cell_type": "code",
   "source": [
    "#Notamos que anno 2025 como NO ha fanilizado tiene valores -999, esto afectaria el molode\n",
    "#por lo que el grupo decide eliminar esta columna"
   ],
   "id": "dd84689011278936",
   "outputs": [],
   "execution_count": 8
  },
  {
   "metadata": {
    "ExecuteTime": {
     "end_time": "2025-07-05T16:41:05.315903Z",
     "start_time": "2025-07-05T16:41:05.311532Z"
    }
   },
   "cell_type": "code",
   "source": [
    "# Filtrar los datos para eliminar el año 2025\n",
    "df = df[df['YEAR'] != 2025]"
   ],
   "id": "513a4f3e48333ab9",
   "outputs": [],
   "execution_count": 9
  },
  {
   "metadata": {
    "ExecuteTime": {
     "end_time": "2025-07-05T16:41:07.319141Z",
     "start_time": "2025-07-05T16:41:07.310515Z"
    }
   },
   "cell_type": "code",
   "source": "df.to_csv(path+\"/df_sin_2025.csv\", index=False)",
   "id": "ece72b4879a50f48",
   "outputs": [],
   "execution_count": 10
  },
  {
   "metadata": {
    "ExecuteTime": {
     "end_time": "2025-07-05T16:41:08.232559Z",
     "start_time": "2025-07-05T16:41:08.194948Z"
    }
   },
   "cell_type": "code",
   "source": [
    "recomendador = RecomendadorClimatico(path+\"df_sin_2025.csv\", path+\"datos_con_recomendaciones_completo.csv\")\n",
    "recomendador.procesar()"
   ],
   "id": "903d83c1e91fd389",
   "outputs": [
    {
     "name": "stdout",
     "output_type": "stream",
     "text": [
      "✅ Archivo generado: ../data/raw/datos_con_recomendaciones_completo.csv\n"
     ]
    }
   ],
   "execution_count": 11
  },
  {
   "metadata": {
    "ExecuteTime": {
     "end_time": "2025-07-05T16:41:10.058450Z",
     "start_time": "2025-07-05T16:41:10.041226Z"
    }
   },
   "cell_type": "code",
   "source": [
    "#Lectura datos nuevos\n",
    "df = pd.read_csv(path+'datos_con_recomendaciones_completo.csv',encoding = \"ISO-8859-1\",delimiter=',')"
   ],
   "id": "c468ffcc931db58f",
   "outputs": [],
   "execution_count": 12
  },
  {
   "metadata": {},
   "cell_type": "code",
   "source": "# 3.Análisis de Datos (EDA) + Preprocesado",
   "id": "d49bccf4c1e257a3",
   "outputs": [],
   "execution_count": null
  },
  {
   "metadata": {
    "ExecuteTime": {
     "end_time": "2025-07-05T16:41:11.719882Z",
     "start_time": "2025-07-05T16:41:11.711038Z"
    }
   },
   "cell_type": "code",
   "source": "df.info()",
   "id": "236a61c0f07d974b",
   "outputs": [
    {
     "name": "stdout",
     "output_type": "stream",
     "text": [
      "<class 'pandas.core.frame.DataFrame'>\n",
      "RangeIndex: 528 entries, 0 to 527\n",
      "Data columns (total 8 columns):\n",
      " #   Column         Non-Null Count  Dtype  \n",
      "---  ------         --------------  -----  \n",
      " 0   YEAR           528 non-null    int64  \n",
      " 1   MONTH          528 non-null    object \n",
      " 2   lluvia_mm      528 non-null    float64\n",
      " 3   temp_max       528 non-null    float64\n",
      " 4   temp_min       528 non-null    float64\n",
      " 5   humedad        528 non-null    float64\n",
      " 6   ph_suelo       528 non-null    float64\n",
      " 7   Recomendacion  528 non-null    object \n",
      "dtypes: float64(5), int64(1), object(2)\n",
      "memory usage: 33.1+ KB\n"
     ]
    }
   ],
   "execution_count": 13
  },
  {
   "metadata": {
    "ExecuteTime": {
     "end_time": "2025-07-05T16:41:13.334549Z",
     "start_time": "2025-07-05T16:41:13.327473Z"
    }
   },
   "cell_type": "code",
   "source": "df.isnull().sum() #Verificamos si hay valores nulos en alguna columna del dataframe",
   "id": "2d9c01a866842633",
   "outputs": [
    {
     "data": {
      "text/plain": [
       "YEAR             0\n",
       "MONTH            0\n",
       "lluvia_mm        0\n",
       "temp_max         0\n",
       "temp_min         0\n",
       "humedad          0\n",
       "ph_suelo         0\n",
       "Recomendacion    0\n",
       "dtype: int64"
      ]
     },
     "execution_count": 14,
     "metadata": {},
     "output_type": "execute_result"
    }
   ],
   "execution_count": 14
  },
  {
   "metadata": {
    "ExecuteTime": {
     "end_time": "2025-07-05T16:41:15.391487Z",
     "start_time": "2025-07-05T16:41:15.368777Z"
    }
   },
   "cell_type": "code",
   "source": "df.describe().transpose()",
   "id": "e26b0ca93e7509f9",
   "outputs": [
    {
     "data": {
      "text/plain": [
       "           count         mean        std      min        25%       50%  \\\n",
       "YEAR       528.0  2002.500000  12.710467  1981.00  1991.7500  2002.500   \n",
       "lluvia_mm  528.0     5.246534   3.767827     0.02     2.4450     4.700   \n",
       "temp_max   528.0    26.288277   1.649643    23.34    25.1700    25.950   \n",
       "temp_min   528.0    15.276458   1.118109    11.92    14.5800    15.300   \n",
       "humedad    528.0    88.266098   4.373132    73.32    85.9525    89.555   \n",
       "ph_suelo   528.0     5.953409   1.759637     3.01     4.4675     5.955   \n",
       "\n",
       "                75%      max  \n",
       "YEAR       2013.250  2024.00  \n",
       "lluvia_mm     7.240    25.99  \n",
       "temp_max     27.015    31.78  \n",
       "temp_min     16.080    18.14  \n",
       "humedad      91.385    94.48  \n",
       "ph_suelo      7.470     8.99  "
      ],
      "text/html": [
       "<div>\n",
       "<style scoped>\n",
       "    .dataframe tbody tr th:only-of-type {\n",
       "        vertical-align: middle;\n",
       "    }\n",
       "\n",
       "    .dataframe tbody tr th {\n",
       "        vertical-align: top;\n",
       "    }\n",
       "\n",
       "    .dataframe thead th {\n",
       "        text-align: right;\n",
       "    }\n",
       "</style>\n",
       "<table border=\"1\" class=\"dataframe\">\n",
       "  <thead>\n",
       "    <tr style=\"text-align: right;\">\n",
       "      <th></th>\n",
       "      <th>count</th>\n",
       "      <th>mean</th>\n",
       "      <th>std</th>\n",
       "      <th>min</th>\n",
       "      <th>25%</th>\n",
       "      <th>50%</th>\n",
       "      <th>75%</th>\n",
       "      <th>max</th>\n",
       "    </tr>\n",
       "  </thead>\n",
       "  <tbody>\n",
       "    <tr>\n",
       "      <th>YEAR</th>\n",
       "      <td>528.0</td>\n",
       "      <td>2002.500000</td>\n",
       "      <td>12.710467</td>\n",
       "      <td>1981.00</td>\n",
       "      <td>1991.7500</td>\n",
       "      <td>2002.500</td>\n",
       "      <td>2013.250</td>\n",
       "      <td>2024.00</td>\n",
       "    </tr>\n",
       "    <tr>\n",
       "      <th>lluvia_mm</th>\n",
       "      <td>528.0</td>\n",
       "      <td>5.246534</td>\n",
       "      <td>3.767827</td>\n",
       "      <td>0.02</td>\n",
       "      <td>2.4450</td>\n",
       "      <td>4.700</td>\n",
       "      <td>7.240</td>\n",
       "      <td>25.99</td>\n",
       "    </tr>\n",
       "    <tr>\n",
       "      <th>temp_max</th>\n",
       "      <td>528.0</td>\n",
       "      <td>26.288277</td>\n",
       "      <td>1.649643</td>\n",
       "      <td>23.34</td>\n",
       "      <td>25.1700</td>\n",
       "      <td>25.950</td>\n",
       "      <td>27.015</td>\n",
       "      <td>31.78</td>\n",
       "    </tr>\n",
       "    <tr>\n",
       "      <th>temp_min</th>\n",
       "      <td>528.0</td>\n",
       "      <td>15.276458</td>\n",
       "      <td>1.118109</td>\n",
       "      <td>11.92</td>\n",
       "      <td>14.5800</td>\n",
       "      <td>15.300</td>\n",
       "      <td>16.080</td>\n",
       "      <td>18.14</td>\n",
       "    </tr>\n",
       "    <tr>\n",
       "      <th>humedad</th>\n",
       "      <td>528.0</td>\n",
       "      <td>88.266098</td>\n",
       "      <td>4.373132</td>\n",
       "      <td>73.32</td>\n",
       "      <td>85.9525</td>\n",
       "      <td>89.555</td>\n",
       "      <td>91.385</td>\n",
       "      <td>94.48</td>\n",
       "    </tr>\n",
       "    <tr>\n",
       "      <th>ph_suelo</th>\n",
       "      <td>528.0</td>\n",
       "      <td>5.953409</td>\n",
       "      <td>1.759637</td>\n",
       "      <td>3.01</td>\n",
       "      <td>4.4675</td>\n",
       "      <td>5.955</td>\n",
       "      <td>7.470</td>\n",
       "      <td>8.99</td>\n",
       "    </tr>\n",
       "  </tbody>\n",
       "</table>\n",
       "</div>"
      ]
     },
     "execution_count": 15,
     "metadata": {},
     "output_type": "execute_result"
    }
   ],
   "execution_count": 15
  },
  {
   "metadata": {
    "ExecuteTime": {
     "end_time": "2025-07-05T16:41:17.159059Z",
     "start_time": "2025-07-05T16:41:17.146727Z"
    }
   },
   "cell_type": "code",
   "source": "df",
   "id": "d73131132ccae6d2",
   "outputs": [
    {
     "data": {
      "text/plain": [
       "     YEAR MONTH  lluvia_mm  temp_max  temp_min  humedad  ph_suelo  \\\n",
       "0    1981   JAN       2.64     23.90     14.19    88.79      3.49   \n",
       "1    1982   JAN       3.30     24.54     14.02    89.43      5.85   \n",
       "2    1983   JAN       1.38     26.13     15.75    88.61      4.38   \n",
       "3    1984   JAN       0.69     23.68     13.14    87.41      4.84   \n",
       "4    1985   JAN       1.94     23.45     14.37    86.96      8.22   \n",
       "..    ...   ...        ...       ...       ...      ...       ...   \n",
       "523  2020   DEC      10.77     24.26     13.57    91.87      6.59   \n",
       "524  2021   DEC       4.18     24.62     16.47    91.61      4.79   \n",
       "525  2022   DEC       3.39     24.12     15.47    90.88      6.06   \n",
       "526  2023   DEC       4.84     25.70     16.68    91.62      4.80   \n",
       "527  2024   DEC       7.89     24.69     16.22    93.15      5.66   \n",
       "\n",
       "     Recomendacion  \n",
       "0    fertilizacion  \n",
       "1          ninguna  \n",
       "2    fertilizacion  \n",
       "3    fertilizacion  \n",
       "4          ninguna  \n",
       "..             ...  \n",
       "523        ninguna  \n",
       "524  fertilizacion  \n",
       "525        ninguna  \n",
       "526  fertilizacion  \n",
       "527        ninguna  \n",
       "\n",
       "[528 rows x 8 columns]"
      ],
      "text/html": [
       "<div>\n",
       "<style scoped>\n",
       "    .dataframe tbody tr th:only-of-type {\n",
       "        vertical-align: middle;\n",
       "    }\n",
       "\n",
       "    .dataframe tbody tr th {\n",
       "        vertical-align: top;\n",
       "    }\n",
       "\n",
       "    .dataframe thead th {\n",
       "        text-align: right;\n",
       "    }\n",
       "</style>\n",
       "<table border=\"1\" class=\"dataframe\">\n",
       "  <thead>\n",
       "    <tr style=\"text-align: right;\">\n",
       "      <th></th>\n",
       "      <th>YEAR</th>\n",
       "      <th>MONTH</th>\n",
       "      <th>lluvia_mm</th>\n",
       "      <th>temp_max</th>\n",
       "      <th>temp_min</th>\n",
       "      <th>humedad</th>\n",
       "      <th>ph_suelo</th>\n",
       "      <th>Recomendacion</th>\n",
       "    </tr>\n",
       "  </thead>\n",
       "  <tbody>\n",
       "    <tr>\n",
       "      <th>0</th>\n",
       "      <td>1981</td>\n",
       "      <td>JAN</td>\n",
       "      <td>2.64</td>\n",
       "      <td>23.90</td>\n",
       "      <td>14.19</td>\n",
       "      <td>88.79</td>\n",
       "      <td>3.49</td>\n",
       "      <td>fertilizacion</td>\n",
       "    </tr>\n",
       "    <tr>\n",
       "      <th>1</th>\n",
       "      <td>1982</td>\n",
       "      <td>JAN</td>\n",
       "      <td>3.30</td>\n",
       "      <td>24.54</td>\n",
       "      <td>14.02</td>\n",
       "      <td>89.43</td>\n",
       "      <td>5.85</td>\n",
       "      <td>ninguna</td>\n",
       "    </tr>\n",
       "    <tr>\n",
       "      <th>2</th>\n",
       "      <td>1983</td>\n",
       "      <td>JAN</td>\n",
       "      <td>1.38</td>\n",
       "      <td>26.13</td>\n",
       "      <td>15.75</td>\n",
       "      <td>88.61</td>\n",
       "      <td>4.38</td>\n",
       "      <td>fertilizacion</td>\n",
       "    </tr>\n",
       "    <tr>\n",
       "      <th>3</th>\n",
       "      <td>1984</td>\n",
       "      <td>JAN</td>\n",
       "      <td>0.69</td>\n",
       "      <td>23.68</td>\n",
       "      <td>13.14</td>\n",
       "      <td>87.41</td>\n",
       "      <td>4.84</td>\n",
       "      <td>fertilizacion</td>\n",
       "    </tr>\n",
       "    <tr>\n",
       "      <th>4</th>\n",
       "      <td>1985</td>\n",
       "      <td>JAN</td>\n",
       "      <td>1.94</td>\n",
       "      <td>23.45</td>\n",
       "      <td>14.37</td>\n",
       "      <td>86.96</td>\n",
       "      <td>8.22</td>\n",
       "      <td>ninguna</td>\n",
       "    </tr>\n",
       "    <tr>\n",
       "      <th>...</th>\n",
       "      <td>...</td>\n",
       "      <td>...</td>\n",
       "      <td>...</td>\n",
       "      <td>...</td>\n",
       "      <td>...</td>\n",
       "      <td>...</td>\n",
       "      <td>...</td>\n",
       "      <td>...</td>\n",
       "    </tr>\n",
       "    <tr>\n",
       "      <th>523</th>\n",
       "      <td>2020</td>\n",
       "      <td>DEC</td>\n",
       "      <td>10.77</td>\n",
       "      <td>24.26</td>\n",
       "      <td>13.57</td>\n",
       "      <td>91.87</td>\n",
       "      <td>6.59</td>\n",
       "      <td>ninguna</td>\n",
       "    </tr>\n",
       "    <tr>\n",
       "      <th>524</th>\n",
       "      <td>2021</td>\n",
       "      <td>DEC</td>\n",
       "      <td>4.18</td>\n",
       "      <td>24.62</td>\n",
       "      <td>16.47</td>\n",
       "      <td>91.61</td>\n",
       "      <td>4.79</td>\n",
       "      <td>fertilizacion</td>\n",
       "    </tr>\n",
       "    <tr>\n",
       "      <th>525</th>\n",
       "      <td>2022</td>\n",
       "      <td>DEC</td>\n",
       "      <td>3.39</td>\n",
       "      <td>24.12</td>\n",
       "      <td>15.47</td>\n",
       "      <td>90.88</td>\n",
       "      <td>6.06</td>\n",
       "      <td>ninguna</td>\n",
       "    </tr>\n",
       "    <tr>\n",
       "      <th>526</th>\n",
       "      <td>2023</td>\n",
       "      <td>DEC</td>\n",
       "      <td>4.84</td>\n",
       "      <td>25.70</td>\n",
       "      <td>16.68</td>\n",
       "      <td>91.62</td>\n",
       "      <td>4.80</td>\n",
       "      <td>fertilizacion</td>\n",
       "    </tr>\n",
       "    <tr>\n",
       "      <th>527</th>\n",
       "      <td>2024</td>\n",
       "      <td>DEC</td>\n",
       "      <td>7.89</td>\n",
       "      <td>24.69</td>\n",
       "      <td>16.22</td>\n",
       "      <td>93.15</td>\n",
       "      <td>5.66</td>\n",
       "      <td>ninguna</td>\n",
       "    </tr>\n",
       "  </tbody>\n",
       "</table>\n",
       "<p>528 rows × 8 columns</p>\n",
       "</div>"
      ]
     },
     "execution_count": 16,
     "metadata": {},
     "output_type": "execute_result"
    }
   ],
   "execution_count": 16
  },
  {
   "metadata": {
    "ExecuteTime": {
     "end_time": "2025-07-05T16:41:18.725802Z",
     "start_time": "2025-07-05T16:41:18.721645Z"
    }
   },
   "cell_type": "code",
   "source": [
    "#Transformaciones\n",
    "\n",
    "#riego:1\n",
    "#fertilizacion: 2\n",
    "#poda_preventiva: 3"
   ],
   "id": "eb5fba6f1cddc41c",
   "outputs": [],
   "execution_count": 17
  },
  {
   "metadata": {
    "ExecuteTime": {
     "end_time": "2025-07-05T16:41:20.932802Z",
     "start_time": "2025-07-05T16:41:20.918824Z"
    }
   },
   "cell_type": "code",
   "source": [
    "transformador = Transformaciones()\n",
    "transformador.recomendacion_num(df)"
   ],
   "id": "821721b7751c44e9",
   "outputs": [
    {
     "data": {
      "text/plain": [
       "     YEAR MONTH  lluvia_mm  temp_max  temp_min  humedad  ph_suelo  \\\n",
       "0    1981   JAN       2.64     23.90     14.19    88.79      3.49   \n",
       "1    1982   JAN       3.30     24.54     14.02    89.43      5.85   \n",
       "2    1983   JAN       1.38     26.13     15.75    88.61      4.38   \n",
       "3    1984   JAN       0.69     23.68     13.14    87.41      4.84   \n",
       "4    1985   JAN       1.94     23.45     14.37    86.96      8.22   \n",
       "..    ...   ...        ...       ...       ...      ...       ...   \n",
       "523  2020   DEC      10.77     24.26     13.57    91.87      6.59   \n",
       "524  2021   DEC       4.18     24.62     16.47    91.61      4.79   \n",
       "525  2022   DEC       3.39     24.12     15.47    90.88      6.06   \n",
       "526  2023   DEC       4.84     25.70     16.68    91.62      4.80   \n",
       "527  2024   DEC       7.89     24.69     16.22    93.15      5.66   \n",
       "\n",
       "     Recomendacion  \n",
       "0              2.0  \n",
       "1              NaN  \n",
       "2              2.0  \n",
       "3              2.0  \n",
       "4              NaN  \n",
       "..             ...  \n",
       "523            NaN  \n",
       "524            2.0  \n",
       "525            NaN  \n",
       "526            2.0  \n",
       "527            NaN  \n",
       "\n",
       "[528 rows x 8 columns]"
      ],
      "text/html": [
       "<div>\n",
       "<style scoped>\n",
       "    .dataframe tbody tr th:only-of-type {\n",
       "        vertical-align: middle;\n",
       "    }\n",
       "\n",
       "    .dataframe tbody tr th {\n",
       "        vertical-align: top;\n",
       "    }\n",
       "\n",
       "    .dataframe thead th {\n",
       "        text-align: right;\n",
       "    }\n",
       "</style>\n",
       "<table border=\"1\" class=\"dataframe\">\n",
       "  <thead>\n",
       "    <tr style=\"text-align: right;\">\n",
       "      <th></th>\n",
       "      <th>YEAR</th>\n",
       "      <th>MONTH</th>\n",
       "      <th>lluvia_mm</th>\n",
       "      <th>temp_max</th>\n",
       "      <th>temp_min</th>\n",
       "      <th>humedad</th>\n",
       "      <th>ph_suelo</th>\n",
       "      <th>Recomendacion</th>\n",
       "    </tr>\n",
       "  </thead>\n",
       "  <tbody>\n",
       "    <tr>\n",
       "      <th>0</th>\n",
       "      <td>1981</td>\n",
       "      <td>JAN</td>\n",
       "      <td>2.64</td>\n",
       "      <td>23.90</td>\n",
       "      <td>14.19</td>\n",
       "      <td>88.79</td>\n",
       "      <td>3.49</td>\n",
       "      <td>2.0</td>\n",
       "    </tr>\n",
       "    <tr>\n",
       "      <th>1</th>\n",
       "      <td>1982</td>\n",
       "      <td>JAN</td>\n",
       "      <td>3.30</td>\n",
       "      <td>24.54</td>\n",
       "      <td>14.02</td>\n",
       "      <td>89.43</td>\n",
       "      <td>5.85</td>\n",
       "      <td>NaN</td>\n",
       "    </tr>\n",
       "    <tr>\n",
       "      <th>2</th>\n",
       "      <td>1983</td>\n",
       "      <td>JAN</td>\n",
       "      <td>1.38</td>\n",
       "      <td>26.13</td>\n",
       "      <td>15.75</td>\n",
       "      <td>88.61</td>\n",
       "      <td>4.38</td>\n",
       "      <td>2.0</td>\n",
       "    </tr>\n",
       "    <tr>\n",
       "      <th>3</th>\n",
       "      <td>1984</td>\n",
       "      <td>JAN</td>\n",
       "      <td>0.69</td>\n",
       "      <td>23.68</td>\n",
       "      <td>13.14</td>\n",
       "      <td>87.41</td>\n",
       "      <td>4.84</td>\n",
       "      <td>2.0</td>\n",
       "    </tr>\n",
       "    <tr>\n",
       "      <th>4</th>\n",
       "      <td>1985</td>\n",
       "      <td>JAN</td>\n",
       "      <td>1.94</td>\n",
       "      <td>23.45</td>\n",
       "      <td>14.37</td>\n",
       "      <td>86.96</td>\n",
       "      <td>8.22</td>\n",
       "      <td>NaN</td>\n",
       "    </tr>\n",
       "    <tr>\n",
       "      <th>...</th>\n",
       "      <td>...</td>\n",
       "      <td>...</td>\n",
       "      <td>...</td>\n",
       "      <td>...</td>\n",
       "      <td>...</td>\n",
       "      <td>...</td>\n",
       "      <td>...</td>\n",
       "      <td>...</td>\n",
       "    </tr>\n",
       "    <tr>\n",
       "      <th>523</th>\n",
       "      <td>2020</td>\n",
       "      <td>DEC</td>\n",
       "      <td>10.77</td>\n",
       "      <td>24.26</td>\n",
       "      <td>13.57</td>\n",
       "      <td>91.87</td>\n",
       "      <td>6.59</td>\n",
       "      <td>NaN</td>\n",
       "    </tr>\n",
       "    <tr>\n",
       "      <th>524</th>\n",
       "      <td>2021</td>\n",
       "      <td>DEC</td>\n",
       "      <td>4.18</td>\n",
       "      <td>24.62</td>\n",
       "      <td>16.47</td>\n",
       "      <td>91.61</td>\n",
       "      <td>4.79</td>\n",
       "      <td>2.0</td>\n",
       "    </tr>\n",
       "    <tr>\n",
       "      <th>525</th>\n",
       "      <td>2022</td>\n",
       "      <td>DEC</td>\n",
       "      <td>3.39</td>\n",
       "      <td>24.12</td>\n",
       "      <td>15.47</td>\n",
       "      <td>90.88</td>\n",
       "      <td>6.06</td>\n",
       "      <td>NaN</td>\n",
       "    </tr>\n",
       "    <tr>\n",
       "      <th>526</th>\n",
       "      <td>2023</td>\n",
       "      <td>DEC</td>\n",
       "      <td>4.84</td>\n",
       "      <td>25.70</td>\n",
       "      <td>16.68</td>\n",
       "      <td>91.62</td>\n",
       "      <td>4.80</td>\n",
       "      <td>2.0</td>\n",
       "    </tr>\n",
       "    <tr>\n",
       "      <th>527</th>\n",
       "      <td>2024</td>\n",
       "      <td>DEC</td>\n",
       "      <td>7.89</td>\n",
       "      <td>24.69</td>\n",
       "      <td>16.22</td>\n",
       "      <td>93.15</td>\n",
       "      <td>5.66</td>\n",
       "      <td>NaN</td>\n",
       "    </tr>\n",
       "  </tbody>\n",
       "</table>\n",
       "<p>528 rows × 8 columns</p>\n",
       "</div>"
      ]
     },
     "execution_count": 18,
     "metadata": {},
     "output_type": "execute_result"
    }
   ],
   "execution_count": 18
  },
  {
   "metadata": {},
   "cell_type": "code",
   "source": "#Plots",
   "id": "5deb089c5e6276d4",
   "outputs": [],
   "execution_count": null
  },
  {
   "metadata": {
    "ExecuteTime": {
     "end_time": "2025-07-05T16:41:23.333595Z",
     "start_time": "2025-07-05T16:41:23.245415Z"
    }
   },
   "cell_type": "code",
   "source": [
    "#Verificar si hay una proporción equilibrada entre los diferentes valores de la variable objetivo para un buen modelado posterior\n",
    "sns.countplot(x='Recomendacion',data=df)"
   ],
   "id": "3ae0e023901a4de3",
   "outputs": [
    {
     "data": {
      "text/plain": [
       "<Axes: xlabel='Recomendacion', ylabel='count'>"
      ]
     },
     "execution_count": 19,
     "metadata": {},
     "output_type": "execute_result"
    },
    {
     "data": {
      "text/plain": [
       "<Figure size 640x480 with 1 Axes>"
      ],
      "image/png": "[encoded data removed]"
     },
     "metadata": {},
     "output_type": "display_data"
    }
   ],
   "execution_count": 19
  },
  {
   "metadata": {
    "ExecuteTime": {
     "end_time": "2025-07-05T16:41:28.732474Z",
     "start_time": "2025-07-05T16:41:28.521998Z"
    }
   },
   "cell_type": "code",
   "source": [
    "plt.figure(figsize=(17,12))\n",
    "sns.heatmap(df.corr(numeric_only = True),annot=True,cmap='viridis')\n",
    "plt.ylim(10, 0)"
   ],
   "id": "34809971ff03981e",
   "outputs": [
    {
     "data": {
      "text/plain": [
       "(10.0, 0.0)"
      ]
     },
     "execution_count": 20,
     "metadata": {},
     "output_type": "execute_result"
    },
    {
     "data": {
      "text/plain": [
       "<Figure size 1700x1200 with 2 Axes>"
      ],
      "image/png": "[encoded data removed]"
     },
     "metadata": {},
     "output_type": "display_data"
    }
   ],
   "execution_count": 20
  },
  {
   "metadata": {
    "ExecuteTime": {
     "end_time": "2025-07-05T16:41:31.363752Z",
     "start_time": "2025-07-05T16:41:31.355669Z"
    }
   },
   "cell_type": "code",
   "source": "df.corr(numeric_only = True)['Recomendacion'].sort_values()",
   "id": "3127bf895ab7e97e",
   "outputs": [
    {
     "data": {
      "text/plain": [
       "temp_max        -0.585708\n",
       "ph_suelo        -0.352320\n",
       "temp_min         0.025427\n",
       "YEAR             0.131099\n",
       "lluvia_mm        0.266187\n",
       "humedad          0.504286\n",
       "Recomendacion    1.000000\n",
       "Name: Recomendacion, dtype: float64"
      ]
     },
     "execution_count": 21,
     "metadata": {},
     "output_type": "execute_result"
    }
   ],
   "execution_count": 21
  },
  {
   "metadata": {
    "ExecuteTime": {
     "end_time": "2025-07-05T16:41:34.262351Z",
     "start_time": "2025-07-05T16:41:34.158737Z"
    }
   },
   "cell_type": "code",
   "source": "df.corr(numeric_only = True)['Recomendacion'].sort_values().plot(kind='bar')",
   "id": "a92c41ac2d8f9718",
   "outputs": [
    {
     "data": {
      "text/plain": [
       "<Axes: >"
      ]
     },
     "execution_count": 22,
     "metadata": {},
     "output_type": "execute_result"
    },
    {
     "data": {
      "text/plain": [
       "<Figure size 640x480 with 1 Axes>"
      ],
      "image/png": "[encoded data removed]"
     },
     "metadata": {},
     "output_type": "display_data"
    }
   ],
   "execution_count": 22
  },
  {
   "metadata": {},
   "cell_type": "code",
   "source": "",
   "id": "6d3657b9f36f71d3",
   "outputs": [],
   "execution_count": null
  }
 ],
 "metadata": {},
 "nbformat": 4,
 "nbformat_minor": 5
}
